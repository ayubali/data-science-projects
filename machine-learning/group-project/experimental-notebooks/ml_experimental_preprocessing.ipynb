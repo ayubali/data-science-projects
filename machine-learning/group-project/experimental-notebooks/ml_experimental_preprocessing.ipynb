{
 "cells": [
  {
   "cell_type": "markdown",
   "metadata": {},
   "source": [
    "# Data Preparation"
   ]
  },
  {
   "cell_type": "markdown",
   "metadata": {},
   "source": [
    "In this section, we load the data, inspect missing values, convert data type, convert target to numerical"
   ]
  },
  {
   "cell_type": "code",
   "execution_count": 1,
   "metadata": {},
   "outputs": [],
   "source": [
    "import numpy as np\n",
    "import pandas as pd\n",
    "import json\n",
    "from sklearn import preprocessing\n",
    "from sklearn.linear_model import LogisticRegression\n",
    "from sklearn.model_selection import train_test_split"
   ]
  },
  {
   "cell_type": "markdown",
   "metadata": {},
   "source": [
    "# Load Data"
   ]
  },
  {
   "cell_type": "code",
   "execution_count": 199,
   "metadata": {},
   "outputs": [],
   "source": [
    "def read_data(path):\n",
    "    '''\n",
    "    this function will read the txt file which is a line-delimited json file and produce a pandas dataframe.\n",
    "    \n",
    "    '''\n",
    "    my_list =[]\n",
    "    with open(path) as f:\n",
    "        for line in f:\n",
    "            json_content = json.loads(line)\n",
    "            my_list.append(json_content)\n",
    "    #df = pd.DataFrame(my_list) \n",
    "    return(pd.DataFrame(my_list))\n",
    "    "
   ]
  },
  {
   "cell_type": "code",
   "execution_count": 200,
   "metadata": {},
   "outputs": [],
   "source": [
    "df = read_data('transactions.txt')"
   ]
  },
  {
   "cell_type": "code",
   "execution_count": 201,
   "metadata": {},
   "outputs": [
    {
     "data": {
      "text/html": [
       "<div>\n",
       "<style scoped>\n",
       "    .dataframe tbody tr th:only-of-type {\n",
       "        vertical-align: middle;\n",
       "    }\n",
       "\n",
       "    .dataframe tbody tr th {\n",
       "        vertical-align: top;\n",
       "    }\n",
       "\n",
       "    .dataframe thead th {\n",
       "        text-align: right;\n",
       "    }\n",
       "</style>\n",
       "<table border=\"1\" class=\"dataframe\">\n",
       "  <thead>\n",
       "    <tr style=\"text-align: right;\">\n",
       "      <th></th>\n",
       "      <th>accountNumber</th>\n",
       "      <th>accountOpenDate</th>\n",
       "      <th>acqCountry</th>\n",
       "      <th>availableMoney</th>\n",
       "      <th>cardCVV</th>\n",
       "      <th>cardLast4Digits</th>\n",
       "      <th>cardPresent</th>\n",
       "      <th>creditLimit</th>\n",
       "      <th>currentBalance</th>\n",
       "      <th>currentExpDate</th>\n",
       "      <th>...</th>\n",
       "      <th>merchantName</th>\n",
       "      <th>merchantState</th>\n",
       "      <th>merchantZip</th>\n",
       "      <th>posConditionCode</th>\n",
       "      <th>posEntryMode</th>\n",
       "      <th>posOnPremises</th>\n",
       "      <th>recurringAuthInd</th>\n",
       "      <th>transactionAmount</th>\n",
       "      <th>transactionDateTime</th>\n",
       "      <th>transactionType</th>\n",
       "    </tr>\n",
       "  </thead>\n",
       "  <tbody>\n",
       "    <tr>\n",
       "      <th>0</th>\n",
       "      <td>733493772</td>\n",
       "      <td>2014-08-03</td>\n",
       "      <td>US</td>\n",
       "      <td>5000.00</td>\n",
       "      <td>492</td>\n",
       "      <td>9184</td>\n",
       "      <td>False</td>\n",
       "      <td>5000.0</td>\n",
       "      <td>0.00</td>\n",
       "      <td>04/2020</td>\n",
       "      <td>...</td>\n",
       "      <td>Lyft</td>\n",
       "      <td></td>\n",
       "      <td></td>\n",
       "      <td>01</td>\n",
       "      <td>05</td>\n",
       "      <td></td>\n",
       "      <td></td>\n",
       "      <td>111.33</td>\n",
       "      <td>2016-01-08T19:04:50</td>\n",
       "      <td>PURCHASE</td>\n",
       "    </tr>\n",
       "    <tr>\n",
       "      <th>1</th>\n",
       "      <td>733493772</td>\n",
       "      <td>2014-08-03</td>\n",
       "      <td>US</td>\n",
       "      <td>4888.67</td>\n",
       "      <td>492</td>\n",
       "      <td>9184</td>\n",
       "      <td>False</td>\n",
       "      <td>5000.0</td>\n",
       "      <td>111.33</td>\n",
       "      <td>06/2023</td>\n",
       "      <td>...</td>\n",
       "      <td>Uber</td>\n",
       "      <td></td>\n",
       "      <td></td>\n",
       "      <td>01</td>\n",
       "      <td>09</td>\n",
       "      <td></td>\n",
       "      <td></td>\n",
       "      <td>24.75</td>\n",
       "      <td>2016-01-09T22:32:39</td>\n",
       "      <td>PURCHASE</td>\n",
       "    </tr>\n",
       "    <tr>\n",
       "      <th>2</th>\n",
       "      <td>733493772</td>\n",
       "      <td>2014-08-03</td>\n",
       "      <td>US</td>\n",
       "      <td>4863.92</td>\n",
       "      <td>492</td>\n",
       "      <td>9184</td>\n",
       "      <td>False</td>\n",
       "      <td>5000.0</td>\n",
       "      <td>136.08</td>\n",
       "      <td>12/2027</td>\n",
       "      <td>...</td>\n",
       "      <td>Lyft</td>\n",
       "      <td></td>\n",
       "      <td></td>\n",
       "      <td>01</td>\n",
       "      <td>05</td>\n",
       "      <td></td>\n",
       "      <td></td>\n",
       "      <td>187.40</td>\n",
       "      <td>2016-01-11T13:36:55</td>\n",
       "      <td>PURCHASE</td>\n",
       "    </tr>\n",
       "    <tr>\n",
       "      <th>3</th>\n",
       "      <td>733493772</td>\n",
       "      <td>2014-08-03</td>\n",
       "      <td>US</td>\n",
       "      <td>4676.52</td>\n",
       "      <td>492</td>\n",
       "      <td>9184</td>\n",
       "      <td>False</td>\n",
       "      <td>5000.0</td>\n",
       "      <td>323.48</td>\n",
       "      <td>09/2029</td>\n",
       "      <td>...</td>\n",
       "      <td>Lyft</td>\n",
       "      <td></td>\n",
       "      <td></td>\n",
       "      <td>01</td>\n",
       "      <td>02</td>\n",
       "      <td></td>\n",
       "      <td></td>\n",
       "      <td>227.34</td>\n",
       "      <td>2016-01-11T22:47:46</td>\n",
       "      <td>PURCHASE</td>\n",
       "    </tr>\n",
       "    <tr>\n",
       "      <th>4</th>\n",
       "      <td>733493772</td>\n",
       "      <td>2014-08-03</td>\n",
       "      <td>US</td>\n",
       "      <td>4449.18</td>\n",
       "      <td>492</td>\n",
       "      <td>9184</td>\n",
       "      <td>False</td>\n",
       "      <td>5000.0</td>\n",
       "      <td>550.82</td>\n",
       "      <td>10/2024</td>\n",
       "      <td>...</td>\n",
       "      <td>Lyft</td>\n",
       "      <td></td>\n",
       "      <td></td>\n",
       "      <td>01</td>\n",
       "      <td>02</td>\n",
       "      <td></td>\n",
       "      <td></td>\n",
       "      <td>0.00</td>\n",
       "      <td>2016-01-16T01:41:11</td>\n",
       "      <td>ADDRESS_VERIFICATION</td>\n",
       "    </tr>\n",
       "  </tbody>\n",
       "</table>\n",
       "<p>5 rows × 29 columns</p>\n",
       "</div>"
      ],
      "text/plain": [
       "  accountNumber accountOpenDate acqCountry  availableMoney cardCVV  \\\n",
       "0     733493772      2014-08-03         US         5000.00     492   \n",
       "1     733493772      2014-08-03         US         4888.67     492   \n",
       "2     733493772      2014-08-03         US         4863.92     492   \n",
       "3     733493772      2014-08-03         US         4676.52     492   \n",
       "4     733493772      2014-08-03         US         4449.18     492   \n",
       "\n",
       "  cardLast4Digits  cardPresent  creditLimit  currentBalance currentExpDate  \\\n",
       "0            9184        False       5000.0            0.00        04/2020   \n",
       "1            9184        False       5000.0          111.33        06/2023   \n",
       "2            9184        False       5000.0          136.08        12/2027   \n",
       "3            9184        False       5000.0          323.48        09/2029   \n",
       "4            9184        False       5000.0          550.82        10/2024   \n",
       "\n",
       "   ... merchantName merchantState merchantZip posConditionCode  posEntryMode  \\\n",
       "0  ...         Lyft                                         01            05   \n",
       "1  ...         Uber                                         01            09   \n",
       "2  ...         Lyft                                         01            05   \n",
       "3  ...         Lyft                                         01            02   \n",
       "4  ...         Lyft                                         01            02   \n",
       "\n",
       "   posOnPremises recurringAuthInd transactionAmount  transactionDateTime  \\\n",
       "0                                            111.33  2016-01-08T19:04:50   \n",
       "1                                             24.75  2016-01-09T22:32:39   \n",
       "2                                            187.40  2016-01-11T13:36:55   \n",
       "3                                            227.34  2016-01-11T22:47:46   \n",
       "4                                              0.00  2016-01-16T01:41:11   \n",
       "\n",
       "        transactionType  \n",
       "0              PURCHASE  \n",
       "1              PURCHASE  \n",
       "2              PURCHASE  \n",
       "3              PURCHASE  \n",
       "4  ADDRESS_VERIFICATION  \n",
       "\n",
       "[5 rows x 29 columns]"
      ]
     },
     "execution_count": 201,
     "metadata": {},
     "output_type": "execute_result"
    }
   ],
   "source": [
    "df.head()"
   ]
  },
  {
   "cell_type": "code",
   "execution_count": 104,
   "metadata": {},
   "outputs": [
    {
     "data": {
      "text/plain": [
       "(641914, 29)"
      ]
     },
     "execution_count": 104,
     "metadata": {},
     "output_type": "execute_result"
    }
   ],
   "source": [
    "df.shape\n"
   ]
  },
  {
   "cell_type": "markdown",
   "metadata": {},
   "source": [
    "###### This dataset has 641914 records(observations) and 29 features."
   ]
  },
  {
   "cell_type": "code",
   "execution_count": 105,
   "metadata": {},
   "outputs": [],
   "source": [
    "df.replace(r'^\\s*$', np.nan, regex=True, inplace=True) # Replacing blank values with nan. "
   ]
  },
  {
   "cell_type": "markdown",
   "metadata": {},
   "source": [
    "# Exploratory Data Analysis"
   ]
  },
  {
   "cell_type": "markdown",
   "metadata": {},
   "source": [
    "The info would give us a quick description of the data, \n",
    "in particular the total number of observations, and each \n",
    "attribute's type and number of non-null values.\n",
    "There are 641914 instances in the dataset. "
   ]
  },
  {
   "cell_type": "code",
   "execution_count": 106,
   "metadata": {
    "scrolled": true
   },
   "outputs": [
    {
     "name": "stdout",
     "output_type": "stream",
     "text": [
      "<class 'pandas.core.frame.DataFrame'>\n",
      "RangeIndex: 641914 entries, 0 to 641913\n",
      "Data columns (total 29 columns):\n",
      "accountNumber               641914 non-null object\n",
      "accountOpenDate             641914 non-null object\n",
      "acqCountry                  638001 non-null object\n",
      "availableMoney              641914 non-null float64\n",
      "cardCVV                     641914 non-null object\n",
      "cardLast4Digits             641914 non-null object\n",
      "cardPresent                 641914 non-null bool\n",
      "creditLimit                 641914 non-null float64\n",
      "currentBalance              641914 non-null float64\n",
      "currentExpDate              641914 non-null object\n",
      "customerId                  641914 non-null object\n",
      "dateOfLastAddressChange     641914 non-null object\n",
      "echoBuffer                  0 non-null float64\n",
      "enteredCVV                  641914 non-null object\n",
      "expirationDateKeyInMatch    641914 non-null bool\n",
      "isFraud                     641914 non-null bool\n",
      "merchantCategoryCode        641914 non-null object\n",
      "merchantCity                0 non-null float64\n",
      "merchantCountryCode         641290 non-null object\n",
      "merchantName                641914 non-null object\n",
      "merchantState               0 non-null float64\n",
      "merchantZip                 0 non-null float64\n",
      "posConditionCode            641627 non-null object\n",
      "posEntryMode                638569 non-null object\n",
      "posOnPremises               0 non-null float64\n",
      "recurringAuthInd            0 non-null float64\n",
      "transactionAmount           641914 non-null float64\n",
      "transactionDateTime         641914 non-null object\n",
      "transactionType             641325 non-null object\n",
      "dtypes: bool(3), float64(10), object(16)\n",
      "memory usage: 129.2+ MB\n"
     ]
    }
   ],
   "source": [
    "df.info() "
   ]
  },
  {
   "cell_type": "markdown",
   "metadata": {},
   "source": [
    "### Observations:"
   ]
  },
  {
   "cell_type": "markdown",
   "metadata": {},
   "source": [
    "There are 641914 instances in the dataset. We have some numerical attributes like 'availableMoney', 'creditLimit', and some categorical attributes like 'merchantCategoryCode', 'merchantName'. We have few attributes which totally have missing values. These attributes are:\n",
    "\n",
    "- echoBuffer  \n",
    "- merchantCity\n",
    "- merchantState\n",
    "- merchantZip\n",
    "- posOnPremises\n",
    "- recurringAuthInd\n",
    " \n",
    "\n",
    "We can drop these columns. Some attributes like 'acqCountry' has around 3913 missing values. first, We need to handle these missing values."
   ]
  },
  {
   "cell_type": "markdown",
   "metadata": {},
   "source": [
    "### handeling missing values\n",
    "\n",
    "We have few options:\n",
    "\n",
    "- totally drop those attributes from data.\n",
    "- Drop those records (remove rows where these attributes are missing)\n",
    "- Set the missing to some values. For numerical attributes, we can set them to the mean/median, and for categorical attributes we can set them to the most frequent category.\n",
    "\n"
   ]
  },
  {
   "cell_type": "markdown",
   "metadata": {},
   "source": [
    "#### let's have a basis statistical summary for numerical attributes."
   ]
  },
  {
   "cell_type": "code",
   "execution_count": 9,
   "metadata": {
    "scrolled": false
   },
   "outputs": [
    {
     "data": {
      "text/html": [
       "<div>\n",
       "<style scoped>\n",
       "    .dataframe tbody tr th:only-of-type {\n",
       "        vertical-align: middle;\n",
       "    }\n",
       "\n",
       "    .dataframe tbody tr th {\n",
       "        vertical-align: top;\n",
       "    }\n",
       "\n",
       "    .dataframe thead th {\n",
       "        text-align: right;\n",
       "    }\n",
       "</style>\n",
       "<table border=\"1\" class=\"dataframe\">\n",
       "  <thead>\n",
       "    <tr style=\"text-align: right;\">\n",
       "      <th></th>\n",
       "      <th>availableMoney</th>\n",
       "      <th>creditLimit</th>\n",
       "      <th>currentBalance</th>\n",
       "      <th>echoBuffer</th>\n",
       "      <th>merchantCity</th>\n",
       "      <th>merchantState</th>\n",
       "      <th>merchantZip</th>\n",
       "      <th>posOnPremises</th>\n",
       "      <th>recurringAuthInd</th>\n",
       "      <th>transactionAmount</th>\n",
       "    </tr>\n",
       "  </thead>\n",
       "  <tbody>\n",
       "    <tr>\n",
       "      <th>count</th>\n",
       "      <td>641914.000000</td>\n",
       "      <td>641914.000000</td>\n",
       "      <td>641914.000000</td>\n",
       "      <td>0.0</td>\n",
       "      <td>0.0</td>\n",
       "      <td>0.0</td>\n",
       "      <td>0.0</td>\n",
       "      <td>0.0</td>\n",
       "      <td>0.0</td>\n",
       "      <td>641914.000000</td>\n",
       "    </tr>\n",
       "    <tr>\n",
       "      <th>mean</th>\n",
       "      <td>6652.828573</td>\n",
       "      <td>10697.210608</td>\n",
       "      <td>4044.382035</td>\n",
       "      <td>NaN</td>\n",
       "      <td>NaN</td>\n",
       "      <td>NaN</td>\n",
       "      <td>NaN</td>\n",
       "      <td>NaN</td>\n",
       "      <td>NaN</td>\n",
       "      <td>135.162497</td>\n",
       "    </tr>\n",
       "    <tr>\n",
       "      <th>std</th>\n",
       "      <td>9227.132275</td>\n",
       "      <td>11460.359133</td>\n",
       "      <td>5945.510224</td>\n",
       "      <td>NaN</td>\n",
       "      <td>NaN</td>\n",
       "      <td>NaN</td>\n",
       "      <td>NaN</td>\n",
       "      <td>NaN</td>\n",
       "      <td>NaN</td>\n",
       "      <td>147.053302</td>\n",
       "    </tr>\n",
       "    <tr>\n",
       "      <th>min</th>\n",
       "      <td>-1244.930000</td>\n",
       "      <td>250.000000</td>\n",
       "      <td>0.000000</td>\n",
       "      <td>NaN</td>\n",
       "      <td>NaN</td>\n",
       "      <td>NaN</td>\n",
       "      <td>NaN</td>\n",
       "      <td>NaN</td>\n",
       "      <td>NaN</td>\n",
       "      <td>0.000000</td>\n",
       "    </tr>\n",
       "    <tr>\n",
       "      <th>25%</th>\n",
       "      <td>1114.970000</td>\n",
       "      <td>5000.000000</td>\n",
       "      <td>502.442500</td>\n",
       "      <td>NaN</td>\n",
       "      <td>NaN</td>\n",
       "      <td>NaN</td>\n",
       "      <td>NaN</td>\n",
       "      <td>NaN</td>\n",
       "      <td>NaN</td>\n",
       "      <td>32.320000</td>\n",
       "    </tr>\n",
       "    <tr>\n",
       "      <th>50%</th>\n",
       "      <td>3578.165000</td>\n",
       "      <td>7500.000000</td>\n",
       "      <td>2151.860000</td>\n",
       "      <td>NaN</td>\n",
       "      <td>NaN</td>\n",
       "      <td>NaN</td>\n",
       "      <td>NaN</td>\n",
       "      <td>NaN</td>\n",
       "      <td>NaN</td>\n",
       "      <td>85.800000</td>\n",
       "    </tr>\n",
       "    <tr>\n",
       "      <th>75%</th>\n",
       "      <td>8169.185000</td>\n",
       "      <td>15000.000000</td>\n",
       "      <td>5005.890000</td>\n",
       "      <td>NaN</td>\n",
       "      <td>NaN</td>\n",
       "      <td>NaN</td>\n",
       "      <td>NaN</td>\n",
       "      <td>NaN</td>\n",
       "      <td>NaN</td>\n",
       "      <td>189.030000</td>\n",
       "    </tr>\n",
       "    <tr>\n",
       "      <th>max</th>\n",
       "      <td>50000.000000</td>\n",
       "      <td>50000.000000</td>\n",
       "      <td>47496.500000</td>\n",
       "      <td>NaN</td>\n",
       "      <td>NaN</td>\n",
       "      <td>NaN</td>\n",
       "      <td>NaN</td>\n",
       "      <td>NaN</td>\n",
       "      <td>NaN</td>\n",
       "      <td>1825.250000</td>\n",
       "    </tr>\n",
       "  </tbody>\n",
       "</table>\n",
       "</div>"
      ],
      "text/plain": [
       "       availableMoney    creditLimit  currentBalance  echoBuffer  \\\n",
       "count   641914.000000  641914.000000   641914.000000         0.0   \n",
       "mean      6652.828573   10697.210608     4044.382035         NaN   \n",
       "std       9227.132275   11460.359133     5945.510224         NaN   \n",
       "min      -1244.930000     250.000000        0.000000         NaN   \n",
       "25%       1114.970000    5000.000000      502.442500         NaN   \n",
       "50%       3578.165000    7500.000000     2151.860000         NaN   \n",
       "75%       8169.185000   15000.000000     5005.890000         NaN   \n",
       "max      50000.000000   50000.000000    47496.500000         NaN   \n",
       "\n",
       "       merchantCity  merchantState  merchantZip  posOnPremises  \\\n",
       "count           0.0            0.0          0.0            0.0   \n",
       "mean            NaN            NaN          NaN            NaN   \n",
       "std             NaN            NaN          NaN            NaN   \n",
       "min             NaN            NaN          NaN            NaN   \n",
       "25%             NaN            NaN          NaN            NaN   \n",
       "50%             NaN            NaN          NaN            NaN   \n",
       "75%             NaN            NaN          NaN            NaN   \n",
       "max             NaN            NaN          NaN            NaN   \n",
       "\n",
       "       recurringAuthInd  transactionAmount  \n",
       "count               0.0      641914.000000  \n",
       "mean                NaN         135.162497  \n",
       "std                 NaN         147.053302  \n",
       "min                 NaN           0.000000  \n",
       "25%                 NaN          32.320000  \n",
       "50%                 NaN          85.800000  \n",
       "75%                 NaN         189.030000  \n",
       "max                 NaN        1825.250000  "
      ]
     },
     "execution_count": 9,
     "metadata": {},
     "output_type": "execute_result"
    }
   ],
   "source": [
    "df.describe() "
   ]
  },
  {
   "cell_type": "markdown",
   "metadata": {},
   "source": [
    "\n",
    "#### so we are going to drop these attributes which totally have missing values from data."
   ]
  },
  {
   "cell_type": "code",
   "execution_count": 113,
   "metadata": {},
   "outputs": [],
   "source": [
    "df=df.drop(['echoBuffer','merchantCity','merchantState', 'merchantZip', 'posOnPremises', \n",
    "'recurringAuthInd'], axis=1)"
   ]
  },
  {
   "cell_type": "code",
   "execution_count": 114,
   "metadata": {},
   "outputs": [
    {
     "data": {
      "text/plain": [
       "(641914, 23)"
      ]
     },
     "execution_count": 114,
     "metadata": {},
     "output_type": "execute_result"
    }
   ],
   "source": [
    "df.shape"
   ]
  },
  {
   "cell_type": "code",
   "execution_count": 115,
   "metadata": {},
   "outputs": [
    {
     "name": "stdout",
     "output_type": "stream",
     "text": [
      "<class 'pandas.core.frame.DataFrame'>\n",
      "RangeIndex: 641914 entries, 0 to 641913\n",
      "Data columns (total 23 columns):\n",
      "accountNumber               641914 non-null object\n",
      "accountOpenDate             641914 non-null object\n",
      "acqCountry                  638001 non-null object\n",
      "availableMoney              641914 non-null float64\n",
      "cardCVV                     641914 non-null object\n",
      "cardLast4Digits             641914 non-null object\n",
      "cardPresent                 641914 non-null bool\n",
      "creditLimit                 641914 non-null float64\n",
      "currentBalance              641914 non-null float64\n",
      "currentExpDate              641914 non-null object\n",
      "customerId                  641914 non-null object\n",
      "dateOfLastAddressChange     641914 non-null object\n",
      "enteredCVV                  641914 non-null object\n",
      "expirationDateKeyInMatch    641914 non-null bool\n",
      "isFraud                     641914 non-null bool\n",
      "merchantCategoryCode        641914 non-null object\n",
      "merchantCountryCode         641290 non-null object\n",
      "merchantName                641914 non-null object\n",
      "posConditionCode            641627 non-null object\n",
      "posEntryMode                638569 non-null object\n",
      "transactionAmount           641914 non-null float64\n",
      "transactionDateTime         641914 non-null object\n",
      "transactionType             641325 non-null object\n",
      "dtypes: bool(3), float64(4), object(16)\n",
      "memory usage: 99.8+ MB\n"
     ]
    }
   ],
   "source": [
    "df.info()"
   ]
  },
  {
   "cell_type": "markdown",
   "metadata": {},
   "source": [
    "\n",
    "\n",
    "\n",
    "\n",
    "Let's look at categorical features. For these features we can count unique value of them. We have some features like date, time which has objcet type, but it does not make sense to count their unique values. So, we are not including them in our categorical feature list below."
   ]
  },
  {
   "cell_type": "code",
   "execution_count": 9,
   "metadata": {},
   "outputs": [
    {
     "name": "stdout",
     "output_type": "stream",
     "text": [
      "count of unique values of acqCountry is as follows\n",
      "US     632303\n",
      "MEX      2626\n",
      "CAN      1870\n",
      "PR       1202\n",
      "Name: acqCountry, dtype: int64\n",
      "\n",
      "\n",
      "count of unique values of cardPresent is as follows\n",
      "False    340453\n",
      "True     301461\n",
      "Name: cardPresent, dtype: int64\n",
      "\n",
      "\n",
      "count of unique values of expirationDateKeyInMatch is as follows\n",
      "False    640945\n",
      "True        969\n",
      "Name: expirationDateKeyInMatch, dtype: int64\n",
      "\n",
      "\n",
      "count of unique values of isFraud is as follows\n",
      "False    630612\n",
      "True      11302\n",
      "Name: isFraud, dtype: int64\n",
      "\n",
      "\n",
      "count of unique values of merchantCategoryCode is as follows\n",
      "online_retail           161469\n",
      "fastfood                101196\n",
      "entertainment            69138\n",
      "food                     68245\n",
      "rideshare                50574\n",
      "online_gifts             33045\n",
      "hotels                   22879\n",
      "fuel                     22566\n",
      "subscriptions            18376\n",
      "personal care            16917\n",
      "mobileapps               14614\n",
      "health                   14344\n",
      "online_subscriptions     11247\n",
      "auto                     10147\n",
      "airline                   9990\n",
      "furniture                 7813\n",
      "food_delivery             4990\n",
      "gym                       2874\n",
      "cable/phone               1490\n",
      "Name: merchantCategoryCode, dtype: int64\n",
      "\n",
      "\n",
      "count of unique values of merchantCountryCode is as follows\n",
      "US     635577\n",
      "MEX      2636\n",
      "CAN      1874\n",
      "PR       1203\n",
      "Name: merchantCountryCode, dtype: int64\n",
      "\n",
      "\n",
      "count of unique values of merchantName is as follows\n",
      "Lyft                             25311\n",
      "Uber                             25263\n",
      "gap.com                          13824\n",
      "apple.com                        13607\n",
      "target.com                       13601\n",
      "alibaba.com                      13583\n",
      "staples.com                      13512\n",
      "amazon.com                       13477\n",
      "ebay.com                         13472\n",
      "discount.com                     13394\n",
      "oldnavy.com                      13381\n",
      "walmart.com                      13282\n",
      "sears.com                        13279\n",
      "cheapfast.com                    13057\n",
      "Apple iTunes                      7579\n",
      "Play Store                        7035\n",
      "Mobile eCards                     4169\n",
      "Blue Mountain eCards              4165\n",
      "Blue Mountain Online Services     4149\n",
      "Fresh eCards                      4147\n",
      "Next Day Online Services          4135\n",
      "Fresh Flowers                     4112\n",
      "Fresh Online Services             4084\n",
      "Next Day eCards                   4084\n",
      "AMC #606218                       3371\n",
      "AMC #79863                        3351\n",
      "AMC #191138                       3341\n",
      "EZ Putt Putt #982199              3338\n",
      "Regal Cinemas #276341             3336\n",
      "Regal Cinemas #05791              3332\n",
      "                                 ...  \n",
      "EZ Wireless #488750                  6\n",
      "Boost Mobile #518069                 6\n",
      "Fast Mobile #547087                  6\n",
      "Fast Mobile #43642                   6\n",
      "Fast Mobile #702838                  6\n",
      "Golds Gym #970513                    5\n",
      "Golds Gym #54241                     5\n",
      "Sprint Communications #144905        4\n",
      "Fast Mobile #227837                  4\n",
      "EZ Wireless #06894                   4\n",
      "Sprint Communications #527853        4\n",
      "Sprint Communications #185844        3\n",
      "Sprint Communications #561941        3\n",
      "Boost Mobile #734887                 3\n",
      "Sprint PCS #592763                   3\n",
      "EZ Wireless #631782                  3\n",
      "Fast Mobile #441691                  3\n",
      "Sprint Communications #474800        3\n",
      "Virgin #777730                       3\n",
      "Boost Mobile #553170                 3\n",
      "Sprint PCS #40421                    3\n",
      "Curves #906709                       2\n",
      "Sprint Communications #39784         2\n",
      "Sprint PCS #989856                   2\n",
      "Runners #762536                      1\n",
      "Virgin #683645                       1\n",
      "Fast Mobile #685186                  1\n",
      "Boost Mobile #745135                 1\n",
      "EZ Wireless #640866                  1\n",
      "Sprint Communications #485210        1\n",
      "Name: merchantName, Length: 2493, dtype: int64\n",
      "\n",
      "\n",
      "count of unique values of posConditionCode is as follows\n",
      "01    514144\n",
      "08    121507\n",
      "99      5976\n",
      "Name: posConditionCode, dtype: int64\n",
      "\n",
      "\n",
      "count of unique values of posEntryMode is as follows\n",
      "05    255615\n",
      "09    193193\n",
      "02    160589\n",
      "90     16251\n",
      "80     12921\n",
      "Name: posEntryMode, dtype: int64\n",
      "\n",
      "\n",
      "count of unique values of transactionType is as follows\n",
      "PURCHASE                608685\n",
      "ADDRESS_VERIFICATION     16478\n",
      "REVERSAL                 16162\n",
      "Name: transactionType, dtype: int64\n",
      "\n",
      "\n"
     ]
    }
   ],
   "source": [
    "cat_col =['acqCountry','cardPresent','expirationDateKeyInMatch','isFraud','merchantCategoryCode',\n",
    "          'merchantCountryCode','merchantName','posConditionCode','posEntryMode','transactionType']\n",
    "for c_ in cat_col:\n",
    "    print('count of unique values of {} is as follows'.format(str(c_)))\n",
    "    print(df[c_].value_counts())\n",
    "    print('\\n')"
   ]
  },
  {
   "cell_type": "code",
   "execution_count": 117,
   "metadata": {
    "scrolled": true
   },
   "outputs": [
    {
     "data": {
      "text/plain": [
       "accountNumber                  0\n",
       "accountOpenDate                0\n",
       "acqCountry                  3913\n",
       "availableMoney                 0\n",
       "cardCVV                        0\n",
       "cardLast4Digits                0\n",
       "cardPresent                    0\n",
       "creditLimit                    0\n",
       "currentBalance                 0\n",
       "currentExpDate                 0\n",
       "customerId                     0\n",
       "dateOfLastAddressChange        0\n",
       "enteredCVV                     0\n",
       "expirationDateKeyInMatch       0\n",
       "isFraud                        0\n",
       "merchantCategoryCode           0\n",
       "merchantCountryCode          624\n",
       "merchantName                   0\n",
       "posConditionCode             287\n",
       "posEntryMode                3345\n",
       "transactionAmount              0\n",
       "transactionDateTime            0\n",
       "transactionType              589\n",
       "dtype: int64"
      ]
     },
     "execution_count": 117,
     "metadata": {},
     "output_type": "execute_result"
    }
   ],
   "source": [
    "df.isna().sum()"
   ]
  },
  {
   "cell_type": "code",
   "execution_count": 138,
   "metadata": {
    "scrolled": true
   },
   "outputs": [
    {
     "data": {
      "text/plain": [
       "US     628201\n",
       "MEX      2604\n",
       "CAN      1850\n",
       "PR       1191\n",
       "NaN         1\n",
       "Name: merchantCountryCode, dtype: int64"
      ]
     },
     "execution_count": 138,
     "metadata": {},
     "output_type": "execute_result"
    }
   ],
   "source": [
    "df.merchantCountryCode.value_counts(dropna=False)"
   ]
  },
  {
   "cell_type": "markdown",
   "metadata": {},
   "source": [
    "### let's drop rows which has values NaN"
   ]
  },
  {
   "cell_type": "code",
   "execution_count": 139,
   "metadata": {},
   "outputs": [],
   "source": [
    "df.dropna(how='any', subset=['merchantCountryCode'], inplace=True)"
   ]
  },
  {
   "cell_type": "code",
   "execution_count": 118,
   "metadata": {},
   "outputs": [
    {
     "data": {
      "text/plain": [
       "US     632303\n",
       "NaN      3913\n",
       "MEX      2626\n",
       "CAN      1870\n",
       "PR       1202\n",
       "Name: acqCountry, dtype: int64"
      ]
     },
     "execution_count": 118,
     "metadata": {},
     "output_type": "execute_result"
    }
   ],
   "source": [
    "df.acqCountry.value_counts(dropna=False)"
   ]
  },
  {
   "cell_type": "code",
   "execution_count": 119,
   "metadata": {},
   "outputs": [
    {
     "data": {
      "text/html": [
       "<div>\n",
       "<style scoped>\n",
       "    .dataframe tbody tr th:only-of-type {\n",
       "        vertical-align: middle;\n",
       "    }\n",
       "\n",
       "    .dataframe tbody tr th {\n",
       "        vertical-align: top;\n",
       "    }\n",
       "\n",
       "    .dataframe thead th {\n",
       "        text-align: right;\n",
       "    }\n",
       "</style>\n",
       "<table border=\"1\" class=\"dataframe\">\n",
       "  <thead>\n",
       "    <tr style=\"text-align: right;\">\n",
       "      <th></th>\n",
       "      <th>accountNumber</th>\n",
       "      <th>accountOpenDate</th>\n",
       "      <th>acqCountry</th>\n",
       "      <th>availableMoney</th>\n",
       "      <th>cardCVV</th>\n",
       "      <th>cardLast4Digits</th>\n",
       "      <th>cardPresent</th>\n",
       "      <th>creditLimit</th>\n",
       "      <th>currentBalance</th>\n",
       "      <th>currentExpDate</th>\n",
       "      <th>...</th>\n",
       "      <th>expirationDateKeyInMatch</th>\n",
       "      <th>isFraud</th>\n",
       "      <th>merchantCategoryCode</th>\n",
       "      <th>merchantCountryCode</th>\n",
       "      <th>merchantName</th>\n",
       "      <th>posConditionCode</th>\n",
       "      <th>posEntryMode</th>\n",
       "      <th>transactionAmount</th>\n",
       "      <th>transactionDateTime</th>\n",
       "      <th>transactionType</th>\n",
       "    </tr>\n",
       "  </thead>\n",
       "  <tbody>\n",
       "    <tr>\n",
       "      <th>0</th>\n",
       "      <td>733493772</td>\n",
       "      <td>2014-08-03</td>\n",
       "      <td>US</td>\n",
       "      <td>5000.00</td>\n",
       "      <td>492</td>\n",
       "      <td>9184</td>\n",
       "      <td>False</td>\n",
       "      <td>5000.0</td>\n",
       "      <td>0.00</td>\n",
       "      <td>04/2020</td>\n",
       "      <td>...</td>\n",
       "      <td>False</td>\n",
       "      <td>True</td>\n",
       "      <td>rideshare</td>\n",
       "      <td>US</td>\n",
       "      <td>Lyft</td>\n",
       "      <td>01</td>\n",
       "      <td>05</td>\n",
       "      <td>111.33</td>\n",
       "      <td>2016-01-08T19:04:50</td>\n",
       "      <td>PURCHASE</td>\n",
       "    </tr>\n",
       "    <tr>\n",
       "      <th>1</th>\n",
       "      <td>733493772</td>\n",
       "      <td>2014-08-03</td>\n",
       "      <td>US</td>\n",
       "      <td>4888.67</td>\n",
       "      <td>492</td>\n",
       "      <td>9184</td>\n",
       "      <td>False</td>\n",
       "      <td>5000.0</td>\n",
       "      <td>111.33</td>\n",
       "      <td>06/2023</td>\n",
       "      <td>...</td>\n",
       "      <td>False</td>\n",
       "      <td>False</td>\n",
       "      <td>rideshare</td>\n",
       "      <td>US</td>\n",
       "      <td>Uber</td>\n",
       "      <td>01</td>\n",
       "      <td>09</td>\n",
       "      <td>24.75</td>\n",
       "      <td>2016-01-09T22:32:39</td>\n",
       "      <td>PURCHASE</td>\n",
       "    </tr>\n",
       "    <tr>\n",
       "      <th>2</th>\n",
       "      <td>733493772</td>\n",
       "      <td>2014-08-03</td>\n",
       "      <td>US</td>\n",
       "      <td>4863.92</td>\n",
       "      <td>492</td>\n",
       "      <td>9184</td>\n",
       "      <td>False</td>\n",
       "      <td>5000.0</td>\n",
       "      <td>136.08</td>\n",
       "      <td>12/2027</td>\n",
       "      <td>...</td>\n",
       "      <td>False</td>\n",
       "      <td>False</td>\n",
       "      <td>rideshare</td>\n",
       "      <td>US</td>\n",
       "      <td>Lyft</td>\n",
       "      <td>01</td>\n",
       "      <td>05</td>\n",
       "      <td>187.40</td>\n",
       "      <td>2016-01-11T13:36:55</td>\n",
       "      <td>PURCHASE</td>\n",
       "    </tr>\n",
       "    <tr>\n",
       "      <th>3</th>\n",
       "      <td>733493772</td>\n",
       "      <td>2014-08-03</td>\n",
       "      <td>US</td>\n",
       "      <td>4676.52</td>\n",
       "      <td>492</td>\n",
       "      <td>9184</td>\n",
       "      <td>False</td>\n",
       "      <td>5000.0</td>\n",
       "      <td>323.48</td>\n",
       "      <td>09/2029</td>\n",
       "      <td>...</td>\n",
       "      <td>False</td>\n",
       "      <td>True</td>\n",
       "      <td>rideshare</td>\n",
       "      <td>US</td>\n",
       "      <td>Lyft</td>\n",
       "      <td>01</td>\n",
       "      <td>02</td>\n",
       "      <td>227.34</td>\n",
       "      <td>2016-01-11T22:47:46</td>\n",
       "      <td>PURCHASE</td>\n",
       "    </tr>\n",
       "    <tr>\n",
       "      <th>4</th>\n",
       "      <td>733493772</td>\n",
       "      <td>2014-08-03</td>\n",
       "      <td>US</td>\n",
       "      <td>4449.18</td>\n",
       "      <td>492</td>\n",
       "      <td>9184</td>\n",
       "      <td>False</td>\n",
       "      <td>5000.0</td>\n",
       "      <td>550.82</td>\n",
       "      <td>10/2024</td>\n",
       "      <td>...</td>\n",
       "      <td>False</td>\n",
       "      <td>False</td>\n",
       "      <td>rideshare</td>\n",
       "      <td>US</td>\n",
       "      <td>Lyft</td>\n",
       "      <td>01</td>\n",
       "      <td>02</td>\n",
       "      <td>0.00</td>\n",
       "      <td>2016-01-16T01:41:11</td>\n",
       "      <td>ADDRESS_VERIFICATION</td>\n",
       "    </tr>\n",
       "  </tbody>\n",
       "</table>\n",
       "<p>5 rows × 23 columns</p>\n",
       "</div>"
      ],
      "text/plain": [
       "  accountNumber accountOpenDate acqCountry  availableMoney cardCVV  \\\n",
       "0     733493772      2014-08-03         US         5000.00     492   \n",
       "1     733493772      2014-08-03         US         4888.67     492   \n",
       "2     733493772      2014-08-03         US         4863.92     492   \n",
       "3     733493772      2014-08-03         US         4676.52     492   \n",
       "4     733493772      2014-08-03         US         4449.18     492   \n",
       "\n",
       "  cardLast4Digits  cardPresent  creditLimit  currentBalance currentExpDate  \\\n",
       "0            9184        False       5000.0            0.00        04/2020   \n",
       "1            9184        False       5000.0          111.33        06/2023   \n",
       "2            9184        False       5000.0          136.08        12/2027   \n",
       "3            9184        False       5000.0          323.48        09/2029   \n",
       "4            9184        False       5000.0          550.82        10/2024   \n",
       "\n",
       "   ... expirationDateKeyInMatch isFraud merchantCategoryCode  \\\n",
       "0  ...                    False    True            rideshare   \n",
       "1  ...                    False   False            rideshare   \n",
       "2  ...                    False   False            rideshare   \n",
       "3  ...                    False    True            rideshare   \n",
       "4  ...                    False   False            rideshare   \n",
       "\n",
       "   merchantCountryCode  merchantName posConditionCode posEntryMode  \\\n",
       "0                   US          Lyft               01           05   \n",
       "1                   US          Uber               01           09   \n",
       "2                   US          Lyft               01           05   \n",
       "3                   US          Lyft               01           02   \n",
       "4                   US          Lyft               01           02   \n",
       "\n",
       "  transactionAmount  transactionDateTime       transactionType  \n",
       "0            111.33  2016-01-08T19:04:50              PURCHASE  \n",
       "1             24.75  2016-01-09T22:32:39              PURCHASE  \n",
       "2            187.40  2016-01-11T13:36:55              PURCHASE  \n",
       "3            227.34  2016-01-11T22:47:46              PURCHASE  \n",
       "4              0.00  2016-01-16T01:41:11  ADDRESS_VERIFICATION  \n",
       "\n",
       "[5 rows x 23 columns]"
      ]
     },
     "execution_count": 119,
     "metadata": {},
     "output_type": "execute_result"
    }
   ],
   "source": [
    "df.dropna(how='any', subset=['acqCountry'], inplace=True)\n",
    "df.head()"
   ]
  },
  {
   "cell_type": "code",
   "execution_count": 120,
   "metadata": {},
   "outputs": [
    {
     "data": {
      "text/plain": [
       "PURCHASE                604954\n",
       "ADDRESS_VERIFICATION     16389\n",
       "REVERSAL                 16074\n",
       "NaN                        584\n",
       "Name: transactionType, dtype: int64"
      ]
     },
     "execution_count": 120,
     "metadata": {},
     "output_type": "execute_result"
    }
   ],
   "source": [
    "df.transactionType.value_counts(dropna=False)"
   ]
  },
  {
   "cell_type": "code",
   "execution_count": 121,
   "metadata": {},
   "outputs": [],
   "source": [
    "df.dropna(how='any', subset=['transactionType'], inplace=True)"
   ]
  },
  {
   "cell_type": "code",
   "execution_count": 122,
   "metadata": {},
   "outputs": [
    {
     "data": {
      "text/plain": [
       "05     253854\n",
       "09     191823\n",
       "02     159499\n",
       "90      16119\n",
       "80      12834\n",
       "NaN      3288\n",
       "Name: posEntryMode, dtype: int64"
      ]
     },
     "execution_count": 122,
     "metadata": {},
     "output_type": "execute_result"
    }
   ],
   "source": [
    "df.posEntryMode.value_counts(dropna=False)"
   ]
  },
  {
   "cell_type": "code",
   "execution_count": 124,
   "metadata": {},
   "outputs": [],
   "source": [
    "df.dropna(how='any', subset=['posEntryMode', 'posConditionCode'], inplace=True)"
   ]
  },
  {
   "cell_type": "code",
   "execution_count": 140,
   "metadata": {
    "scrolled": true
   },
   "outputs": [
    {
     "data": {
      "text/html": [
       "<div>\n",
       "<style scoped>\n",
       "    .dataframe tbody tr th:only-of-type {\n",
       "        vertical-align: middle;\n",
       "    }\n",
       "\n",
       "    .dataframe tbody tr th {\n",
       "        vertical-align: top;\n",
       "    }\n",
       "\n",
       "    .dataframe thead th {\n",
       "        text-align: right;\n",
       "    }\n",
       "</style>\n",
       "<table border=\"1\" class=\"dataframe\">\n",
       "  <thead>\n",
       "    <tr style=\"text-align: right;\">\n",
       "      <th></th>\n",
       "      <th>accountNumber</th>\n",
       "      <th>accountOpenDate</th>\n",
       "      <th>acqCountry</th>\n",
       "      <th>availableMoney</th>\n",
       "      <th>cardCVV</th>\n",
       "      <th>cardLast4Digits</th>\n",
       "      <th>cardPresent</th>\n",
       "      <th>creditLimit</th>\n",
       "      <th>currentBalance</th>\n",
       "      <th>currentExpDate</th>\n",
       "      <th>...</th>\n",
       "      <th>expirationDateKeyInMatch</th>\n",
       "      <th>isFraud</th>\n",
       "      <th>merchantCategoryCode</th>\n",
       "      <th>merchantCountryCode</th>\n",
       "      <th>merchantName</th>\n",
       "      <th>posConditionCode</th>\n",
       "      <th>posEntryMode</th>\n",
       "      <th>transactionAmount</th>\n",
       "      <th>transactionDateTime</th>\n",
       "      <th>transactionType</th>\n",
       "    </tr>\n",
       "  </thead>\n",
       "  <tbody>\n",
       "    <tr>\n",
       "      <th>0</th>\n",
       "      <td>733493772</td>\n",
       "      <td>2014-08-03</td>\n",
       "      <td>US</td>\n",
       "      <td>5000.00</td>\n",
       "      <td>492</td>\n",
       "      <td>9184</td>\n",
       "      <td>False</td>\n",
       "      <td>5000.0</td>\n",
       "      <td>0.00</td>\n",
       "      <td>04/2020</td>\n",
       "      <td>...</td>\n",
       "      <td>False</td>\n",
       "      <td>True</td>\n",
       "      <td>rideshare</td>\n",
       "      <td>US</td>\n",
       "      <td>Lyft</td>\n",
       "      <td>01</td>\n",
       "      <td>05</td>\n",
       "      <td>111.33</td>\n",
       "      <td>2016-01-08T19:04:50</td>\n",
       "      <td>PURCHASE</td>\n",
       "    </tr>\n",
       "    <tr>\n",
       "      <th>1</th>\n",
       "      <td>733493772</td>\n",
       "      <td>2014-08-03</td>\n",
       "      <td>US</td>\n",
       "      <td>4888.67</td>\n",
       "      <td>492</td>\n",
       "      <td>9184</td>\n",
       "      <td>False</td>\n",
       "      <td>5000.0</td>\n",
       "      <td>111.33</td>\n",
       "      <td>06/2023</td>\n",
       "      <td>...</td>\n",
       "      <td>False</td>\n",
       "      <td>False</td>\n",
       "      <td>rideshare</td>\n",
       "      <td>US</td>\n",
       "      <td>Uber</td>\n",
       "      <td>01</td>\n",
       "      <td>09</td>\n",
       "      <td>24.75</td>\n",
       "      <td>2016-01-09T22:32:39</td>\n",
       "      <td>PURCHASE</td>\n",
       "    </tr>\n",
       "    <tr>\n",
       "      <th>2</th>\n",
       "      <td>733493772</td>\n",
       "      <td>2014-08-03</td>\n",
       "      <td>US</td>\n",
       "      <td>4863.92</td>\n",
       "      <td>492</td>\n",
       "      <td>9184</td>\n",
       "      <td>False</td>\n",
       "      <td>5000.0</td>\n",
       "      <td>136.08</td>\n",
       "      <td>12/2027</td>\n",
       "      <td>...</td>\n",
       "      <td>False</td>\n",
       "      <td>False</td>\n",
       "      <td>rideshare</td>\n",
       "      <td>US</td>\n",
       "      <td>Lyft</td>\n",
       "      <td>01</td>\n",
       "      <td>05</td>\n",
       "      <td>187.40</td>\n",
       "      <td>2016-01-11T13:36:55</td>\n",
       "      <td>PURCHASE</td>\n",
       "    </tr>\n",
       "    <tr>\n",
       "      <th>3</th>\n",
       "      <td>733493772</td>\n",
       "      <td>2014-08-03</td>\n",
       "      <td>US</td>\n",
       "      <td>4676.52</td>\n",
       "      <td>492</td>\n",
       "      <td>9184</td>\n",
       "      <td>False</td>\n",
       "      <td>5000.0</td>\n",
       "      <td>323.48</td>\n",
       "      <td>09/2029</td>\n",
       "      <td>...</td>\n",
       "      <td>False</td>\n",
       "      <td>True</td>\n",
       "      <td>rideshare</td>\n",
       "      <td>US</td>\n",
       "      <td>Lyft</td>\n",
       "      <td>01</td>\n",
       "      <td>02</td>\n",
       "      <td>227.34</td>\n",
       "      <td>2016-01-11T22:47:46</td>\n",
       "      <td>PURCHASE</td>\n",
       "    </tr>\n",
       "    <tr>\n",
       "      <th>4</th>\n",
       "      <td>733493772</td>\n",
       "      <td>2014-08-03</td>\n",
       "      <td>US</td>\n",
       "      <td>4449.18</td>\n",
       "      <td>492</td>\n",
       "      <td>9184</td>\n",
       "      <td>False</td>\n",
       "      <td>5000.0</td>\n",
       "      <td>550.82</td>\n",
       "      <td>10/2024</td>\n",
       "      <td>...</td>\n",
       "      <td>False</td>\n",
       "      <td>False</td>\n",
       "      <td>rideshare</td>\n",
       "      <td>US</td>\n",
       "      <td>Lyft</td>\n",
       "      <td>01</td>\n",
       "      <td>02</td>\n",
       "      <td>0.00</td>\n",
       "      <td>2016-01-16T01:41:11</td>\n",
       "      <td>ADDRESS_VERIFICATION</td>\n",
       "    </tr>\n",
       "  </tbody>\n",
       "</table>\n",
       "<p>5 rows × 23 columns</p>\n",
       "</div>"
      ],
      "text/plain": [
       "  accountNumber accountOpenDate acqCountry  availableMoney cardCVV  \\\n",
       "0     733493772      2014-08-03         US         5000.00     492   \n",
       "1     733493772      2014-08-03         US         4888.67     492   \n",
       "2     733493772      2014-08-03         US         4863.92     492   \n",
       "3     733493772      2014-08-03         US         4676.52     492   \n",
       "4     733493772      2014-08-03         US         4449.18     492   \n",
       "\n",
       "  cardLast4Digits  cardPresent  creditLimit  currentBalance currentExpDate  \\\n",
       "0            9184        False       5000.0            0.00        04/2020   \n",
       "1            9184        False       5000.0          111.33        06/2023   \n",
       "2            9184        False       5000.0          136.08        12/2027   \n",
       "3            9184        False       5000.0          323.48        09/2029   \n",
       "4            9184        False       5000.0          550.82        10/2024   \n",
       "\n",
       "   ... expirationDateKeyInMatch isFraud merchantCategoryCode  \\\n",
       "0  ...                    False    True            rideshare   \n",
       "1  ...                    False   False            rideshare   \n",
       "2  ...                    False   False            rideshare   \n",
       "3  ...                    False    True            rideshare   \n",
       "4  ...                    False   False            rideshare   \n",
       "\n",
       "   merchantCountryCode  merchantName posConditionCode posEntryMode  \\\n",
       "0                   US          Lyft               01           05   \n",
       "1                   US          Uber               01           09   \n",
       "2                   US          Lyft               01           05   \n",
       "3                   US          Lyft               01           02   \n",
       "4                   US          Lyft               01           02   \n",
       "\n",
       "  transactionAmount  transactionDateTime       transactionType  \n",
       "0            111.33  2016-01-08T19:04:50              PURCHASE  \n",
       "1             24.75  2016-01-09T22:32:39              PURCHASE  \n",
       "2            187.40  2016-01-11T13:36:55              PURCHASE  \n",
       "3            227.34  2016-01-11T22:47:46              PURCHASE  \n",
       "4              0.00  2016-01-16T01:41:11  ADDRESS_VERIFICATION  \n",
       "\n",
       "[5 rows x 23 columns]"
      ]
     },
     "execution_count": 140,
     "metadata": {},
     "output_type": "execute_result"
    }
   ],
   "source": [
    "df.head()"
   ]
  },
  {
   "cell_type": "code",
   "execution_count": 141,
   "metadata": {
    "scrolled": false
   },
   "outputs": [
    {
     "data": {
      "text/plain": [
       "Index(['accountNumber', 'accountOpenDate', 'acqCountry', 'availableMoney',\n",
       "       'cardCVV', 'cardLast4Digits', 'cardPresent', 'creditLimit',\n",
       "       'currentBalance', 'currentExpDate', 'customerId',\n",
       "       'dateOfLastAddressChange', 'enteredCVV', 'expirationDateKeyInMatch',\n",
       "       'isFraud', 'merchantCategoryCode', 'merchantCountryCode',\n",
       "       'merchantName', 'posConditionCode', 'posEntryMode', 'transactionAmount',\n",
       "       'transactionDateTime', 'transactionType'],\n",
       "      dtype='object')"
      ]
     },
     "execution_count": 141,
     "metadata": {},
     "output_type": "execute_result"
    }
   ],
   "source": [
    "df.columns"
   ]
  },
  {
   "cell_type": "markdown",
   "metadata": {},
   "source": [
    "# Observation:\n"
   ]
  },
  {
   "cell_type": "markdown",
   "metadata": {},
   "source": [
    "It is essential to encoding categorical features into numerical values.\n",
    "We can see from the table, we have several categorical features.\n",
    " I am going to try The labelEncoder and OneHotEncoder which help for encoding categorical features. We need first to extract the categorial featuers using boolean mask."
   ]
  },
  {
   "cell_type": "code",
   "execution_count": 142,
   "metadata": {},
   "outputs": [],
   "source": [
    "X, y = df.drop(['isFraud'],axis=1), df['isFraud']"
   ]
  },
  {
   "cell_type": "code",
   "execution_count": 143,
   "metadata": {},
   "outputs": [],
   "source": [
    "# Categorical boolean mask\n",
    "categorical_feature_mask = X.dtypes==object\n",
    "# filter categorical columns using mask and turn it into a list\n",
    "categorical_cols = X.columns[categorical_feature_mask].tolist()"
   ]
  },
  {
   "cell_type": "code",
   "execution_count": 144,
   "metadata": {
    "scrolled": true
   },
   "outputs": [
    {
     "data": {
      "text/plain": [
       "accountNumber                True\n",
       "accountOpenDate              True\n",
       "acqCountry                   True\n",
       "availableMoney              False\n",
       "cardCVV                      True\n",
       "cardLast4Digits              True\n",
       "cardPresent                 False\n",
       "creditLimit                 False\n",
       "currentBalance              False\n",
       "currentExpDate               True\n",
       "customerId                   True\n",
       "dateOfLastAddressChange      True\n",
       "enteredCVV                   True\n",
       "expirationDateKeyInMatch    False\n",
       "merchantCategoryCode         True\n",
       "merchantCountryCode          True\n",
       "merchantName                 True\n",
       "posConditionCode             True\n",
       "posEntryMode                 True\n",
       "transactionAmount           False\n",
       "transactionDateTime          True\n",
       "transactionType              True\n",
       "dtype: bool"
      ]
     },
     "execution_count": 144,
     "metadata": {},
     "output_type": "execute_result"
    }
   ],
   "source": [
    "categorical_feature_mask"
   ]
  },
  {
   "cell_type": "markdown",
   "metadata": {},
   "source": [
    "LabelEncoder converts each class under specified feature to a numerical value. "
   ]
  },
  {
   "cell_type": "code",
   "execution_count": 3,
   "metadata": {},
   "outputs": [],
   "source": [
    "# import labelencoder\n",
    "from sklearn.preprocessing import LabelEncoder\n",
    "# instantiate labelencoder object\n",
    "le = LabelEncoder()"
   ]
  },
  {
   "cell_type": "markdown",
   "metadata": {},
   "source": [
    "Apply LabelEncoder on each of the categorical columns:"
   ]
  },
  {
   "cell_type": "code",
   "execution_count": null,
   "metadata": {},
   "outputs": [],
   "source": [
    "# apply le on categorical feature columns\n",
    "X[categorical_cols] = X[categorical_cols].apply(lambda col: le.fit_transform(col))\n",
    "X[categorical_cols].tail(10)"
   ]
  },
  {
   "cell_type": "code",
   "execution_count": 193,
   "metadata": {
    "scrolled": true
   },
   "outputs": [
    {
     "name": "stderr",
     "output_type": "stream",
     "text": [
      "/anaconda3/lib/python3.7/site-packages/sklearn/preprocessing/_encoders.py:371: FutureWarning: The handling of integer data will change in version 0.22. Currently, the categories are determined based on the range [0, max(values)], while in the future they will be determined based on the unique values.\n",
      "If you want the future behaviour and silence this warning, you can specify \"categories='auto'\".\n",
      "In case you used a LabelEncoder before this OneHotEncoder to convert the categories to integers, then you can now use the OneHotEncoder directly.\n",
      "  warnings.warn(msg, FutureWarning)\n",
      "/anaconda3/lib/python3.7/site-packages/sklearn/preprocessing/_encoders.py:392: DeprecationWarning: The 'categorical_features' keyword is deprecated in version 0.20 and will be removed in 0.22. You can use the ColumnTransformer instead.\n",
      "  \"use the ColumnTransformer instead.\", DeprecationWarning)\n"
     ]
    }
   ],
   "source": [
    "enc = preprocessing.OneHotEncoder(categorical_features = categorical_feature_mask)\n",
    "\n",
    "\n",
    "X_ohe = enc.fit_transform(X) # It returns an numpy array"
   ]
  },
  {
   "cell_type": "code",
   "execution_count": 152,
   "metadata": {},
   "outputs": [],
   "source": [
    "X_new = X_ohe.toarray()"
   ]
  },
  {
   "cell_type": "code",
   "execution_count": 153,
   "metadata": {
    "scrolled": false
   },
   "outputs": [
    {
     "data": {
      "text/plain": [
       "array([[   0.  ,    0.  ,    0.  , ...,    0.  ,    0.  ,  111.33],\n",
       "       [   0.  ,    0.  ,    0.  , ...,  111.33,    0.  ,   24.75],\n",
       "       [   0.  ,    0.  ,    0.  , ...,  136.08,    0.  ,  187.4 ],\n",
       "       ...,\n",
       "       [   0.  ,    0.  ,    0.  , ..., 5155.05,    0.  ,  138.42],\n",
       "       [   0.  ,    0.  ,    0.  , ..., 5293.47,    0.  ,   16.31],\n",
       "       [   0.  ,    0.  ,    0.  , ..., 5309.78,    0.  ,   32.53]])"
      ]
     },
     "execution_count": 153,
     "metadata": {},
     "output_type": "execute_result"
    }
   ],
   "source": [
    "X_new"
   ]
  },
  {
   "cell_type": "markdown",
   "metadata": {},
   "source": [
    "# Plot"
   ]
  },
  {
   "cell_type": "code",
   "execution_count": 154,
   "metadata": {},
   "outputs": [],
   "source": [
    "import pandas as pd\n",
    "import numpy as np\n",
    "from sklearn import preprocessing\n",
    "import matplotlib.pyplot as plt \n",
    "plt.rc(\"font\", size=14)\n",
    "from sklearn.linear_model import LogisticRegression\n",
    "from sklearn.model_selection import train_test_split\n",
    "import seaborn as sns\n",
    "sns.set(style=\"white\")\n",
    "sns.set(style=\"whitegrid\", color_codes=True)"
   ]
  },
  {
   "cell_type": "code",
   "execution_count": 155,
   "metadata": {
    "scrolled": true
   },
   "outputs": [
    {
     "data": {
      "image/png": "[encoded data removed]",
      "text/plain": [
       "<Figure size 432x288 with 1 Axes>"
      ]
     },
     "metadata": {},
     "output_type": "display_data"
    },
    {
     "data": {
      "text/plain": [
       "False    622954\n",
       "True      10892\n",
       "Name: isFraud, dtype: int64"
      ]
     },
     "execution_count": 155,
     "metadata": {},
     "output_type": "execute_result"
    }
   ],
   "source": [
    "sns.countplot(x='isFraud', data=df, palette='hls')\n",
    "plt.show()\n",
    "df['isFraud'].value_counts()"
   ]
  },
  {
   "cell_type": "code",
   "execution_count": 89,
   "metadata": {},
   "outputs": [
    {
     "data": {
      "text/plain": [
       "array(['fastfood', 'mobileapps', 'food', 'hotels', 'online_retail',\n",
       "       'entertainment', 'rideshare', 'online_gifts', 'fuel',\n",
       "       'online_subscriptions', 'auto', 'airline', 'personal care', 'gym',\n",
       "       'subscriptions', 'health', 'cable/phone', 'food_delivery',\n",
       "       'furniture'], dtype=object)"
      ]
     },
     "execution_count": 89,
     "metadata": {},
     "output_type": "execute_result"
    }
   ],
   "source": [
    "df.merchantCategoryCode.unique()"
   ]
  },
  {
   "cell_type": "code",
   "execution_count": 90,
   "metadata": {},
   "outputs": [
    {
     "data": {
      "text/plain": [
       "Text(0, 0.5, 'Frequency of Fraud')"
      ]
     },
     "execution_count": 90,
     "metadata": {},
     "output_type": "execute_result"
    },
    {
     "data": {
      "image/png": "[encoded data removed]",
      "text/plain": [
       "<Figure size 432x288 with 1 Axes>"
      ]
     },
     "metadata": {
      "needs_background": "light"
     },
     "output_type": "display_data"
    }
   ],
   "source": [
    "%matplotlib inline\n",
    "pd.crosstab(df.merchantCategoryCode,df.isFraud).plot(kind='bar')\n",
    "plt.title('Frequency of being fraud for merchantCategoryCode')\n",
    "plt.xlabel('merchantCategoryCode')\n",
    "plt.ylabel('Frequency of Fraud')"
   ]
  },
  {
   "cell_type": "code",
   "execution_count": 96,
   "metadata": {},
   "outputs": [
    {
     "data": {
      "text/plain": [
       "array(['US', 'MEX', 'PR', 'CAN', nan], dtype=object)"
      ]
     },
     "execution_count": 96,
     "metadata": {},
     "output_type": "execute_result"
    }
   ],
   "source": [
    "df.merchantCountryCode.unique()"
   ]
  },
  {
   "cell_type": "code",
   "execution_count": 159,
   "metadata": {
    "scrolled": false
   },
   "outputs": [
    {
     "data": {
      "text/plain": [
       "Text(0, 0.5, 'Frequency of Fraud')"
      ]
     },
     "execution_count": 159,
     "metadata": {},
     "output_type": "execute_result"
    },
    {
     "data": {
      "image/png": "[encoded data removed]",
      "text/plain": [
       "<Figure size 432x288 with 1 Axes>"
      ]
     },
     "metadata": {},
     "output_type": "display_data"
    }
   ],
   "source": [
    "pd.crosstab(df.merchantCountryCode,df.isFraud).plot(kind='bar')\n",
    "plt.title('Frequency of being fraud for merchantCategoryCode')\n",
    "plt.xlabel('merchantCountryCode')\n",
    "plt.ylabel('Frequency of Fraud')"
   ]
  },
  {
   "cell_type": "markdown",
   "metadata": {},
   "source": [
    "as we can see in the plot, The frequency of being fraud does not depend on the merchantCountryCode. Thus, the merchantCountryCode can't be a good predictor of the outcome variable."
   ]
  },
  {
   "cell_type": "code",
   "execution_count": 164,
   "metadata": {
    "scrolled": false
   },
   "outputs": [
    {
     "data": {
      "text/plain": [
       "Text(0, 0.5, 'Frequency of Fraud')"
      ]
     },
     "execution_count": 164,
     "metadata": {},
     "output_type": "execute_result"
    },
    {
     "data": {
      "image/png": "[encoded data removed]",
      "text/plain": [
       "<Figure size 432x288 with 1 Axes>"
      ]
     },
     "metadata": {},
     "output_type": "display_data"
    }
   ],
   "source": [
    "pd.crosstab(df.creditLimit,df.isFraud).plot(kind='bar')\n",
    "plt.title('Frequency of being fraud')\n",
    "plt.xlabel('creditLimit')\n",
    "plt.ylabel('Frequency of Fraud')"
   ]
  },
  {
   "cell_type": "markdown",
   "metadata": {},
   "source": [
    "even in this plot, as we can see, The frequency of being fraud does not depend on the creditLimit that much. Thus, the creditLimit either can't be a good predictor of the outcome variable."
   ]
  },
  {
   "cell_type": "markdown",
   "metadata": {},
   "source": [
    "\n",
    "\n",
    "### I am going to convert 'transactionDateTime' to an appropriate datetime fotmat that later, we can use it.\n"
   ]
  },
  {
   "cell_type": "code",
   "execution_count": 171,
   "metadata": {},
   "outputs": [],
   "source": [
    "df['date'] = dateTime_pdf[0]\n",
    "df['Time'] = dateTime_pdf[1]\n",
    "df['dateTime'] = pd.to_datetime(df['date'].astype(str) + ' ' + df['Time'].astype(str))\n",
    "df.sort_values(by=['customerId','accountNumber','dateTime'], inplace=True)\n",
    "\n"
   ]
  },
  {
   "cell_type": "code",
   "execution_count": 173,
   "metadata": {},
   "outputs": [
    {
     "data": {
      "text/html": [
       "<div>\n",
       "<style scoped>\n",
       "    .dataframe tbody tr th:only-of-type {\n",
       "        vertical-align: middle;\n",
       "    }\n",
       "\n",
       "    .dataframe tbody tr th {\n",
       "        vertical-align: top;\n",
       "    }\n",
       "\n",
       "    .dataframe thead th {\n",
       "        text-align: right;\n",
       "    }\n",
       "</style>\n",
       "<table border=\"1\" class=\"dataframe\">\n",
       "  <thead>\n",
       "    <tr style=\"text-align: right;\">\n",
       "      <th></th>\n",
       "      <th>0</th>\n",
       "      <th>1</th>\n",
       "    </tr>\n",
       "  </thead>\n",
       "  <tbody>\n",
       "    <tr>\n",
       "      <th>583485</th>\n",
       "      <td>2016-01-02</td>\n",
       "      <td>01:47:46</td>\n",
       "    </tr>\n",
       "    <tr>\n",
       "      <th>583486</th>\n",
       "      <td>2016-01-16</td>\n",
       "      <td>23:35:41</td>\n",
       "    </tr>\n",
       "    <tr>\n",
       "      <th>583487</th>\n",
       "      <td>2016-01-17</td>\n",
       "      <td>21:50:04</td>\n",
       "    </tr>\n",
       "    <tr>\n",
       "      <th>583488</th>\n",
       "      <td>2016-01-29</td>\n",
       "      <td>05:19:50</td>\n",
       "    </tr>\n",
       "    <tr>\n",
       "      <th>583489</th>\n",
       "      <td>2016-01-30</td>\n",
       "      <td>20:49:10</td>\n",
       "    </tr>\n",
       "  </tbody>\n",
       "</table>\n",
       "</div>"
      ],
      "text/plain": [
       "                 0         1\n",
       "583485  2016-01-02  01:47:46\n",
       "583486  2016-01-16  23:35:41\n",
       "583487  2016-01-17  21:50:04\n",
       "583488  2016-01-29  05:19:50\n",
       "583489  2016-01-30  20:49:10"
      ]
     },
     "execution_count": 173,
     "metadata": {},
     "output_type": "execute_result"
    }
   ],
   "source": [
    "dateTime_pdf.head()"
   ]
  },
  {
   "cell_type": "code",
   "execution_count": 174,
   "metadata": {},
   "outputs": [
    {
     "data": {
      "text/html": [
       "<div>\n",
       "<style scoped>\n",
       "    .dataframe tbody tr th:only-of-type {\n",
       "        vertical-align: middle;\n",
       "    }\n",
       "\n",
       "    .dataframe tbody tr th {\n",
       "        vertical-align: top;\n",
       "    }\n",
       "\n",
       "    .dataframe thead th {\n",
       "        text-align: right;\n",
       "    }\n",
       "</style>\n",
       "<table border=\"1\" class=\"dataframe\">\n",
       "  <thead>\n",
       "    <tr style=\"text-align: right;\">\n",
       "      <th></th>\n",
       "      <th>customerId</th>\n",
       "      <th>accountNumber</th>\n",
       "      <th>dateTime</th>\n",
       "      <th>transactionAmount</th>\n",
       "      <th>transactionType</th>\n",
       "    </tr>\n",
       "  </thead>\n",
       "  <tbody>\n",
       "    <tr>\n",
       "      <th>583485</th>\n",
       "      <td>100547107</td>\n",
       "      <td>100547107</td>\n",
       "      <td>2016-01-02 01:47:46</td>\n",
       "      <td>64.66</td>\n",
       "      <td>PURCHASE</td>\n",
       "    </tr>\n",
       "    <tr>\n",
       "      <th>583486</th>\n",
       "      <td>100547107</td>\n",
       "      <td>100547107</td>\n",
       "      <td>2016-01-16 23:35:41</td>\n",
       "      <td>5.31</td>\n",
       "      <td>PURCHASE</td>\n",
       "    </tr>\n",
       "    <tr>\n",
       "      <th>583487</th>\n",
       "      <td>100547107</td>\n",
       "      <td>100547107</td>\n",
       "      <td>2016-01-17 21:50:04</td>\n",
       "      <td>204.23</td>\n",
       "      <td>PURCHASE</td>\n",
       "    </tr>\n",
       "    <tr>\n",
       "      <th>583488</th>\n",
       "      <td>100547107</td>\n",
       "      <td>100547107</td>\n",
       "      <td>2016-01-29 05:19:50</td>\n",
       "      <td>155.28</td>\n",
       "      <td>PURCHASE</td>\n",
       "    </tr>\n",
       "    <tr>\n",
       "      <th>583489</th>\n",
       "      <td>100547107</td>\n",
       "      <td>100547107</td>\n",
       "      <td>2016-01-30 20:49:10</td>\n",
       "      <td>91.14</td>\n",
       "      <td>PURCHASE</td>\n",
       "    </tr>\n",
       "    <tr>\n",
       "      <th>583490</th>\n",
       "      <td>100547107</td>\n",
       "      <td>100547107</td>\n",
       "      <td>2016-02-06 22:31:44</td>\n",
       "      <td>2.80</td>\n",
       "      <td>PURCHASE</td>\n",
       "    </tr>\n",
       "    <tr>\n",
       "      <th>583491</th>\n",
       "      <td>100547107</td>\n",
       "      <td>100547107</td>\n",
       "      <td>2016-02-10 06:48:23</td>\n",
       "      <td>119.77</td>\n",
       "      <td>PURCHASE</td>\n",
       "    </tr>\n",
       "    <tr>\n",
       "      <th>583492</th>\n",
       "      <td>100547107</td>\n",
       "      <td>100547107</td>\n",
       "      <td>2016-02-11 08:28:07</td>\n",
       "      <td>211.11</td>\n",
       "      <td>PURCHASE</td>\n",
       "    </tr>\n",
       "    <tr>\n",
       "      <th>583493</th>\n",
       "      <td>100547107</td>\n",
       "      <td>100547107</td>\n",
       "      <td>2016-02-20 01:01:47</td>\n",
       "      <td>66.23</td>\n",
       "      <td>PURCHASE</td>\n",
       "    </tr>\n",
       "    <tr>\n",
       "      <th>583494</th>\n",
       "      <td>100547107</td>\n",
       "      <td>100547107</td>\n",
       "      <td>2016-02-26 04:02:55</td>\n",
       "      <td>1.06</td>\n",
       "      <td>PURCHASE</td>\n",
       "    </tr>\n",
       "  </tbody>\n",
       "</table>\n",
       "</div>"
      ],
      "text/plain": [
       "       customerId accountNumber            dateTime  transactionAmount  \\\n",
       "583485  100547107     100547107 2016-01-02 01:47:46              64.66   \n",
       "583486  100547107     100547107 2016-01-16 23:35:41               5.31   \n",
       "583487  100547107     100547107 2016-01-17 21:50:04             204.23   \n",
       "583488  100547107     100547107 2016-01-29 05:19:50             155.28   \n",
       "583489  100547107     100547107 2016-01-30 20:49:10              91.14   \n",
       "583490  100547107     100547107 2016-02-06 22:31:44               2.80   \n",
       "583491  100547107     100547107 2016-02-10 06:48:23             119.77   \n",
       "583492  100547107     100547107 2016-02-11 08:28:07             211.11   \n",
       "583493  100547107     100547107 2016-02-20 01:01:47              66.23   \n",
       "583494  100547107     100547107 2016-02-26 04:02:55               1.06   \n",
       "\n",
       "       transactionType  \n",
       "583485        PURCHASE  \n",
       "583486        PURCHASE  \n",
       "583487        PURCHASE  \n",
       "583488        PURCHASE  \n",
       "583489        PURCHASE  \n",
       "583490        PURCHASE  \n",
       "583491        PURCHASE  \n",
       "583492        PURCHASE  \n",
       "583493        PURCHASE  \n",
       "583494        PURCHASE  "
      ]
     },
     "execution_count": 174,
     "metadata": {},
     "output_type": "execute_result"
    }
   ],
   "source": [
    "df[['customerId','accountNumber','dateTime','transactionAmount','transactionType']].head(10)"
   ]
  },
  {
   "cell_type": "markdown",
   "metadata": {},
   "source": [
    "### moldel"
   ]
  },
  {
   "cell_type": "markdown",
   "metadata": {},
   "source": [
    "I am trying to get a better way to gain an appropriate model"
   ]
  },
  {
   "cell_type": "code",
   "execution_count": 179,
   "metadata": {},
   "outputs": [],
   "source": [
    "# keep only features (columns) that could be helpful in idetifying fraud\n",
    "response_feature = ['isFraud']\n",
    "feature_to_keep = ['acqCountry','availableMoney','cardPresent','creditLimit','currentBalance',\n",
    "                  'expirationDateKeyInMatch','merchantCategoryCode',\n",
    "                  'merchantCountryCode','transactionAmount']\n",
    "                  \n",
    "df = df[response_feature + feature_to_keep]"
   ]
  },
  {
   "cell_type": "code",
   "execution_count": 180,
   "metadata": {},
   "outputs": [
    {
     "name": "stdout",
     "output_type": "stream",
     "text": [
      "<class 'pandas.core.frame.DataFrame'>\n",
      "Int64Index: 633846 entries, 583485 to 171056\n",
      "Data columns (total 10 columns):\n",
      "isFraud                     633846 non-null bool\n",
      "acqCountry                  633846 non-null object\n",
      "availableMoney              633846 non-null float64\n",
      "cardPresent                 633846 non-null bool\n",
      "creditLimit                 633846 non-null float64\n",
      "currentBalance              633846 non-null float64\n",
      "expirationDateKeyInMatch    633846 non-null bool\n",
      "merchantCategoryCode        633846 non-null object\n",
      "merchantCountryCode         633846 non-null object\n",
      "transactionAmount           633846 non-null float64\n",
      "dtypes: bool(3), float64(4), object(3)\n",
      "memory usage: 40.5+ MB\n"
     ]
    }
   ],
   "source": [
    "df.info()"
   ]
  },
  {
   "cell_type": "code",
   "execution_count": 183,
   "metadata": {},
   "outputs": [
    {
     "data": {
      "text/html": [
       "<div>\n",
       "<style scoped>\n",
       "    .dataframe tbody tr th:only-of-type {\n",
       "        vertical-align: middle;\n",
       "    }\n",
       "\n",
       "    .dataframe tbody tr th {\n",
       "        vertical-align: top;\n",
       "    }\n",
       "\n",
       "    .dataframe thead th {\n",
       "        text-align: right;\n",
       "    }\n",
       "</style>\n",
       "<table border=\"1\" class=\"dataframe\">\n",
       "  <thead>\n",
       "    <tr style=\"text-align: right;\">\n",
       "      <th></th>\n",
       "      <th>acqCountry</th>\n",
       "      <th>availableMoney</th>\n",
       "      <th>cardPresent</th>\n",
       "      <th>creditLimit</th>\n",
       "      <th>currentBalance</th>\n",
       "      <th>expirationDateKeyInMatch</th>\n",
       "      <th>merchantCategoryCode</th>\n",
       "      <th>merchantCountryCode</th>\n",
       "      <th>transactionAmount</th>\n",
       "    </tr>\n",
       "    <tr>\n",
       "      <th>isFraud</th>\n",
       "      <th></th>\n",
       "      <th></th>\n",
       "      <th></th>\n",
       "      <th></th>\n",
       "      <th></th>\n",
       "      <th></th>\n",
       "      <th></th>\n",
       "      <th></th>\n",
       "      <th></th>\n",
       "    </tr>\n",
       "  </thead>\n",
       "  <tbody>\n",
       "    <tr>\n",
       "      <th>False</th>\n",
       "      <td>622954</td>\n",
       "      <td>622954</td>\n",
       "      <td>622954</td>\n",
       "      <td>622954</td>\n",
       "      <td>622954</td>\n",
       "      <td>622954</td>\n",
       "      <td>622954</td>\n",
       "      <td>622954</td>\n",
       "      <td>622954</td>\n",
       "    </tr>\n",
       "    <tr>\n",
       "      <th>True</th>\n",
       "      <td>10892</td>\n",
       "      <td>10892</td>\n",
       "      <td>10892</td>\n",
       "      <td>10892</td>\n",
       "      <td>10892</td>\n",
       "      <td>10892</td>\n",
       "      <td>10892</td>\n",
       "      <td>10892</td>\n",
       "      <td>10892</td>\n",
       "    </tr>\n",
       "  </tbody>\n",
       "</table>\n",
       "</div>"
      ],
      "text/plain": [
       "         acqCountry  availableMoney  cardPresent  creditLimit  currentBalance  \\\n",
       "isFraud                                                                         \n",
       "False        622954          622954       622954       622954          622954   \n",
       "True          10892           10892        10892        10892           10892   \n",
       "\n",
       "         expirationDateKeyInMatch  merchantCategoryCode  merchantCountryCode  \\\n",
       "isFraud                                                                        \n",
       "False                      622954                622954               622954   \n",
       "True                        10892                 10892                10892   \n",
       "\n",
       "         transactionAmount  \n",
       "isFraud                     \n",
       "False               622954  \n",
       "True                 10892  "
      ]
     },
     "execution_count": 183,
     "metadata": {},
     "output_type": "execute_result"
    }
   ],
   "source": [
    "# unblanaced data\n",
    "df.groupby('isFraud').count()"
   ]
  },
  {
   "cell_type": "code",
   "execution_count": 184,
   "metadata": {},
   "outputs": [],
   "source": [
    "df_false = df[df.isFraud==False]"
   ]
  },
  {
   "cell_type": "code",
   "execution_count": 188,
   "metadata": {},
   "outputs": [],
   "source": [
    "df_true = df[df.isFraud==True]"
   ]
  },
  {
   "cell_type": "code",
   "execution_count": 190,
   "metadata": {},
   "outputs": [],
   "source": [
    "df_false_sample = df_false.sample(df_true.shape[0], replace=False)"
   ]
  },
  {
   "cell_type": "code",
   "execution_count": 191,
   "metadata": {},
   "outputs": [],
   "source": [
    "df = df_true.append(df_false_sample)"
   ]
  },
  {
   "cell_type": "code",
   "execution_count": 192,
   "metadata": {
    "scrolled": true
   },
   "outputs": [
    {
     "data": {
      "text/html": [
       "<div>\n",
       "<style scoped>\n",
       "    .dataframe tbody tr th:only-of-type {\n",
       "        vertical-align: middle;\n",
       "    }\n",
       "\n",
       "    .dataframe tbody tr th {\n",
       "        vertical-align: top;\n",
       "    }\n",
       "\n",
       "    .dataframe thead th {\n",
       "        text-align: right;\n",
       "    }\n",
       "</style>\n",
       "<table border=\"1\" class=\"dataframe\">\n",
       "  <thead>\n",
       "    <tr style=\"text-align: right;\">\n",
       "      <th></th>\n",
       "      <th>acqCountry</th>\n",
       "      <th>availableMoney</th>\n",
       "      <th>cardPresent</th>\n",
       "      <th>creditLimit</th>\n",
       "      <th>currentBalance</th>\n",
       "      <th>expirationDateKeyInMatch</th>\n",
       "      <th>merchantCategoryCode</th>\n",
       "      <th>merchantCountryCode</th>\n",
       "      <th>transactionAmount</th>\n",
       "    </tr>\n",
       "    <tr>\n",
       "      <th>isFraud</th>\n",
       "      <th></th>\n",
       "      <th></th>\n",
       "      <th></th>\n",
       "      <th></th>\n",
       "      <th></th>\n",
       "      <th></th>\n",
       "      <th></th>\n",
       "      <th></th>\n",
       "      <th></th>\n",
       "    </tr>\n",
       "  </thead>\n",
       "  <tbody>\n",
       "    <tr>\n",
       "      <th>False</th>\n",
       "      <td>10892</td>\n",
       "      <td>10892</td>\n",
       "      <td>10892</td>\n",
       "      <td>10892</td>\n",
       "      <td>10892</td>\n",
       "      <td>10892</td>\n",
       "      <td>10892</td>\n",
       "      <td>10892</td>\n",
       "      <td>10892</td>\n",
       "    </tr>\n",
       "    <tr>\n",
       "      <th>True</th>\n",
       "      <td>10892</td>\n",
       "      <td>10892</td>\n",
       "      <td>10892</td>\n",
       "      <td>10892</td>\n",
       "      <td>10892</td>\n",
       "      <td>10892</td>\n",
       "      <td>10892</td>\n",
       "      <td>10892</td>\n",
       "      <td>10892</td>\n",
       "    </tr>\n",
       "  </tbody>\n",
       "</table>\n",
       "</div>"
      ],
      "text/plain": [
       "         acqCountry  availableMoney  cardPresent  creditLimit  currentBalance  \\\n",
       "isFraud                                                                         \n",
       "False         10892           10892        10892        10892           10892   \n",
       "True          10892           10892        10892        10892           10892   \n",
       "\n",
       "         expirationDateKeyInMatch  merchantCategoryCode  merchantCountryCode  \\\n",
       "isFraud                                                                        \n",
       "False                       10892                 10892                10892   \n",
       "True                        10892                 10892                10892   \n",
       "\n",
       "         transactionAmount  \n",
       "isFraud                     \n",
       "False                10892  \n",
       "True                 10892  "
      ]
     },
     "execution_count": 192,
     "metadata": {},
     "output_type": "execute_result"
    }
   ],
   "source": [
    "df.groupby('isFraud').count()"
   ]
  },
  {
   "cell_type": "markdown",
   "metadata": {},
   "source": [
    "### Train Test Validate Split\n",
    "\n",
    "#### Before we start anything, we split data into train and test, and put aside test part"
   ]
  },
  {
   "cell_type": "code",
   "execution_count": null,
   "metadata": {},
   "outputs": [],
   "source": [
    "train_set, test_set = train_test_split(df, test_size = 0.2, random_state = 42)"
   ]
  },
  {
   "cell_type": "code",
   "execution_count": null,
   "metadata": {},
   "outputs": [],
   "source": [
    "df_x = train_set.drop('isFraud',axis=1)\n",
    "df_y = train_set['isFraud'].copy()"
   ]
  },
  {
   "cell_type": "code",
   "execution_count": null,
   "metadata": {},
   "outputs": [],
   "source": [
    "df_x_numeric = df_x.drop(['acqCountry','cardPresent',\n",
    "                          'expirationDateKeyInMatch','merchantCategoryCode','merchantCountryCode'\n",
    "                         ], axis=1)"
   ]
  }
 ],
 "metadata": {
  "kernelspec": {
   "display_name": "Python 3",
   "language": "python",
   "name": "python3"
  },
  "language_info": {
   "codemirror_mode": {
    "name": "ipython",
    "version": 3
   },
   "file_extension": ".py",
   "mimetype": "text/x-python",
   "name": "python",
   "nbconvert_exporter": "python",
   "pygments_lexer": "ipython3",
   "version": "3.7.3"
  }
 },
 "nbformat": 4,
 "nbformat_minor": 2
}
