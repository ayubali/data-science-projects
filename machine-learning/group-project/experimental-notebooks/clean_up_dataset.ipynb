{
 "cells": [
  {
   "cell_type": "markdown",
   "metadata": {},
   "source": [
    "# Machine Learning Challenge: Card Transactions!"
   ]
  },
  {
   "cell_type": "markdown",
   "metadata": {},
   "source": [
    "Summary\n",
    "- It is a classification problem\n",
    "- Features include numerical values and categorical values\n",
    "- Need to impute missing numerical values\n",
    "- Need to impute missing categorical values\n",
    "- Categorical features need to convert to numerical (LabelEncoder and OneHotEncoder or get_dummies or DictVectorizer)\n"
   ]
  },
  {
   "cell_type": "markdown",
   "metadata": {},
   "source": [
    "dataset source\n",
    "- The dataset can be download from:\n",
    "- https://github.com/msarker000/ml-group-project/blob/master/documents/transactions.txt.zip"
   ]
  },
  {
   "cell_type": "markdown",
   "metadata": {},
   "source": [
    "### Library"
   ]
  },
  {
   "cell_type": "code",
   "execution_count": 2,
   "metadata": {},
   "outputs": [],
   "source": [
    "import numpy as np\n",
    "import pandas as pd\n",
    "import json\n",
    "from sklearn import preprocessing\n",
    "from sklearn.linear_model import LogisticRegression\n",
    "from sklearn.model_selection import train_test_split\n"
   ]
  },
  {
   "cell_type": "markdown",
   "metadata": {},
   "source": [
    "### Data Preparation"
   ]
  },
  {
   "cell_type": "markdown",
   "metadata": {},
   "source": [
    "#### Load Data"
   ]
  },
  {
   "cell_type": "code",
   "execution_count": 3,
   "metadata": {},
   "outputs": [],
   "source": [
    "def read_data(path):\n",
    "    '''\n",
    "    this function will read the txt file which is a line-delimited json file and produce a pandas dataframe.\n",
    "    \n",
    "    '''\n",
    "    my_list =[]\n",
    "    with open(path) as f:\n",
    "        for line in f:\n",
    "            json_content = json.loads(line)\n",
    "            my_list.append(json_content)\n",
    "    #df = pd.DataFrame(my_list) \n",
    "    return(pd.DataFrame(my_list))"
   ]
  },
  {
   "cell_type": "code",
   "execution_count": 4,
   "metadata": {},
   "outputs": [],
   "source": [
    "df = read_data('transactions.txt')"
   ]
  },
  {
   "cell_type": "code",
   "execution_count": 5,
   "metadata": {},
   "outputs": [
    {
     "data": {
      "text/html": [
       "<div>\n",
       "<style scoped>\n",
       "    .dataframe tbody tr th:only-of-type {\n",
       "        vertical-align: middle;\n",
       "    }\n",
       "\n",
       "    .dataframe tbody tr th {\n",
       "        vertical-align: top;\n",
       "    }\n",
       "\n",
       "    .dataframe thead th {\n",
       "        text-align: right;\n",
       "    }\n",
       "</style>\n",
       "<table border=\"1\" class=\"dataframe\">\n",
       "  <thead>\n",
       "    <tr style=\"text-align: right;\">\n",
       "      <th></th>\n",
       "      <th>accountNumber</th>\n",
       "      <th>accountOpenDate</th>\n",
       "      <th>acqCountry</th>\n",
       "      <th>availableMoney</th>\n",
       "      <th>cardCVV</th>\n",
       "      <th>cardLast4Digits</th>\n",
       "      <th>cardPresent</th>\n",
       "      <th>creditLimit</th>\n",
       "      <th>currentBalance</th>\n",
       "      <th>currentExpDate</th>\n",
       "      <th>...</th>\n",
       "      <th>merchantName</th>\n",
       "      <th>merchantState</th>\n",
       "      <th>merchantZip</th>\n",
       "      <th>posConditionCode</th>\n",
       "      <th>posEntryMode</th>\n",
       "      <th>posOnPremises</th>\n",
       "      <th>recurringAuthInd</th>\n",
       "      <th>transactionAmount</th>\n",
       "      <th>transactionDateTime</th>\n",
       "      <th>transactionType</th>\n",
       "    </tr>\n",
       "  </thead>\n",
       "  <tbody>\n",
       "    <tr>\n",
       "      <th>0</th>\n",
       "      <td>733493772</td>\n",
       "      <td>2014-08-03</td>\n",
       "      <td>US</td>\n",
       "      <td>5000.00</td>\n",
       "      <td>492</td>\n",
       "      <td>9184</td>\n",
       "      <td>False</td>\n",
       "      <td>5000.0</td>\n",
       "      <td>0.00</td>\n",
       "      <td>04/2020</td>\n",
       "      <td>...</td>\n",
       "      <td>Lyft</td>\n",
       "      <td></td>\n",
       "      <td></td>\n",
       "      <td>01</td>\n",
       "      <td>05</td>\n",
       "      <td></td>\n",
       "      <td></td>\n",
       "      <td>111.33</td>\n",
       "      <td>2016-01-08T19:04:50</td>\n",
       "      <td>PURCHASE</td>\n",
       "    </tr>\n",
       "    <tr>\n",
       "      <th>1</th>\n",
       "      <td>733493772</td>\n",
       "      <td>2014-08-03</td>\n",
       "      <td>US</td>\n",
       "      <td>4888.67</td>\n",
       "      <td>492</td>\n",
       "      <td>9184</td>\n",
       "      <td>False</td>\n",
       "      <td>5000.0</td>\n",
       "      <td>111.33</td>\n",
       "      <td>06/2023</td>\n",
       "      <td>...</td>\n",
       "      <td>Uber</td>\n",
       "      <td></td>\n",
       "      <td></td>\n",
       "      <td>01</td>\n",
       "      <td>09</td>\n",
       "      <td></td>\n",
       "      <td></td>\n",
       "      <td>24.75</td>\n",
       "      <td>2016-01-09T22:32:39</td>\n",
       "      <td>PURCHASE</td>\n",
       "    </tr>\n",
       "    <tr>\n",
       "      <th>2</th>\n",
       "      <td>733493772</td>\n",
       "      <td>2014-08-03</td>\n",
       "      <td>US</td>\n",
       "      <td>4863.92</td>\n",
       "      <td>492</td>\n",
       "      <td>9184</td>\n",
       "      <td>False</td>\n",
       "      <td>5000.0</td>\n",
       "      <td>136.08</td>\n",
       "      <td>12/2027</td>\n",
       "      <td>...</td>\n",
       "      <td>Lyft</td>\n",
       "      <td></td>\n",
       "      <td></td>\n",
       "      <td>01</td>\n",
       "      <td>05</td>\n",
       "      <td></td>\n",
       "      <td></td>\n",
       "      <td>187.40</td>\n",
       "      <td>2016-01-11T13:36:55</td>\n",
       "      <td>PURCHASE</td>\n",
       "    </tr>\n",
       "    <tr>\n",
       "      <th>3</th>\n",
       "      <td>733493772</td>\n",
       "      <td>2014-08-03</td>\n",
       "      <td>US</td>\n",
       "      <td>4676.52</td>\n",
       "      <td>492</td>\n",
       "      <td>9184</td>\n",
       "      <td>False</td>\n",
       "      <td>5000.0</td>\n",
       "      <td>323.48</td>\n",
       "      <td>09/2029</td>\n",
       "      <td>...</td>\n",
       "      <td>Lyft</td>\n",
       "      <td></td>\n",
       "      <td></td>\n",
       "      <td>01</td>\n",
       "      <td>02</td>\n",
       "      <td></td>\n",
       "      <td></td>\n",
       "      <td>227.34</td>\n",
       "      <td>2016-01-11T22:47:46</td>\n",
       "      <td>PURCHASE</td>\n",
       "    </tr>\n",
       "    <tr>\n",
       "      <th>4</th>\n",
       "      <td>733493772</td>\n",
       "      <td>2014-08-03</td>\n",
       "      <td>US</td>\n",
       "      <td>4449.18</td>\n",
       "      <td>492</td>\n",
       "      <td>9184</td>\n",
       "      <td>False</td>\n",
       "      <td>5000.0</td>\n",
       "      <td>550.82</td>\n",
       "      <td>10/2024</td>\n",
       "      <td>...</td>\n",
       "      <td>Lyft</td>\n",
       "      <td></td>\n",
       "      <td></td>\n",
       "      <td>01</td>\n",
       "      <td>02</td>\n",
       "      <td></td>\n",
       "      <td></td>\n",
       "      <td>0.00</td>\n",
       "      <td>2016-01-16T01:41:11</td>\n",
       "      <td>ADDRESS_VERIFICATION</td>\n",
       "    </tr>\n",
       "  </tbody>\n",
       "</table>\n",
       "<p>5 rows × 29 columns</p>\n",
       "</div>"
      ],
      "text/plain": [
       "  accountNumber accountOpenDate acqCountry  availableMoney cardCVV  \\\n",
       "0     733493772      2014-08-03         US         5000.00     492   \n",
       "1     733493772      2014-08-03         US         4888.67     492   \n",
       "2     733493772      2014-08-03         US         4863.92     492   \n",
       "3     733493772      2014-08-03         US         4676.52     492   \n",
       "4     733493772      2014-08-03         US         4449.18     492   \n",
       "\n",
       "  cardLast4Digits  cardPresent  creditLimit  currentBalance currentExpDate  \\\n",
       "0            9184        False       5000.0            0.00        04/2020   \n",
       "1            9184        False       5000.0          111.33        06/2023   \n",
       "2            9184        False       5000.0          136.08        12/2027   \n",
       "3            9184        False       5000.0          323.48        09/2029   \n",
       "4            9184        False       5000.0          550.82        10/2024   \n",
       "\n",
       "   ... merchantName merchantState merchantZip posConditionCode  posEntryMode  \\\n",
       "0  ...         Lyft                                         01            05   \n",
       "1  ...         Uber                                         01            09   \n",
       "2  ...         Lyft                                         01            05   \n",
       "3  ...         Lyft                                         01            02   \n",
       "4  ...         Lyft                                         01            02   \n",
       "\n",
       "   posOnPremises recurringAuthInd transactionAmount  transactionDateTime  \\\n",
       "0                                            111.33  2016-01-08T19:04:50   \n",
       "1                                             24.75  2016-01-09T22:32:39   \n",
       "2                                            187.40  2016-01-11T13:36:55   \n",
       "3                                            227.34  2016-01-11T22:47:46   \n",
       "4                                              0.00  2016-01-16T01:41:11   \n",
       "\n",
       "        transactionType  \n",
       "0              PURCHASE  \n",
       "1              PURCHASE  \n",
       "2              PURCHASE  \n",
       "3              PURCHASE  \n",
       "4  ADDRESS_VERIFICATION  \n",
       "\n",
       "[5 rows x 29 columns]"
      ]
     },
     "execution_count": 5,
     "metadata": {},
     "output_type": "execute_result"
    }
   ],
   "source": [
    "df.head()"
   ]
  },
  {
   "cell_type": "code",
   "execution_count": 6,
   "metadata": {
    "scrolled": true
   },
   "outputs": [
    {
     "data": {
      "text/plain": [
       "(641914, 29)"
      ]
     },
     "execution_count": 6,
     "metadata": {},
     "output_type": "execute_result"
    }
   ],
   "source": [
    "df.shape"
   ]
  },
  {
   "cell_type": "markdown",
   "metadata": {},
   "source": [
    "This dataset has 641914 records(observations) and 29 features."
   ]
  },
  {
   "cell_type": "markdown",
   "metadata": {},
   "source": [
    "## Exploratory Data Analysis"
   ]
  },
  {
   "cell_type": "code",
   "execution_count": 41,
   "metadata": {},
   "outputs": [
    {
     "name": "stdout",
     "output_type": "stream",
     "text": [
      "<class 'pandas.core.frame.DataFrame'>\n",
      "RangeIndex: 641914 entries, 0 to 641913\n",
      "Data columns (total 29 columns):\n",
      "accountNumber               641914 non-null object\n",
      "accountOpenDate             641914 non-null object\n",
      "acqCountry                  641914 non-null object\n",
      "availableMoney              641914 non-null float64\n",
      "cardCVV                     641914 non-null object\n",
      "cardLast4Digits             641914 non-null object\n",
      "cardPresent                 641914 non-null bool\n",
      "creditLimit                 641914 non-null float64\n",
      "currentBalance              641914 non-null float64\n",
      "currentExpDate              641914 non-null object\n",
      "customerId                  641914 non-null object\n",
      "dateOfLastAddressChange     641914 non-null object\n",
      "echoBuffer                  641914 non-null object\n",
      "enteredCVV                  641914 non-null object\n",
      "expirationDateKeyInMatch    641914 non-null bool\n",
      "isFraud                     641914 non-null bool\n",
      "merchantCategoryCode        641914 non-null object\n",
      "merchantCity                641914 non-null object\n",
      "merchantCountryCode         641914 non-null object\n",
      "merchantName                641914 non-null object\n",
      "merchantState               641914 non-null object\n",
      "merchantZip                 641914 non-null object\n",
      "posConditionCode            641914 non-null object\n",
      "posEntryMode                641914 non-null object\n",
      "posOnPremises               641914 non-null object\n",
      "recurringAuthInd            641914 non-null object\n",
      "transactionAmount           641914 non-null float64\n",
      "transactionDateTime         641914 non-null object\n",
      "transactionType             641914 non-null object\n",
      "dtypes: bool(3), float64(4), object(22)\n",
      "memory usage: 129.2+ MB\n"
     ]
    }
   ],
   "source": [
    "df.info()"
   ]
  },
  {
   "cell_type": "markdown",
   "metadata": {},
   "source": [
    "####  Replacing blank values with nan."
   ]
  },
  {
   "cell_type": "code",
   "execution_count": 7,
   "metadata": {},
   "outputs": [],
   "source": [
    " df.replace(r'^\\s*$', np.nan, regex=True, inplace=True) "
   ]
  },
  {
   "cell_type": "code",
   "execution_count": 8,
   "metadata": {},
   "outputs": [
    {
     "data": {
      "text/html": [
       "<div>\n",
       "<style scoped>\n",
       "    .dataframe tbody tr th:only-of-type {\n",
       "        vertical-align: middle;\n",
       "    }\n",
       "\n",
       "    .dataframe tbody tr th {\n",
       "        vertical-align: top;\n",
       "    }\n",
       "\n",
       "    .dataframe thead th {\n",
       "        text-align: right;\n",
       "    }\n",
       "</style>\n",
       "<table border=\"1\" class=\"dataframe\">\n",
       "  <thead>\n",
       "    <tr style=\"text-align: right;\">\n",
       "      <th></th>\n",
       "      <th>availableMoney</th>\n",
       "      <th>creditLimit</th>\n",
       "      <th>currentBalance</th>\n",
       "      <th>echoBuffer</th>\n",
       "      <th>merchantCity</th>\n",
       "      <th>merchantState</th>\n",
       "      <th>merchantZip</th>\n",
       "      <th>posOnPremises</th>\n",
       "      <th>recurringAuthInd</th>\n",
       "      <th>transactionAmount</th>\n",
       "    </tr>\n",
       "  </thead>\n",
       "  <tbody>\n",
       "    <tr>\n",
       "      <th>count</th>\n",
       "      <td>641914.000000</td>\n",
       "      <td>641914.000000</td>\n",
       "      <td>641914.000000</td>\n",
       "      <td>0.0</td>\n",
       "      <td>0.0</td>\n",
       "      <td>0.0</td>\n",
       "      <td>0.0</td>\n",
       "      <td>0.0</td>\n",
       "      <td>0.0</td>\n",
       "      <td>641914.000000</td>\n",
       "    </tr>\n",
       "    <tr>\n",
       "      <th>mean</th>\n",
       "      <td>6652.828573</td>\n",
       "      <td>10697.210608</td>\n",
       "      <td>4044.382035</td>\n",
       "      <td>NaN</td>\n",
       "      <td>NaN</td>\n",
       "      <td>NaN</td>\n",
       "      <td>NaN</td>\n",
       "      <td>NaN</td>\n",
       "      <td>NaN</td>\n",
       "      <td>135.162497</td>\n",
       "    </tr>\n",
       "    <tr>\n",
       "      <th>std</th>\n",
       "      <td>9227.132275</td>\n",
       "      <td>11460.359133</td>\n",
       "      <td>5945.510224</td>\n",
       "      <td>NaN</td>\n",
       "      <td>NaN</td>\n",
       "      <td>NaN</td>\n",
       "      <td>NaN</td>\n",
       "      <td>NaN</td>\n",
       "      <td>NaN</td>\n",
       "      <td>147.053302</td>\n",
       "    </tr>\n",
       "    <tr>\n",
       "      <th>min</th>\n",
       "      <td>-1244.930000</td>\n",
       "      <td>250.000000</td>\n",
       "      <td>0.000000</td>\n",
       "      <td>NaN</td>\n",
       "      <td>NaN</td>\n",
       "      <td>NaN</td>\n",
       "      <td>NaN</td>\n",
       "      <td>NaN</td>\n",
       "      <td>NaN</td>\n",
       "      <td>0.000000</td>\n",
       "    </tr>\n",
       "    <tr>\n",
       "      <th>25%</th>\n",
       "      <td>1114.970000</td>\n",
       "      <td>5000.000000</td>\n",
       "      <td>502.442500</td>\n",
       "      <td>NaN</td>\n",
       "      <td>NaN</td>\n",
       "      <td>NaN</td>\n",
       "      <td>NaN</td>\n",
       "      <td>NaN</td>\n",
       "      <td>NaN</td>\n",
       "      <td>32.320000</td>\n",
       "    </tr>\n",
       "    <tr>\n",
       "      <th>50%</th>\n",
       "      <td>3578.165000</td>\n",
       "      <td>7500.000000</td>\n",
       "      <td>2151.860000</td>\n",
       "      <td>NaN</td>\n",
       "      <td>NaN</td>\n",
       "      <td>NaN</td>\n",
       "      <td>NaN</td>\n",
       "      <td>NaN</td>\n",
       "      <td>NaN</td>\n",
       "      <td>85.800000</td>\n",
       "    </tr>\n",
       "    <tr>\n",
       "      <th>75%</th>\n",
       "      <td>8169.185000</td>\n",
       "      <td>15000.000000</td>\n",
       "      <td>5005.890000</td>\n",
       "      <td>NaN</td>\n",
       "      <td>NaN</td>\n",
       "      <td>NaN</td>\n",
       "      <td>NaN</td>\n",
       "      <td>NaN</td>\n",
       "      <td>NaN</td>\n",
       "      <td>189.030000</td>\n",
       "    </tr>\n",
       "    <tr>\n",
       "      <th>max</th>\n",
       "      <td>50000.000000</td>\n",
       "      <td>50000.000000</td>\n",
       "      <td>47496.500000</td>\n",
       "      <td>NaN</td>\n",
       "      <td>NaN</td>\n",
       "      <td>NaN</td>\n",
       "      <td>NaN</td>\n",
       "      <td>NaN</td>\n",
       "      <td>NaN</td>\n",
       "      <td>1825.250000</td>\n",
       "    </tr>\n",
       "  </tbody>\n",
       "</table>\n",
       "</div>"
      ],
      "text/plain": [
       "       availableMoney    creditLimit  currentBalance  echoBuffer  \\\n",
       "count   641914.000000  641914.000000   641914.000000         0.0   \n",
       "mean      6652.828573   10697.210608     4044.382035         NaN   \n",
       "std       9227.132275   11460.359133     5945.510224         NaN   \n",
       "min      -1244.930000     250.000000        0.000000         NaN   \n",
       "25%       1114.970000    5000.000000      502.442500         NaN   \n",
       "50%       3578.165000    7500.000000     2151.860000         NaN   \n",
       "75%       8169.185000   15000.000000     5005.890000         NaN   \n",
       "max      50000.000000   50000.000000    47496.500000         NaN   \n",
       "\n",
       "       merchantCity  merchantState  merchantZip  posOnPremises  \\\n",
       "count           0.0            0.0          0.0            0.0   \n",
       "mean            NaN            NaN          NaN            NaN   \n",
       "std             NaN            NaN          NaN            NaN   \n",
       "min             NaN            NaN          NaN            NaN   \n",
       "25%             NaN            NaN          NaN            NaN   \n",
       "50%             NaN            NaN          NaN            NaN   \n",
       "75%             NaN            NaN          NaN            NaN   \n",
       "max             NaN            NaN          NaN            NaN   \n",
       "\n",
       "       recurringAuthInd  transactionAmount  \n",
       "count               0.0      641914.000000  \n",
       "mean                NaN         135.162497  \n",
       "std                 NaN         147.053302  \n",
       "min                 NaN           0.000000  \n",
       "25%                 NaN          32.320000  \n",
       "50%                 NaN          85.800000  \n",
       "75%                 NaN         189.030000  \n",
       "max                 NaN        1825.250000  "
      ]
     },
     "execution_count": 8,
     "metadata": {},
     "output_type": "execute_result"
    }
   ],
   "source": [
    "df.describe()"
   ]
  },
  {
   "cell_type": "markdown",
   "metadata": {},
   "source": [
    "### Observations:"
   ]
  },
  {
   "cell_type": "markdown",
   "metadata": {},
   "source": [
    "There are 641914 instances in the dataset. We have some numerical attributes like 'availableMoney', 'creditLimit', and some categorical attributes like 'merchantCategoryCode', 'merchantName'. We have few attributes which totally have missing values. These attributes are:\n",
    "\n",
    "- echoBuffer\n",
    "- merchantCity\n",
    "- merchantState\n",
    "- merchantZip\n",
    "- posOnPremises\n",
    "- recurringAuthInd\n",
    "\n",
    "We can drop these columns. Some attributes like 'acqCountry' has around 3913 missing values. first, We need to handle these missing values.\n"
   ]
  },
  {
   "cell_type": "markdown",
   "metadata": {},
   "source": [
    "#### handeling missing values\n",
    "\n",
    "We have few options:\n",
    "\n",
    "- totally drop those attributes from data.\n",
    "- Drop those records (remove rows where these attributes are missing)\n",
    "- Set the missing to some values. For numerical attributes, we can set them to the mean/median, and for categorical attributes we can set them to the most frequent category."
   ]
  },
  {
   "cell_type": "markdown",
   "metadata": {},
   "source": [
    "\n",
    "#### we are going to drop these attributes which totally have missing values from data."
   ]
  },
  {
   "cell_type": "code",
   "execution_count": 8,
   "metadata": {},
   "outputs": [],
   "source": [
    "df=df.drop(['echoBuffer','merchantCity','merchantState', 'merchantZip', 'posOnPremises', \n",
    "'recurringAuthInd'], axis=1)"
   ]
  },
  {
   "cell_type": "code",
   "execution_count": 9,
   "metadata": {},
   "outputs": [
    {
     "data": {
      "text/plain": [
       "(641914, 23)"
      ]
     },
     "execution_count": 9,
     "metadata": {},
     "output_type": "execute_result"
    }
   ],
   "source": [
    "df.shape"
   ]
  },
  {
   "cell_type": "code",
   "execution_count": 15,
   "metadata": {},
   "outputs": [
    {
     "name": "stdout",
     "output_type": "stream",
     "text": [
      "<class 'pandas.core.frame.DataFrame'>\n",
      "RangeIndex: 641914 entries, 0 to 641913\n",
      "Data columns (total 23 columns):\n",
      "accountNumber               641914 non-null object\n",
      "accountOpenDate             641914 non-null object\n",
      "acqCountry                  638001 non-null object\n",
      "availableMoney              641914 non-null float64\n",
      "cardCVV                     641914 non-null object\n",
      "cardLast4Digits             641914 non-null object\n",
      "cardPresent                 641914 non-null bool\n",
      "creditLimit                 641914 non-null float64\n",
      "currentBalance              641914 non-null float64\n",
      "currentExpDate              641914 non-null object\n",
      "customerId                  641914 non-null object\n",
      "dateOfLastAddressChange     641914 non-null object\n",
      "enteredCVV                  641914 non-null object\n",
      "expirationDateKeyInMatch    641914 non-null bool\n",
      "isFraud                     641914 non-null bool\n",
      "merchantCategoryCode        641914 non-null object\n",
      "merchantCountryCode         641290 non-null object\n",
      "merchantName                641914 non-null object\n",
      "posConditionCode            641627 non-null object\n",
      "posEntryMode                638569 non-null object\n",
      "transactionAmount           641914 non-null float64\n",
      "transactionDateTime         641914 non-null object\n",
      "transactionType             641325 non-null object\n",
      "dtypes: bool(3), float64(4), object(16)\n",
      "memory usage: 99.8+ MB\n"
     ]
    }
   ],
   "source": [
    "df.info()"
   ]
  },
  {
   "cell_type": "markdown",
   "metadata": {},
   "source": [
    "#### Convert to Numeric"
   ]
  },
  {
   "cell_type": "code",
   "execution_count": 10,
   "metadata": {},
   "outputs": [],
   "source": [
    "# numerical columns\n",
    "num_cols = ['availableMoney', 'creditLimit', 'currentBalance', 'transactionAmount']"
   ]
  },
  {
   "cell_type": "code",
   "execution_count": 11,
   "metadata": {},
   "outputs": [
    {
     "data": {
      "text/plain": [
       "Index(['accountNumber', 'accountOpenDate', 'acqCountry', 'cardCVV',\n",
       "       'cardLast4Digits', 'cardPresent', 'currentExpDate', 'customerId',\n",
       "       'dateOfLastAddressChange', 'enteredCVV', 'expirationDateKeyInMatch',\n",
       "       'merchantCategoryCode', 'merchantCountryCode', 'merchantName',\n",
       "       'posConditionCode', 'posEntryMode', 'transactionDateTime',\n",
       "       'transactionType'],\n",
       "      dtype='object')"
      ]
     },
     "execution_count": 11,
     "metadata": {},
     "output_type": "execute_result"
    }
   ],
   "source": [
    "# categorical columns\n",
    "cate_cols = df.columns.drop('isFraud').drop(num_cols)\n",
    "# display categorical columns\n",
    "cate_cols"
   ]
  },
  {
   "cell_type": "code",
   "execution_count": 12,
   "metadata": {},
   "outputs": [],
   "source": [
    "# convert numerical data \n",
    "df[num_cols] = df[num_cols].apply(pd.to_numeric, errors='coerce')"
   ]
  },
  {
   "cell_type": "code",
   "execution_count": 48,
   "metadata": {},
   "outputs": [
    {
     "name": "stdout",
     "output_type": "stream",
     "text": [
      "<class 'pandas.core.frame.DataFrame'>\n",
      "RangeIndex: 641914 entries, 0 to 641913\n",
      "Data columns (total 23 columns):\n",
      "accountNumber               641914 non-null object\n",
      "accountOpenDate             641914 non-null object\n",
      "acqCountry                  638001 non-null object\n",
      "availableMoney              641914 non-null float64\n",
      "cardCVV                     641914 non-null object\n",
      "cardLast4Digits             641914 non-null object\n",
      "cardPresent                 641914 non-null bool\n",
      "creditLimit                 641914 non-null float64\n",
      "currentBalance              641914 non-null float64\n",
      "currentExpDate              641914 non-null object\n",
      "customerId                  641914 non-null object\n",
      "dateOfLastAddressChange     641914 non-null object\n",
      "enteredCVV                  641914 non-null object\n",
      "expirationDateKeyInMatch    641914 non-null bool\n",
      "isFraud                     641914 non-null bool\n",
      "merchantCategoryCode        641914 non-null object\n",
      "merchantCountryCode         641290 non-null object\n",
      "merchantName                641914 non-null object\n",
      "posConditionCode            641627 non-null object\n",
      "posEntryMode                638569 non-null object\n",
      "transactionAmount           641914 non-null float64\n",
      "transactionDateTime         641914 non-null object\n",
      "transactionType             641325 non-null object\n",
      "dtypes: bool(3), float64(4), object(16)\n",
      "memory usage: 99.8+ MB\n"
     ]
    }
   ],
   "source": [
    "df.info()"
   ]
  },
  {
   "cell_type": "markdown",
   "metadata": {},
   "source": [
    "#### Categorical Feature Unique Values"
   ]
  },
  {
   "cell_type": "code",
   "execution_count": 13,
   "metadata": {},
   "outputs": [
    {
     "data": {
      "text/plain": [
       "accountNumber                 5000\n",
       "accountOpenDate               1826\n",
       "acqCountry                       4\n",
       "cardCVV                        899\n",
       "cardLast4Digits               5134\n",
       "cardPresent                      2\n",
       "currentExpDate                 165\n",
       "customerId                    5000\n",
       "dateOfLastAddressChange       2186\n",
       "enteredCVV                     980\n",
       "expirationDateKeyInMatch         2\n",
       "merchantCategoryCode            19\n",
       "merchantCountryCode              4\n",
       "merchantName                  2493\n",
       "posConditionCode                 3\n",
       "posEntryMode                     5\n",
       "transactionDateTime         635472\n",
       "transactionType                  3\n",
       "dtype: int64"
      ]
     },
     "execution_count": 13,
     "metadata": {},
     "output_type": "execute_result"
    }
   ],
   "source": [
    "# check the number of unique values\n",
    "df[cate_cols].apply(lambda x: x.nunique(), axis=0)\n"
   ]
  },
  {
   "cell_type": "code",
   "execution_count": 14,
   "metadata": {},
   "outputs": [
    {
     "data": {
      "text/plain": [
       "accountNumber                  0\n",
       "accountOpenDate                0\n",
       "acqCountry                  3913\n",
       "availableMoney                 0\n",
       "cardCVV                        0\n",
       "cardLast4Digits                0\n",
       "cardPresent                    0\n",
       "creditLimit                    0\n",
       "currentBalance                 0\n",
       "currentExpDate                 0\n",
       "customerId                     0\n",
       "dateOfLastAddressChange        0\n",
       "enteredCVV                     0\n",
       "expirationDateKeyInMatch       0\n",
       "isFraud                        0\n",
       "merchantCategoryCode           0\n",
       "merchantCountryCode          624\n",
       "merchantName                   0\n",
       "posConditionCode             287\n",
       "posEntryMode                3345\n",
       "transactionAmount              0\n",
       "transactionDateTime            0\n",
       "transactionType              589\n",
       "dtype: int64"
      ]
     },
     "execution_count": 14,
     "metadata": {},
     "output_type": "execute_result"
    }
   ],
   "source": [
    "df.isna().sum()"
   ]
  },
  {
   "cell_type": "markdown",
   "metadata": {},
   "source": [
    "#### let's drop rows which has NaN value"
   ]
  },
  {
   "cell_type": "code",
   "execution_count": 15,
   "metadata": {},
   "outputs": [],
   "source": [
    "df.dropna(how='any', subset=['acqCountry'], inplace=True)"
   ]
  },
  {
   "cell_type": "code",
   "execution_count": 16,
   "metadata": {},
   "outputs": [],
   "source": [
    "df.dropna(how='any', subset=['merchantCountryCode'], inplace=True)"
   ]
  },
  {
   "cell_type": "code",
   "execution_count": 17,
   "metadata": {},
   "outputs": [],
   "source": [
    "df.dropna(how='any', subset=['posEntryMode', 'posConditionCode', 'transactionType'], inplace=True)"
   ]
  },
  {
   "cell_type": "code",
   "execution_count": 18,
   "metadata": {},
   "outputs": [
    {
     "data": {
      "text/plain": [
       "accountNumber               0\n",
       "accountOpenDate             0\n",
       "acqCountry                  0\n",
       "availableMoney              0\n",
       "cardCVV                     0\n",
       "cardLast4Digits             0\n",
       "cardPresent                 0\n",
       "creditLimit                 0\n",
       "currentBalance              0\n",
       "currentExpDate              0\n",
       "customerId                  0\n",
       "dateOfLastAddressChange     0\n",
       "enteredCVV                  0\n",
       "expirationDateKeyInMatch    0\n",
       "isFraud                     0\n",
       "merchantCategoryCode        0\n",
       "merchantCountryCode         0\n",
       "merchantName                0\n",
       "posConditionCode            0\n",
       "posEntryMode                0\n",
       "transactionAmount           0\n",
       "transactionDateTime         0\n",
       "transactionType             0\n",
       "dtype: int64"
      ]
     },
     "execution_count": 18,
     "metadata": {},
     "output_type": "execute_result"
    }
   ],
   "source": [
    "df.isna().sum()"
   ]
  },
  {
   "cell_type": "code",
   "execution_count": 55,
   "metadata": {
    "scrolled": true
   },
   "outputs": [
    {
     "data": {
      "text/html": [
       "<div>\n",
       "<style scoped>\n",
       "    .dataframe tbody tr th:only-of-type {\n",
       "        vertical-align: middle;\n",
       "    }\n",
       "\n",
       "    .dataframe tbody tr th {\n",
       "        vertical-align: top;\n",
       "    }\n",
       "\n",
       "    .dataframe thead th {\n",
       "        text-align: right;\n",
       "    }\n",
       "</style>\n",
       "<table border=\"1\" class=\"dataframe\">\n",
       "  <thead>\n",
       "    <tr style=\"text-align: right;\">\n",
       "      <th></th>\n",
       "      <th>accountNumber</th>\n",
       "      <th>accountOpenDate</th>\n",
       "      <th>acqCountry</th>\n",
       "      <th>availableMoney</th>\n",
       "      <th>cardCVV</th>\n",
       "      <th>cardLast4Digits</th>\n",
       "      <th>cardPresent</th>\n",
       "      <th>creditLimit</th>\n",
       "      <th>currentBalance</th>\n",
       "      <th>currentExpDate</th>\n",
       "      <th>...</th>\n",
       "      <th>expirationDateKeyInMatch</th>\n",
       "      <th>isFraud</th>\n",
       "      <th>merchantCategoryCode</th>\n",
       "      <th>merchantCountryCode</th>\n",
       "      <th>merchantName</th>\n",
       "      <th>posConditionCode</th>\n",
       "      <th>posEntryMode</th>\n",
       "      <th>transactionAmount</th>\n",
       "      <th>transactionDateTime</th>\n",
       "      <th>transactionType</th>\n",
       "    </tr>\n",
       "  </thead>\n",
       "  <tbody>\n",
       "    <tr>\n",
       "      <th>0</th>\n",
       "      <td>733493772</td>\n",
       "      <td>2014-08-03</td>\n",
       "      <td>US</td>\n",
       "      <td>5000.00</td>\n",
       "      <td>492</td>\n",
       "      <td>9184</td>\n",
       "      <td>False</td>\n",
       "      <td>5000.0</td>\n",
       "      <td>0.00</td>\n",
       "      <td>04/2020</td>\n",
       "      <td>...</td>\n",
       "      <td>False</td>\n",
       "      <td>True</td>\n",
       "      <td>rideshare</td>\n",
       "      <td>US</td>\n",
       "      <td>Lyft</td>\n",
       "      <td>01</td>\n",
       "      <td>05</td>\n",
       "      <td>111.33</td>\n",
       "      <td>2016-01-08T19:04:50</td>\n",
       "      <td>PURCHASE</td>\n",
       "    </tr>\n",
       "    <tr>\n",
       "      <th>1</th>\n",
       "      <td>733493772</td>\n",
       "      <td>2014-08-03</td>\n",
       "      <td>US</td>\n",
       "      <td>4888.67</td>\n",
       "      <td>492</td>\n",
       "      <td>9184</td>\n",
       "      <td>False</td>\n",
       "      <td>5000.0</td>\n",
       "      <td>111.33</td>\n",
       "      <td>06/2023</td>\n",
       "      <td>...</td>\n",
       "      <td>False</td>\n",
       "      <td>False</td>\n",
       "      <td>rideshare</td>\n",
       "      <td>US</td>\n",
       "      <td>Uber</td>\n",
       "      <td>01</td>\n",
       "      <td>09</td>\n",
       "      <td>24.75</td>\n",
       "      <td>2016-01-09T22:32:39</td>\n",
       "      <td>PURCHASE</td>\n",
       "    </tr>\n",
       "    <tr>\n",
       "      <th>2</th>\n",
       "      <td>733493772</td>\n",
       "      <td>2014-08-03</td>\n",
       "      <td>US</td>\n",
       "      <td>4863.92</td>\n",
       "      <td>492</td>\n",
       "      <td>9184</td>\n",
       "      <td>False</td>\n",
       "      <td>5000.0</td>\n",
       "      <td>136.08</td>\n",
       "      <td>12/2027</td>\n",
       "      <td>...</td>\n",
       "      <td>False</td>\n",
       "      <td>False</td>\n",
       "      <td>rideshare</td>\n",
       "      <td>US</td>\n",
       "      <td>Lyft</td>\n",
       "      <td>01</td>\n",
       "      <td>05</td>\n",
       "      <td>187.40</td>\n",
       "      <td>2016-01-11T13:36:55</td>\n",
       "      <td>PURCHASE</td>\n",
       "    </tr>\n",
       "    <tr>\n",
       "      <th>3</th>\n",
       "      <td>733493772</td>\n",
       "      <td>2014-08-03</td>\n",
       "      <td>US</td>\n",
       "      <td>4676.52</td>\n",
       "      <td>492</td>\n",
       "      <td>9184</td>\n",
       "      <td>False</td>\n",
       "      <td>5000.0</td>\n",
       "      <td>323.48</td>\n",
       "      <td>09/2029</td>\n",
       "      <td>...</td>\n",
       "      <td>False</td>\n",
       "      <td>True</td>\n",
       "      <td>rideshare</td>\n",
       "      <td>US</td>\n",
       "      <td>Lyft</td>\n",
       "      <td>01</td>\n",
       "      <td>02</td>\n",
       "      <td>227.34</td>\n",
       "      <td>2016-01-11T22:47:46</td>\n",
       "      <td>PURCHASE</td>\n",
       "    </tr>\n",
       "    <tr>\n",
       "      <th>4</th>\n",
       "      <td>733493772</td>\n",
       "      <td>2014-08-03</td>\n",
       "      <td>US</td>\n",
       "      <td>4449.18</td>\n",
       "      <td>492</td>\n",
       "      <td>9184</td>\n",
       "      <td>False</td>\n",
       "      <td>5000.0</td>\n",
       "      <td>550.82</td>\n",
       "      <td>10/2024</td>\n",
       "      <td>...</td>\n",
       "      <td>False</td>\n",
       "      <td>False</td>\n",
       "      <td>rideshare</td>\n",
       "      <td>US</td>\n",
       "      <td>Lyft</td>\n",
       "      <td>01</td>\n",
       "      <td>02</td>\n",
       "      <td>0.00</td>\n",
       "      <td>2016-01-16T01:41:11</td>\n",
       "      <td>ADDRESS_VERIFICATION</td>\n",
       "    </tr>\n",
       "  </tbody>\n",
       "</table>\n",
       "<p>5 rows × 23 columns</p>\n",
       "</div>"
      ],
      "text/plain": [
       "  accountNumber accountOpenDate acqCountry  availableMoney cardCVV  \\\n",
       "0     733493772      2014-08-03         US         5000.00     492   \n",
       "1     733493772      2014-08-03         US         4888.67     492   \n",
       "2     733493772      2014-08-03         US         4863.92     492   \n",
       "3     733493772      2014-08-03         US         4676.52     492   \n",
       "4     733493772      2014-08-03         US         4449.18     492   \n",
       "\n",
       "  cardLast4Digits  cardPresent  creditLimit  currentBalance currentExpDate  \\\n",
       "0            9184        False       5000.0            0.00        04/2020   \n",
       "1            9184        False       5000.0          111.33        06/2023   \n",
       "2            9184        False       5000.0          136.08        12/2027   \n",
       "3            9184        False       5000.0          323.48        09/2029   \n",
       "4            9184        False       5000.0          550.82        10/2024   \n",
       "\n",
       "   ... expirationDateKeyInMatch isFraud merchantCategoryCode  \\\n",
       "0  ...                    False    True            rideshare   \n",
       "1  ...                    False   False            rideshare   \n",
       "2  ...                    False   False            rideshare   \n",
       "3  ...                    False    True            rideshare   \n",
       "4  ...                    False   False            rideshare   \n",
       "\n",
       "   merchantCountryCode  merchantName posConditionCode posEntryMode  \\\n",
       "0                   US          Lyft               01           05   \n",
       "1                   US          Uber               01           09   \n",
       "2                   US          Lyft               01           05   \n",
       "3                   US          Lyft               01           02   \n",
       "4                   US          Lyft               01           02   \n",
       "\n",
       "  transactionAmount  transactionDateTime       transactionType  \n",
       "0            111.33  2016-01-08T19:04:50              PURCHASE  \n",
       "1             24.75  2016-01-09T22:32:39              PURCHASE  \n",
       "2            187.40  2016-01-11T13:36:55              PURCHASE  \n",
       "3            227.34  2016-01-11T22:47:46              PURCHASE  \n",
       "4              0.00  2016-01-16T01:41:11  ADDRESS_VERIFICATION  \n",
       "\n",
       "[5 rows x 23 columns]"
      ]
     },
     "execution_count": 55,
     "metadata": {},
     "output_type": "execute_result"
    }
   ],
   "source": [
    "df.head()"
   ]
  },
  {
   "cell_type": "markdown",
   "metadata": {},
   "source": [
    "#### encoding categorical features into numerical values.\n",
    "    It is essential to encoding categorical features into numerical values. We can see from the table, we have several categorical features. I am going to try The labelEncoder and OneHotEncoder which help for encoding categorical features. We need first to extract the categorial featuers using boolean mask.\n",
    "    "
   ]
  },
  {
   "cell_type": "code",
   "execution_count": 19,
   "metadata": {},
   "outputs": [],
   "source": [
    "X, y = df.drop(['isFraud'],axis=1), df['isFraud']"
   ]
  },
  {
   "cell_type": "code",
   "execution_count": 20,
   "metadata": {},
   "outputs": [],
   "source": [
    "# Categorical boolean mask\n",
    "categorical_feature_mask = X.dtypes==object\n",
    "# filter categorical columns using mask and turn it into a list\n",
    "categorical_cols = X.columns[categorical_feature_mask].tolist()"
   ]
  },
  {
   "cell_type": "code",
   "execution_count": 21,
   "metadata": {},
   "outputs": [
    {
     "data": {
      "text/plain": [
       "accountNumber                True\n",
       "accountOpenDate              True\n",
       "acqCountry                   True\n",
       "availableMoney              False\n",
       "cardCVV                      True\n",
       "cardLast4Digits              True\n",
       "cardPresent                 False\n",
       "creditLimit                 False\n",
       "currentBalance              False\n",
       "currentExpDate               True\n",
       "customerId                   True\n",
       "dateOfLastAddressChange      True\n",
       "enteredCVV                   True\n",
       "expirationDateKeyInMatch    False\n",
       "merchantCategoryCode         True\n",
       "merchantCountryCode          True\n",
       "merchantName                 True\n",
       "posConditionCode             True\n",
       "posEntryMode                 True\n",
       "transactionAmount           False\n",
       "transactionDateTime          True\n",
       "transactionType              True\n",
       "dtype: bool"
      ]
     },
     "execution_count": 21,
     "metadata": {},
     "output_type": "execute_result"
    }
   ],
   "source": [
    "categorical_feature_mask"
   ]
  },
  {
   "cell_type": "markdown",
   "metadata": {},
   "source": [
    "#### we are using LabelEncoder to convert each class under specified feature to a numerical value."
   ]
  },
  {
   "cell_type": "code",
   "execution_count": 22,
   "metadata": {},
   "outputs": [],
   "source": [
    "# import labelencoder\n",
    "from sklearn.preprocessing import LabelEncoder\n",
    "# instantiate labelencoder object\n",
    "le = LabelEncoder()"
   ]
  },
  {
   "cell_type": "markdown",
   "metadata": {},
   "source": [
    "#### Then apply LabelEncoder on each of the categorical columns:"
   ]
  },
  {
   "cell_type": "code",
   "execution_count": 23,
   "metadata": {},
   "outputs": [
    {
     "data": {
      "text/html": [
       "<div>\n",
       "<style scoped>\n",
       "    .dataframe tbody tr th:only-of-type {\n",
       "        vertical-align: middle;\n",
       "    }\n",
       "\n",
       "    .dataframe tbody tr th {\n",
       "        vertical-align: top;\n",
       "    }\n",
       "\n",
       "    .dataframe thead th {\n",
       "        text-align: right;\n",
       "    }\n",
       "</style>\n",
       "<table border=\"1\" class=\"dataframe\">\n",
       "  <thead>\n",
       "    <tr style=\"text-align: right;\">\n",
       "      <th></th>\n",
       "      <th>accountNumber</th>\n",
       "      <th>accountOpenDate</th>\n",
       "      <th>acqCountry</th>\n",
       "      <th>cardCVV</th>\n",
       "      <th>cardLast4Digits</th>\n",
       "      <th>currentExpDate</th>\n",
       "      <th>customerId</th>\n",
       "      <th>dateOfLastAddressChange</th>\n",
       "      <th>enteredCVV</th>\n",
       "      <th>merchantCategoryCode</th>\n",
       "      <th>merchantCountryCode</th>\n",
       "      <th>merchantName</th>\n",
       "      <th>posConditionCode</th>\n",
       "      <th>posEntryMode</th>\n",
       "      <th>transactionDateTime</th>\n",
       "      <th>transactionType</th>\n",
       "    </tr>\n",
       "  </thead>\n",
       "  <tbody>\n",
       "    <tr>\n",
       "      <th>641904</th>\n",
       "      <td>440</td>\n",
       "      <td>1769</td>\n",
       "      <td>3</td>\n",
       "      <td>27</td>\n",
       "      <td>2536</td>\n",
       "      <td>11</td>\n",
       "      <td>440</td>\n",
       "      <td>1976</td>\n",
       "      <td>108</td>\n",
       "      <td>12</td>\n",
       "      <td>3</td>\n",
       "      <td>43</td>\n",
       "      <td>1</td>\n",
       "      <td>1</td>\n",
       "      <td>522768</td>\n",
       "      <td>1</td>\n",
       "    </tr>\n",
       "    <tr>\n",
       "      <th>641905</th>\n",
       "      <td>440</td>\n",
       "      <td>1769</td>\n",
       "      <td>3</td>\n",
       "      <td>27</td>\n",
       "      <td>2536</td>\n",
       "      <td>65</td>\n",
       "      <td>440</td>\n",
       "      <td>1976</td>\n",
       "      <td>108</td>\n",
       "      <td>13</td>\n",
       "      <td>3</td>\n",
       "      <td>160</td>\n",
       "      <td>0</td>\n",
       "      <td>0</td>\n",
       "      <td>529723</td>\n",
       "      <td>1</td>\n",
       "    </tr>\n",
       "    <tr>\n",
       "      <th>641906</th>\n",
       "      <td>440</td>\n",
       "      <td>1769</td>\n",
       "      <td>3</td>\n",
       "      <td>27</td>\n",
       "      <td>2536</td>\n",
       "      <td>148</td>\n",
       "      <td>440</td>\n",
       "      <td>1976</td>\n",
       "      <td>108</td>\n",
       "      <td>13</td>\n",
       "      <td>3</td>\n",
       "      <td>605</td>\n",
       "      <td>0</td>\n",
       "      <td>2</td>\n",
       "      <td>538010</td>\n",
       "      <td>1</td>\n",
       "    </tr>\n",
       "    <tr>\n",
       "      <th>641907</th>\n",
       "      <td>440</td>\n",
       "      <td>1769</td>\n",
       "      <td>3</td>\n",
       "      <td>27</td>\n",
       "      <td>2536</td>\n",
       "      <td>148</td>\n",
       "      <td>440</td>\n",
       "      <td>1976</td>\n",
       "      <td>108</td>\n",
       "      <td>15</td>\n",
       "      <td>3</td>\n",
       "      <td>2470</td>\n",
       "      <td>1</td>\n",
       "      <td>2</td>\n",
       "      <td>546930</td>\n",
       "      <td>1</td>\n",
       "    </tr>\n",
       "    <tr>\n",
       "      <th>641908</th>\n",
       "      <td>440</td>\n",
       "      <td>1769</td>\n",
       "      <td>3</td>\n",
       "      <td>27</td>\n",
       "      <td>2536</td>\n",
       "      <td>60</td>\n",
       "      <td>440</td>\n",
       "      <td>1976</td>\n",
       "      <td>108</td>\n",
       "      <td>13</td>\n",
       "      <td>3</td>\n",
       "      <td>1201</td>\n",
       "      <td>0</td>\n",
       "      <td>1</td>\n",
       "      <td>549757</td>\n",
       "      <td>1</td>\n",
       "    </tr>\n",
       "    <tr>\n",
       "      <th>641909</th>\n",
       "      <td>440</td>\n",
       "      <td>1769</td>\n",
       "      <td>3</td>\n",
       "      <td>27</td>\n",
       "      <td>2536</td>\n",
       "      <td>11</td>\n",
       "      <td>440</td>\n",
       "      <td>1976</td>\n",
       "      <td>108</td>\n",
       "      <td>12</td>\n",
       "      <td>3</td>\n",
       "      <td>43</td>\n",
       "      <td>1</td>\n",
       "      <td>1</td>\n",
       "      <td>578560</td>\n",
       "      <td>1</td>\n",
       "    </tr>\n",
       "    <tr>\n",
       "      <th>641910</th>\n",
       "      <td>440</td>\n",
       "      <td>1769</td>\n",
       "      <td>3</td>\n",
       "      <td>27</td>\n",
       "      <td>2536</td>\n",
       "      <td>61</td>\n",
       "      <td>440</td>\n",
       "      <td>1976</td>\n",
       "      <td>108</td>\n",
       "      <td>13</td>\n",
       "      <td>3</td>\n",
       "      <td>161</td>\n",
       "      <td>0</td>\n",
       "      <td>2</td>\n",
       "      <td>587149</td>\n",
       "      <td>1</td>\n",
       "    </tr>\n",
       "    <tr>\n",
       "      <th>641911</th>\n",
       "      <td>440</td>\n",
       "      <td>1769</td>\n",
       "      <td>3</td>\n",
       "      <td>27</td>\n",
       "      <td>2536</td>\n",
       "      <td>124</td>\n",
       "      <td>440</td>\n",
       "      <td>1976</td>\n",
       "      <td>108</td>\n",
       "      <td>13</td>\n",
       "      <td>3</td>\n",
       "      <td>604</td>\n",
       "      <td>0</td>\n",
       "      <td>0</td>\n",
       "      <td>600451</td>\n",
       "      <td>1</td>\n",
       "    </tr>\n",
       "    <tr>\n",
       "      <th>641912</th>\n",
       "      <td>440</td>\n",
       "      <td>1769</td>\n",
       "      <td>3</td>\n",
       "      <td>27</td>\n",
       "      <td>2536</td>\n",
       "      <td>148</td>\n",
       "      <td>440</td>\n",
       "      <td>1976</td>\n",
       "      <td>108</td>\n",
       "      <td>15</td>\n",
       "      <td>3</td>\n",
       "      <td>2470</td>\n",
       "      <td>1</td>\n",
       "      <td>2</td>\n",
       "      <td>605513</td>\n",
       "      <td>1</td>\n",
       "    </tr>\n",
       "    <tr>\n",
       "      <th>641913</th>\n",
       "      <td>440</td>\n",
       "      <td>1769</td>\n",
       "      <td>3</td>\n",
       "      <td>27</td>\n",
       "      <td>2536</td>\n",
       "      <td>102</td>\n",
       "      <td>440</td>\n",
       "      <td>1976</td>\n",
       "      <td>108</td>\n",
       "      <td>13</td>\n",
       "      <td>3</td>\n",
       "      <td>1201</td>\n",
       "      <td>0</td>\n",
       "      <td>2</td>\n",
       "      <td>623058</td>\n",
       "      <td>1</td>\n",
       "    </tr>\n",
       "  </tbody>\n",
       "</table>\n",
       "</div>"
      ],
      "text/plain": [
       "        accountNumber  accountOpenDate  acqCountry  cardCVV  cardLast4Digits  \\\n",
       "641904            440             1769           3       27             2536   \n",
       "641905            440             1769           3       27             2536   \n",
       "641906            440             1769           3       27             2536   \n",
       "641907            440             1769           3       27             2536   \n",
       "641908            440             1769           3       27             2536   \n",
       "641909            440             1769           3       27             2536   \n",
       "641910            440             1769           3       27             2536   \n",
       "641911            440             1769           3       27             2536   \n",
       "641912            440             1769           3       27             2536   \n",
       "641913            440             1769           3       27             2536   \n",
       "\n",
       "        currentExpDate  customerId  dateOfLastAddressChange  enteredCVV  \\\n",
       "641904              11         440                     1976         108   \n",
       "641905              65         440                     1976         108   \n",
       "641906             148         440                     1976         108   \n",
       "641907             148         440                     1976         108   \n",
       "641908              60         440                     1976         108   \n",
       "641909              11         440                     1976         108   \n",
       "641910              61         440                     1976         108   \n",
       "641911             124         440                     1976         108   \n",
       "641912             148         440                     1976         108   \n",
       "641913             102         440                     1976         108   \n",
       "\n",
       "        merchantCategoryCode  merchantCountryCode  merchantName  \\\n",
       "641904                    12                    3            43   \n",
       "641905                    13                    3           160   \n",
       "641906                    13                    3           605   \n",
       "641907                    15                    3          2470   \n",
       "641908                    13                    3          1201   \n",
       "641909                    12                    3            43   \n",
       "641910                    13                    3           161   \n",
       "641911                    13                    3           604   \n",
       "641912                    15                    3          2470   \n",
       "641913                    13                    3          1201   \n",
       "\n",
       "        posConditionCode  posEntryMode  transactionDateTime  transactionType  \n",
       "641904                 1             1               522768                1  \n",
       "641905                 0             0               529723                1  \n",
       "641906                 0             2               538010                1  \n",
       "641907                 1             2               546930                1  \n",
       "641908                 0             1               549757                1  \n",
       "641909                 1             1               578560                1  \n",
       "641910                 0             2               587149                1  \n",
       "641911                 0             0               600451                1  \n",
       "641912                 1             2               605513                1  \n",
       "641913                 0             2               623058                1  "
      ]
     },
     "execution_count": 23,
     "metadata": {},
     "output_type": "execute_result"
    }
   ],
   "source": [
    "# apply le on categorical feature columns\n",
    "X[categorical_cols] = X[categorical_cols].apply(lambda col: le.fit_transform(col))\n",
    "X[categorical_cols].tail(10)"
   ]
  },
  {
   "cell_type": "code",
   "execution_count": 24,
   "metadata": {},
   "outputs": [
    {
     "name": "stderr",
     "output_type": "stream",
     "text": [
      "/anaconda3/lib/python3.7/site-packages/sklearn/preprocessing/_encoders.py:371: FutureWarning: The handling of integer data will change in version 0.22. Currently, the categories are determined based on the range [0, max(values)], while in the future they will be determined based on the unique values.\n",
      "If you want the future behaviour and silence this warning, you can specify \"categories='auto'\".\n",
      "In case you used a LabelEncoder before this OneHotEncoder to convert the categories to integers, then you can now use the OneHotEncoder directly.\n",
      "  warnings.warn(msg, FutureWarning)\n",
      "/anaconda3/lib/python3.7/site-packages/sklearn/preprocessing/_encoders.py:392: DeprecationWarning: The 'categorical_features' keyword is deprecated in version 0.20 and will be removed in 0.22. You can use the ColumnTransformer instead.\n",
      "  \"use the ColumnTransformer instead.\", DeprecationWarning)\n"
     ]
    }
   ],
   "source": [
    "enc = preprocessing.OneHotEncoder(categorical_features = categorical_feature_mask)\n",
    "\n",
    "\n",
    "X_ohe = enc.fit_transform(X) # It returns an numpy array"
   ]
  },
  {
   "cell_type": "code",
   "execution_count": 25,
   "metadata": {},
   "outputs": [],
   "source": [
    "X_new = X_ohe.toarray()"
   ]
  },
  {
   "cell_type": "code",
   "execution_count": 26,
   "metadata": {},
   "outputs": [
    {
     "data": {
      "text/plain": [
       "array([[   0.  ,    0.  ,    0.  , ...,    0.  ,    0.  ,  111.33],\n",
       "       [   0.  ,    0.  ,    0.  , ...,  111.33,    0.  ,   24.75],\n",
       "       [   0.  ,    0.  ,    0.  , ...,  136.08,    0.  ,  187.4 ],\n",
       "       ...,\n",
       "       [   0.  ,    0.  ,    0.  , ..., 5155.05,    0.  ,  138.42],\n",
       "       [   0.  ,    0.  ,    0.  , ..., 5293.47,    0.  ,   16.31],\n",
       "       [   0.  ,    0.  ,    0.  , ..., 5309.78,    0.  ,   32.53]])"
      ]
     },
     "execution_count": 26,
     "metadata": {},
     "output_type": "execute_result"
    }
   ],
   "source": [
    "X_new"
   ]
  },
  {
   "cell_type": "markdown",
   "metadata": {},
   "source": [
    "### Train Test Validate Split"
   ]
  },
  {
   "cell_type": "code",
   "execution_count": null,
   "metadata": {},
   "outputs": [],
   "source": [
    "X_train, X_test, y_train, y_test = train_test_split(X_new, y, \n",
    "                                                     test_size=0.3, \n",
    "                                                     random_state=0)"
   ]
  }
 ],
 "metadata": {
  "kernelspec": {
   "display_name": "Python 3",
   "language": "python",
   "name": "python3"
  },
  "language_info": {
   "codemirror_mode": {
    "name": "ipython",
    "version": 3
   },
   "file_extension": ".py",
   "mimetype": "text/x-python",
   "name": "python",
   "nbconvert_exporter": "python",
   "pygments_lexer": "ipython3",
   "version": "3.7.3"
  }
 },
 "nbformat": 4,
 "nbformat_minor": 2
}
