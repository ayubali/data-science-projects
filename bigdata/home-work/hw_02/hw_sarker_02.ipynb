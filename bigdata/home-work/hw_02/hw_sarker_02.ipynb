{
 "cells": [
  {
   "cell_type": "code",
   "execution_count": 55,
   "metadata": {
    "scrolled": false
   },
   "outputs": [],
   "source": [
    "import csv\n",
    "\n",
    "#Function to read  data from csv file and generate stream\n",
    "def csvRows(filename):\n",
    "    with open(filename, 'r') as fi:\n",
    "        reader = csv.DictReader(fi)\n",
    "        for row in reader:\n",
    "            yield(row)\n",
    "\n",
    "input_file = 'sale.csv'\n",
    "output_file = 'output.csv'\n",
    "\n",
    "# Read data from stream and count number of customer of each product\n",
    "# Customer_dict is used to store product ID and customer count\n",
    "# Product_cost is used to store sum of item cost for each \n",
    "customer_dict = {}\n",
    "product_cost = {}\n",
    "last_customer_id = {}\n",
    "\n",
    "for row in csvRows(input_file):\n",
    "    product_id = row['Product ID']\n",
    "    customer_id = row['Customer ID'] \n",
    "    item_cost = float(row['Item Cost'])\n",
    "    if product_id in customer_dict:\n",
    "        product_cost[product_id] = product_cost[product_id] + item_cost\n",
    "        if last_customer_id[product_id] != customer_id:\n",
    "            customer_dict[product_id] = customer_dict[product_id]+1\n",
    "    else:\n",
    "        customer_dict[product_id] = 1\n",
    "        product_cost[product_id] = item_cost\n",
    "    \n",
    "    last_customer_id[product_id] = customer_id\n",
    "\n",
    "# write output to file\n",
    "with open(output_file, 'w') as writeFile:\n",
    "    writer = csv.writer(writeFile)\n",
    "    for key, value in customer_dict.items():\n",
    "        writer.writerow([key, value, \"{0:.2f}\".format(product_cost[key])])\n",
    "writeFile.close()\n",
    "\n",
    "    "
   ]
  },
  {
   "cell_type": "code",
   "execution_count": 56,
   "metadata": {},
   "outputs": [
    {
     "data": {
      "text/plain": [
       "Product ID\n",
       "P02291    16\n",
       "P19498    17\n",
       "P32565    17\n",
       "P33162    18\n",
       "P39328    17\n",
       "P58225    17\n",
       "P61235    18\n",
       "P76615    18\n",
       "P82222    17\n",
       "P92449    14\n",
       "Name: Customer ID, dtype: int64"
      ]
     },
     "execution_count": 56,
     "metadata": {},
     "output_type": "execute_result"
    }
   ],
   "source": [
    "import pandas as pd \n",
    "\n",
    "data = pd.read_csv(\"sale.csv\") \n",
    "\n",
    "data.head()\n",
    "\n",
    "data.groupby('Product ID')['Item Cost'].sum()\n",
    "data.groupby('Product ID')['Customer ID'].nunique()\n",
    "#data['Product ID'].nunique()"
   ]
  },
  {
   "cell_type": "code",
   "execution_count": null,
   "metadata": {},
   "outputs": [],
   "source": []
  },
  {
   "cell_type": "code",
   "execution_count": null,
   "metadata": {},
   "outputs": [],
   "source": []
  }
 ],
 "metadata": {
  "kernelspec": {
   "display_name": "Python 3",
   "language": "python",
   "name": "python3"
  },
  "language_info": {
   "codemirror_mode": {
    "name": "ipython",
    "version": 3
   },
   "file_extension": ".py",
   "mimetype": "text/x-python",
   "name": "python",
   "nbconvert_exporter": "python",
   "pygments_lexer": "ipython3",
   "version": "3.6.5"
  }
 },
 "nbformat": 4,
 "nbformat_minor": 2
}
