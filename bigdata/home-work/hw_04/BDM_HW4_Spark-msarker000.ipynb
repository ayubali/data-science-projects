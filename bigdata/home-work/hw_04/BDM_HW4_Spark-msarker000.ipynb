{
 "cells": [
  {
   "cell_type": "markdown",
   "metadata": {},
   "source": [
    "# Homework 4 - Spark\n",
    "\n",
    "In this homework, we are practicing Apache Spark.\n",
    "\n",
    "You are required to turn in this notebook as BDM\\_HW4\\_Spark\\_**NetId**.ipynb. You will be asked to complete each task using Apache Spark. Output can be printed in the notebook."
   ]
  },
  {
   "cell_type": "markdown",
   "metadata": {},
   "source": [
    "## Task 1 (5 points)\n",
    "\n",
    "You are asked to implement Homework 3 using Spark. The description is provided below for your convenience.\n",
    "\n",
    "You are asked to implement the Social Triangle example discussed in class. In particular, given the email dataset, please list all \"reciprocal\" relationships in the company. Recall that:\n",
    "\n",
    "If A emails B and B emails A, then A and B is *reciprocal*.\n",
    "\n",
    "If A emails B but B doesn’t email A, then A and B is *directed*.\n",
    "\n",
    "**Dataset:** We will use a subset of the open [Enron Email Dataset](https://www.cs.cmu.edu/~./enron/ \"Enron Email Dataset\"), which contains approximately 10,000 simplified email headers from the Enron Corporation. You can download this dataset from NYU Classes as **enron_mails_small.csv**. The file contains 3 columns *Date*, *From*, and *To*. Their description is as follows:\n",
    "\n",
    "|Column name|Description|\n",
    "|--|--|\n",
    "|Date |The date and time of the email, in the format YYYY-MM-DD hh-mm-ss, <br />e.g. \"1998-10-30 07:43:00\" |\n",
    "|From |The sender email address, <br />e.g. \"mark.taylor@enron.com\" |\n",
    "|To | A list of recipients' email addresses separated by semicolons ';', <br />e.g. \"jennifer.fraser@enron.com;jeffrey.hodge@enron.com\" |\n",
    "\n",
    "Note that, we only care about users employed by Enron, or only relationships having email addresses that end with *'@enron.com'*.\n",
    "\n",
    "The expected output is also provided below. For each reciprocal relationship, please output a tuple consisting of two strings. The first one is always **'reciprocal'**. And the second one is a string showing the name of the two person in the following format: **'Jane Doe : John Doe'**. The names should be presented in the lexical order, i.e. there will not be a 'John Doe : Jane Doe' since 'Jane' is ordered before 'John.\n",
    "\n",
    "Though the dataset only contains email addresses, not actual names, we're assuming that the email aliases were created based on their name. For example:\n",
    "\n",
    "|Email Address|Converted Name|\n",
    "|--|--|\n",
    "|mark.taylor@enron.com|Mark Taylor|\n",
    "|alan.aronowitz@enron.com|Alan Aronowitz|\n",
    "|marc.r.cutler@enron.com|Marc R Cutler|\n",
    "|hugh@enron.com|Hugh|\n",
    "\n",
    "Please fill the code block with a series of MapReduce jobs using your own mapper and reducer functions. Be sure to include the naming convention logic into one of your mappers and/or reducers."
   ]
  },
  {
   "cell_type": "code",
   "execution_count": 19,
   "metadata": {},
   "outputs": [
    {
     "data": {
      "text/plain": [
       "[('reciprocal', 'Brenda Whitehead', 'Elizabeth Sager'),\n",
       " ('reciprocal', 'Carol Clair', 'Debra Perlingiere'),\n",
       " ('reciprocal', 'Carol Clair', 'Mark Taylor'),\n",
       " ('reciprocal', 'Carol Clair', 'Richard Sanders'),\n",
       " ('reciprocal', 'Carol Clair', 'Sara Shackleton'),\n",
       " ('reciprocal', 'Carol Clair', 'Tana Jones'),\n",
       " ('reciprocal', 'Debra Perlingiere', 'Kevin Ruscitti'),\n",
       " ('reciprocal', 'Drew Fossum', 'Susan Scott'),\n",
       " ('reciprocal', 'Elizabeth Sager', 'Janette Elbertson'),\n",
       " ('reciprocal', 'Elizabeth Sager', 'Mark Haedicke'),\n",
       " ('reciprocal', 'Elizabeth Sager', 'Mark Taylor'),\n",
       " ('reciprocal', 'Elizabeth Sager', 'Richard Sanders'),\n",
       " ('reciprocal', 'Eric Bass', 'Susan Scott'),\n",
       " ('reciprocal', 'Fletcher Sturm', 'Greg Whalley'),\n",
       " ('reciprocal', 'Fletcher Sturm', 'Sally Beck'),\n",
       " ('reciprocal', 'Gerald Nemec', 'Susan Scott'),\n",
       " ('reciprocal', 'Grant Masson', 'Vince Kaminski'),\n",
       " ('reciprocal', 'Greg Whalley', 'Richard Sanders'),\n",
       " ('reciprocal', 'Janette Elbertson', 'Mark Taylor'),\n",
       " ('reciprocal', 'Janette Elbertson', 'Richard Sanders'),\n",
       " ('reciprocal', 'Liz Taylor', 'Mark Haedicke'),\n",
       " ('reciprocal', 'Mark Haedicke', 'Mark Taylor'),\n",
       " ('reciprocal', 'Mark Haedicke', 'Michelle Cash'),\n",
       " ('reciprocal', 'Mark Haedicke', 'Richard Sanders'),\n",
       " ('reciprocal', 'Mark Haedicke', 'Twanda Sweet'),\n",
       " ('reciprocal', 'Mark Taylor', 'Sara Shackleton'),\n",
       " ('reciprocal', 'Mark Taylor', 'Tana Jones'),\n",
       " ('reciprocal', 'Michelle Cash', 'Twanda Sweet'),\n",
       " ('reciprocal', 'Pinnamaneni Krishnarao', 'Vince Kaminski'),\n",
       " ('reciprocal', 'Richard Sanders', 'Sara Shackleton'),\n",
       " ('reciprocal', 'Rosalee Fleming', 'Steven Kean'),\n",
       " ('reciprocal', 'Sara Shackleton', 'Tana Jones'),\n",
       " ('reciprocal', 'Shirley Crenshaw', 'Vince Kaminski'),\n",
       " ('reciprocal', 'Stinson Gibner', 'Vince Kaminski'),\n",
       " ('reciprocal', 'Vasant Shanbhogue', 'Vince Kaminski')]"
      ]
     },
     "execution_count": 19,
     "metadata": {},
     "output_type": "execute_result"
    }
   ],
   "source": [
    "rdd = sc.textFile('enron_mails_small.csv').cache()\n",
    "def mapper(pid, rows):\n",
    "    if pid == 0:\n",
    "        next(rows)\n",
    "    import csv\n",
    "    for fields in csv.reader(rows):\n",
    "        email_from = fields[1]\n",
    "        if email_from[email_from.find('@'):] == '@enron.com':\n",
    "            emails_to_str = fields[2].split(';')\n",
    "            for e_to in emails_to_str:\n",
    "                yield (email_from[:email_from.find('@')], e_to[:e_to.find('@')])\n",
    "    \n",
    "    \n",
    "reciprocalList = rdd.mapPartitionsWithIndex(mapper)\\\n",
    "    .map(lambda x:(x,0) ) \\\n",
    "    .groupByKey() \\\n",
    "    .map(lambda x: (tuple(sorted(x[0])),1)) \\\n",
    "    .reduceByKey(lambda v1 , v2: v1 + v2) \\\n",
    "    .filter(lambda x: x[1]>=2) \\\n",
    "    .sortByKey() \\\n",
    "    .map(lambda x : ('reciprocal', x[0][0].replace(\".\", \" \").title(), x[0][1].replace(\".\", \" \").title())) \\\n",
    "    .collect()\n",
    "\n",
    "len(reciprocalList)\n",
    "reciprocalList"
   ]
  },
  {
   "cell_type": "markdown",
   "metadata": {},
   "source": [
    "## Task 2 (5 points)\n",
    "\n",
    "You are asked to implement Task 2 of Lab 5. The description is provided below for your convenience.\n",
    "\n",
    "We’ll be using two NYC open data sets: the SAT Results and the NYC High School Directory data sets. Both can be downloaded from the links below, or from online class resources.\n",
    "\n",
    "**Dataset**: *Please note that each school is uniquely identified by an DBN code, which should be found on both data sets.*\n",
    "\n",
    "**SAT_Results.csv**\n",
    "Source: https://nycopendata.socrata.com/Education/SAT-Results/f9bf-2cp4  \n",
    "Description: “The most recent school level results for New York City on the SAT. Results are available at the school level for the graduating seniors of 2012.”\n",
    "\n",
    "**DOE_High_School_Directory_2014-2015.csv**\n",
    "Source: https://data.cityofnewyork.us/Education/DOE-High-School-Directory-2014-2015/n3p6-zve2  \n",
    "Description: “Directory of NYC High Schools.”\n",
    "\n",
    "We would like to know how the Math scores vary across bus lines or subway lines serving the schools. Your task is to compute the average Math scores of all schools along each bus line and subway line. You can find the bus and subway lines serving each school in the High School Dictionary as bus and subway columns.\n",
    "\n",
    "The expected results are two lists:\n",
    "1. A list of key/value pairs: with bus line as keys, and the average Math scores as values.\n",
    "2. A list of key/value pairs: with subway line as keys, and the average Math scores as values.\n",
    "\n",
    "The top ten lines with highest score are shown below."
   ]
  },
  {
   "cell_type": "code",
   "execution_count": 20,
   "metadata": {},
   "outputs": [],
   "source": [
    "SAT_FN='SAT_Results.csv'\n",
    "HSD_FN='DOE_High_School_Directory_2014-2015.csv'"
   ]
  },
  {
   "cell_type": "code",
   "execution_count": 21,
   "metadata": {},
   "outputs": [
    {
     "name": "stdout",
     "output_type": "stream",
     "text": [
      "+------+-------+------+\n",
      "|   DBN|ntakers| total|\n",
      "+------+-------+------+\n",
      "|02M047|     16|  6400|\n",
      "|21K410|    475|207575|\n",
      "|30Q301|     98| 43120|\n",
      "|17K382|     59| 22066|\n",
      "|18K637|     35| 13335|\n",
      "|32K403|     50| 18300|\n",
      "|09X365|     54| 18306|\n",
      "|11X270|     56| 22064|\n",
      "|05M367|     33| 12078|\n",
      "|14K404|     68| 24276|\n",
      "+------+-------+------+\n",
      "only showing top 10 rows\n",
      "\n"
     ]
    }
   ],
   "source": [
    "dfSatScores = spark.read.load(SAT_FN, format='csv', header = True, inferSchema=True)\n",
    "dfSatScores =dfSatScores.select('DBN', dfSatScores['Num of SAT Test Takers'].cast('int').alias('ntakers'),\n",
    "                          dfSatScores['`SAT Math Avg. Score`'].cast('int').alias('score')).na.drop()\n",
    "\n",
    "dfSatScores = dfSatScores.select('DBN', 'ntakers', (dfSatScores.score*dfSatScores.ntakers).alias('total'))\n",
    "\n",
    "dfSatScores.show(10)"
   ]
  },
  {
   "cell_type": "code",
   "execution_count": 22,
   "metadata": {},
   "outputs": [
    {
     "name": "stdout",
     "output_type": "stream",
     "text": [
      "+------+-------+\n",
      "|   DBN|    Bus|\n",
      "+------+-------+\n",
      "|01M292|    B39|\n",
      "|01M292|   M14A|\n",
      "|01M292|   M14D|\n",
      "|01M292|    M15|\n",
      "|01M292|M15-SBS|\n",
      "|01M292|    M21|\n",
      "|01M292|    M22|\n",
      "|01M292|     M9|\n",
      "|01M448|   M14A|\n",
      "|01M448|   M14D|\n",
      "+------+-------+\n",
      "only showing top 10 rows\n",
      "\n",
      "+------+--------------------+\n",
      "|   DBN|              Subway|\n",
      "+------+--------------------+\n",
      "|01M292|    B, D to Grand St|\n",
      "|01M292|  F to East Broadway|\n",
      "|01M292|J, M, Z to Delanc...|\n",
      "|01M448|  F to East Broadway|\n",
      "|01M448|J, M, Z to Delanc...|\n",
      "|01M450|    6 to Astor Place|\n",
      "|01M450|        L to 1st Ave|\n",
      "|01M509|    B, D to Grand St|\n",
      "|01M509|F, J, M, Z to Del...|\n",
      "|01M539|F, J, M, Z to Del...|\n",
      "+------+--------------------+\n",
      "only showing top 10 rows\n",
      "\n"
     ]
    }
   ],
   "source": [
    "import csv\n",
    "\n",
    "schools = sc.textFile(HSD_FN).cache()\n",
    "\n",
    "def extractBus(pid, rows):\n",
    "    if pid == 0:\n",
    "        next(rows)\n",
    "\n",
    "    for fields in csv.reader(rows):\n",
    "        if len(fields)==58:\n",
    "            for bus in fields[10].split(\",\"):\n",
    "                yield (fields[0], bus.strip())\n",
    "    \n",
    "\n",
    "def extractSubway(pid, rows):\n",
    "    if pid == 0:\n",
    "        next(rows)\n",
    "\n",
    "    for fields in csv.reader(rows):\n",
    "        if len(fields)==58:\n",
    "            for bus in fields[11].split(\";\"):\n",
    "                yield (fields[0], bus.strip())\n",
    "        \n",
    "\n",
    "schoolBus = schools.mapPartitionsWithIndex(extractBus) \\\n",
    "                .collect()\n",
    "                    \n",
    "schoolSubway= schools.mapPartitionsWithIndex(extractSubway) \\\n",
    "                .collect()\n",
    "\n",
    "dfSchoolBus= sqlContext.createDataFrame(schoolBus, ['DBN', 'Bus'])\n",
    "dfSchoolSubway = sqlContext.createDataFrame(schoolSubway, ['DBN', 'Subway'])\n",
    "\n",
    "dfSchoolBus.show(10)\n",
    "dfSchoolSubway.show(10)"
   ]
  },
  {
   "cell_type": "code",
   "execution_count": 23,
   "metadata": {},
   "outputs": [
    {
     "name": "stdout",
     "output_type": "stream",
     "text": [
      "+-------+---+\n",
      "|    Bus|avg|\n",
      "+-------+---+\n",
      "|   Bx33|426|\n",
      "|   Q101|464|\n",
      "|    Q65|464|\n",
      "|B44-SBS|465|\n",
      "|     Q7|407|\n",
      "|   Q110|462|\n",
      "|    B39|438|\n",
      "|    Q32|466|\n",
      "|   Q100|454|\n",
      "|    Q16|445|\n",
      "|   M104|477|\n",
      "|    Q50|392|\n",
      "|    Q42|582|\n",
      "|   M103|441|\n",
      "|    Q28|492|\n",
      "|     M4|442|\n",
      "|    M66|518|\n",
      "|     M7|483|\n",
      "|    Bx7|402|\n",
      "|     B4|466|\n",
      "+-------+---+\n",
      "only showing top 20 rows\n",
      "\n"
     ]
    }
   ],
   "source": [
    "#find ave score for by bus\n",
    "dfBusAgeResults = dfSchoolBus.join(dfSatScores, dfSchoolBus.DBN==dfSatScores.DBN, how='inner')\n",
    "dfBusAgeResults = dfBusAgeResults.groupBy('Bus').sum('ntakers', 'total')\n",
    "dfBusAgeResults = dfBusAgeResults.withColumn('avg', (dfBusAgeResults[2]/dfBusAgeResults[1]).cast('int')) \\\n",
    "            .select('Bus', 'avg')\n",
    "dfBusAgeResults.show()"
   ]
  },
  {
   "cell_type": "code",
   "execution_count": 24,
   "metadata": {},
   "outputs": [
    {
     "name": "stdout",
     "output_type": "stream",
     "text": [
      "+--------------------+---+\n",
      "|              Subway|avg|\n",
      "+--------------------+---+\n",
      "|4 to 138th St - G...|378|\n",
      "|       D to 25th Ave|382|\n",
      "|4, 5, 6, N, Q, R ...|451|\n",
      "|      Z to Marcy Ave|355|\n",
      "|7 to Rawson St-33...|482|\n",
      "|4, 5, 6, L, N, Q,...|391|\n",
      "|   C, E to Spring St|452|\n",
      "|  A, C to Euclid Ave|414|\n",
      "|1 to 137th St - C...|500|\n",
      "|2, 3, 4, 5, F, S ...|393|\n",
      "|6 to 138th St-3rd...|371|\n",
      "|4, B, D to Kingsb...|372|\n",
      "|   C to Franklin Ave|364|\n",
      "|2, 5 to Intervale Av|432|\n",
      "|  C to Lafayette Ave|635|\n",
      "|4 to 149th St-Gra...|400|\n",
      "|    2, 5 to 174th St|379|\n",
      "|       1 to 157th St|376|\n",
      "|    C to Liberty Ave|369|\n",
      "|A, S to Beach 98t...|419|\n",
      "+--------------------+---+\n",
      "only showing top 20 rows\n",
      "\n"
     ]
    }
   ],
   "source": [
    "#find ave score for by Subway\n",
    "dfSubwayAgeResults = dfSchoolSubway.join(dfSatScores, dfSchoolSubway.DBN==dfSatScores.DBN, how='inner')\n",
    "dfSubwayAgeResults = dfSubwayAgeResults.groupBy('Subway').sum('ntakers', 'total')\n",
    "dfSubwayAgeResults = dfSubwayAgeResults.withColumn('avg', (dfSubwayAgeResults[2]/dfSubwayAgeResults[1]).cast('int'))\\\n",
    "            .select('Subway', 'avg')\n",
    "dfSubwayAgeResults.show()"
   ]
  },
  {
   "cell_type": "code",
   "execution_count": null,
   "metadata": {},
   "outputs": [],
   "source": []
  },
  {
   "cell_type": "code",
   "execution_count": null,
   "metadata": {},
   "outputs": [],
   "source": []
  }
 ],
 "metadata": {
  "kernelspec": {
   "display_name": "Python 3",
   "language": "python",
   "name": "python3"
  },
  "language_info": {
   "codemirror_mode": {
    "name": "ipython",
    "version": 3
   },
   "file_extension": ".py",
   "mimetype": "text/x-python",
   "name": "python",
   "nbconvert_exporter": "python",
   "pygments_lexer": "ipython3",
   "version": "3.6.5"
  }
 },
 "nbformat": 4,
 "nbformat_minor": 1
}
