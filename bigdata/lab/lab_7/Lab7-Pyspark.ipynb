{
 "cells": [
  {
   "cell_type": "code",
   "execution_count": 2,
   "metadata": {},
   "outputs": [
    {
     "data": {
      "text/html": [
       "\n",
       "        <div>\n",
       "            <p><b>SparkContext</b></p>\n",
       "\n",
       "            <p><a href=\"http://192.168.93.69:4040\">Spark UI</a></p>\n",
       "\n",
       "            <dl>\n",
       "              <dt>Version</dt>\n",
       "                <dd><code>v2.4.0</code></dd>\n",
       "              <dt>Master</dt>\n",
       "                <dd><code>local[*]</code></dd>\n",
       "              <dt>AppName</dt>\n",
       "                <dd><code>PySparkShell</code></dd>\n",
       "            </dl>\n",
       "        </div>\n",
       "        "
      ],
      "text/plain": [
       "<SparkContext master=local[*] appName=PySparkShell>"
      ]
     },
     "execution_count": 2,
     "metadata": {},
     "output_type": "execute_result"
    }
   ],
   "source": [
    "sc"
   ]
  },
  {
   "cell_type": "code",
   "execution_count": 28,
   "metadata": {},
   "outputs": [],
   "source": [
    "taxi = sc.textFile(\"yellow.csv\")\n",
    "bike = sc.textFile(\"citibike.csv\")"
   ]
  },
  {
   "cell_type": "code",
   "execution_count": 29,
   "metadata": {},
   "outputs": [],
   "source": [
    "def filterBike(pid, records):\n",
    "    if pid==0:\n",
    "        next(records)\n",
    "    for record in records:\n",
    "        fields = record.split(',')\n",
    "        if (fields[6]=='Greenwich Ave & 8 Ave' and\n",
    "            fields[3].startswith('2015-02-01')):\n",
    "            yield (fields[3][:19], 1)\n",
    "            \n",
    "matchedBike = bike.mapPartitionsWithIndex(filterBike)                        "
   ]
  },
  {
   "cell_type": "code",
   "execution_count": 30,
   "metadata": {},
   "outputs": [
    {
     "data": {
      "text/plain": [
       "[('2015-02-01 00:05:00', 1), ('2015-02-01 00:05:00', 1)]"
      ]
     },
     "execution_count": 30,
     "metadata": {},
     "output_type": "execute_result"
    }
   ],
   "source": [
    "matchedBike.take(2)"
   ]
  },
  {
   "cell_type": "code",
   "execution_count": 31,
   "metadata": {},
   "outputs": [],
   "source": [
    "station = (-74.00263761,40.7390169)"
   ]
  },
  {
   "cell_type": "code",
   "execution_count": 37,
   "metadata": {},
   "outputs": [
    {
     "data": {
      "text/plain": [
       "[('2015-02-01 00:11:03', 0), ('2015-02-01 00:10:23', 0)]"
      ]
     },
     "execution_count": 37,
     "metadata": {},
     "output_type": "execute_result"
    }
   ],
   "source": [
    "def filterTaxi(pid, lines):\n",
    "   if pid==0:\n",
    "       next(lines)\n",
    "   import pyproj\n",
    "   proj = pyproj.Proj(init=\"epsg:2263\", preserve_units=True)\n",
    "   station = proj(-74.00263761, 40.7390169)\n",
    "   radius = 1320**2\n",
    "   for trip in lines:\n",
    "       fields = trip.split(',')\n",
    "       if 'NULL' in fields[4:6]: continue\n",
    "       dropoff = proj(fields[5], fields[4])\n",
    "       distance = ((station[0]-dropoff[0])**2 +\n",
    "                   (station[1]-dropoff[1])**2)\n",
    "       if distance <= radius:\n",
    "           yield(fields[1][:19], 0)\n",
    "\n",
    "matchedTaxi = taxi.mapPartitionsWithIndex(filterTaxi)\n",
    "matchedTaxi.take(2)"
   ]
  },
  {
   "cell_type": "code",
   "execution_count": 38,
   "metadata": {},
   "outputs": [],
   "source": [
    "alltrips = (matchedBike+matchedTaxi).sortByKey().cache()"
   ]
  },
  {
   "cell_type": "code",
   "execution_count": 39,
   "metadata": {},
   "outputs": [
    {
     "name": "stdout",
     "output_type": "stream",
     "text": [
      "42\n"
     ]
    }
   ],
   "source": [
    "def connectTrips(_, records):\n",
    "   import datetime\n",
    "   lastTaxiTime = None\n",
    "   count = 0\n",
    "   for dt, mode in records:\n",
    "       t = datetime.datetime.strptime(dt, '%Y-%m-%d %H:%M:%S')\n",
    "       if mode==1:\n",
    "           if lastTaxiTime!=None:\n",
    "               diff = (t-lastTaxiTime).total_seconds()\n",
    "               if diff>=0 and diff<=10:\n",
    "                   count += 1\n",
    "       else:\n",
    "           lastTaxiTime = t\n",
    "   yield count\n",
    "    \n",
    "count = alltrips.mapPartitionsWithIndex(connectTrips) \\\n",
    "    .reduce(lambda x,y:x+y)  \n",
    "\n",
    "print(count)"
   ]
  },
  {
   "cell_type": "code",
   "execution_count": 40,
   "metadata": {},
   "outputs": [],
   "source": [
    "sc.parallelize([count]).saveAsTextFile('tmp.text')"
   ]
  },
  {
   "cell_type": "code",
   "execution_count": null,
   "metadata": {},
   "outputs": [],
   "source": []
  }
 ],
 "metadata": {
  "kernelspec": {
   "display_name": "Python 3",
   "language": "python",
   "name": "python3"
  },
  "language_info": {
   "codemirror_mode": {
    "name": "ipython",
    "version": 3
   },
   "file_extension": ".py",
   "mimetype": "text/x-python",
   "name": "python",
   "nbconvert_exporter": "python",
   "pygments_lexer": "ipython3",
   "version": "3.6.5"
  }
 },
 "nbformat": 4,
 "nbformat_minor": 2
}
