{
 "cells": [
  {
   "cell_type": "code",
   "execution_count": 1,
   "metadata": {},
   "outputs": [],
   "source": [
    "import scipy.io as sio\n",
    "from scipy.fft import fft\n",
    "import os,glob\n",
    "import math\n",
    "import numpy as np\n",
    "import pandas as pd\n",
    "import os,glob\n",
    "import pyexcel"
   ]
  },
  {
   "cell_type": "code",
   "execution_count": 2,
   "metadata": {},
   "outputs": [],
   "source": [
    "from mat4py import loadmat, savemat\n",
    "\n",
    "def get_neck_files(dirname, filepatern):\n",
    "    files = []\n",
    "    for filename in glob.iglob(os.path.join(dirname, filepatern), recursive=True):\n",
    "        files.append(filename)\n",
    "    return files\n",
    "\n",
    "def wfft_hz(filename, Hz_Lthr, Hz_Hthr):\n",
    "    '\"Lthr: lower threshold; Hthr: high threshold\"'\n",
    "    data = loadmat(filename)\n",
    "    fft_data = fft(data['data'])\n",
    "    NFFT = math.floor(len(data['data'])/2)+1\n",
    "    fft_data = abs(fft_data[1:NFFT])\n",
    "    f = data['Fs']/2 * np.linspace(0, 1, NFFT)\n",
    "    idx = [i for i, e in enumerate(f) if e <= Hz_Hthr] \n",
    "    X=f[idx]\n",
    "    y=fft_data[idx]\n",
    "    return X, y"
   ]
  },
  {
   "cell_type": "code",
   "execution_count": 3,
   "metadata": {},
   "outputs": [],
   "source": [
    "folder_paths = ['../datasets/Age_A/Age_A_Male/', '../datasets/Age_A/Age_A_Female/']\n",
    "age_group = []\n",
    "sex = []\n",
    "sub = []\n",
    "side = []\n",
    "filename = []\n",
    "pats = ['**/*Neck_R_avg.mat', '**/*Neck_L_avg.mat']\n",
    "Hz_Lthr, Hz_Hthr = 0.8, 2.5\n",
    "for folder_path in folder_paths:\n",
    "    for dirname in glob.iglob(os.path.join(folder_path, '**/')):\n",
    "        for pat in pats:\n",
    "            files = get_neck_files(dirname, pat)\n",
    "            for file in files:\n",
    "                [X,y] =  wfft_hz(file, Hz_Lthr, Hz_Hthr)\n",
    "                data = {'Fs': 44100, 'data' : y.tolist()}\n",
    "                savemat(file[0:-4]+'_'+str(Hz_Lthr)+'_'+str(Hz_Hthr)+'.mat', data)"
   ]
  }
 ],
 "metadata": {
  "kernelspec": {
   "display_name": "Python 3",
   "language": "python",
   "name": "python3"
  },
  "language_info": {
   "codemirror_mode": {
    "name": "ipython",
    "version": 3
   },
   "file_extension": ".py",
   "mimetype": "text/x-python",
   "name": "python",
   "nbconvert_exporter": "python",
   "pygments_lexer": "ipython3",
   "version": "3.6.5"
  }
 },
 "nbformat": 4,
 "nbformat_minor": 2
}
