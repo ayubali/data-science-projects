{
 "cells": [
  {
   "cell_type": "code",
   "execution_count": 12,
   "metadata": {},
   "outputs": [],
   "source": [
    "import pandas as pd\n",
    "import numpy as np\n",
    "from sklearn.model_selection  import train_test_split\n",
    "from sklearn.preprocessing import StandardScaler\n",
    "from sklearn import neighbors\n",
    "from sklearn import metrics\n",
    "from sklearn.metrics import accuracy_score\n",
    "from sklearn.ensemble import AdaBoostClassifier\n",
    "from sklearn.tree import DecisionTreeClassifier\n",
    "SEED=42"
   ]
  },
  {
   "cell_type": "code",
   "execution_count": 13,
   "metadata": {},
   "outputs": [
    {
     "name": "stdout",
     "output_type": "stream",
     "text": [
      "(19, 13)\n"
     ]
    },
    {
     "data": {
      "text/html": [
       "<div>\n",
       "<style scoped>\n",
       "    .dataframe tbody tr th:only-of-type {\n",
       "        vertical-align: middle;\n",
       "    }\n",
       "\n",
       "    .dataframe tbody tr th {\n",
       "        vertical-align: top;\n",
       "    }\n",
       "\n",
       "    .dataframe thead th {\n",
       "        text-align: right;\n",
       "    }\n",
       "</style>\n",
       "<table border=\"1\" class=\"dataframe\">\n",
       "  <thead>\n",
       "    <tr style=\"text-align: right;\">\n",
       "      <th></th>\n",
       "      <th>Heart Beat 0.8~2.5hz from Avg</th>\n",
       "      <th>Peak Hz in 2.6~10hz</th>\n",
       "      <th>Peak Hz in 21~30hz</th>\n",
       "      <th>Peak Hz in 31~40hz</th>\n",
       "      <th>Peak Hz in 41~50hz</th>\n",
       "      <th>RMS avg</th>\n",
       "      <th>Zero crossing rate avg</th>\n",
       "      <th>Spectral flatness avg</th>\n",
       "      <th>Spectral rolloff avg</th>\n",
       "      <th>Spectral centroid avg</th>\n",
       "      <th>Poly features avg</th>\n",
       "      <th>Spectral bandwidth avg</th>\n",
       "      <th>Not Normal</th>\n",
       "    </tr>\n",
       "  </thead>\n",
       "  <tbody>\n",
       "    <tr>\n",
       "      <th>0</th>\n",
       "      <td>69.0</td>\n",
       "      <td>5.50</td>\n",
       "      <td>23.33</td>\n",
       "      <td>31.00</td>\n",
       "      <td>43.67</td>\n",
       "      <td>0.2528</td>\n",
       "      <td>0.0280</td>\n",
       "      <td>0.0202</td>\n",
       "      <td>3931.6415</td>\n",
       "      <td>3655.5029</td>\n",
       "      <td>0.8441</td>\n",
       "      <td>5149.4551</td>\n",
       "      <td>1</td>\n",
       "    </tr>\n",
       "    <tr>\n",
       "      <th>1</th>\n",
       "      <td>78.0</td>\n",
       "      <td>3.12</td>\n",
       "      <td>30.00</td>\n",
       "      <td>40.00</td>\n",
       "      <td>43.25</td>\n",
       "      <td>0.1949</td>\n",
       "      <td>0.0372</td>\n",
       "      <td>0.0211</td>\n",
       "      <td>5369.9529</td>\n",
       "      <td>4887.3982</td>\n",
       "      <td>0.6950</td>\n",
       "      <td>6042.2007</td>\n",
       "      <td>0</td>\n",
       "    </tr>\n",
       "    <tr>\n",
       "      <th>2</th>\n",
       "      <td>78.0</td>\n",
       "      <td>3.00</td>\n",
       "      <td>24.71</td>\n",
       "      <td>39.50</td>\n",
       "      <td>41.50</td>\n",
       "      <td>0.2060</td>\n",
       "      <td>0.0275</td>\n",
       "      <td>0.0148</td>\n",
       "      <td>5252.5443</td>\n",
       "      <td>4598.1605</td>\n",
       "      <td>0.6630</td>\n",
       "      <td>6013.8062</td>\n",
       "      <td>1</td>\n",
       "    </tr>\n",
       "    <tr>\n",
       "      <th>3</th>\n",
       "      <td>76.0</td>\n",
       "      <td>4.00</td>\n",
       "      <td>25.00</td>\n",
       "      <td>40.00</td>\n",
       "      <td>50.00</td>\n",
       "      <td>0.2054</td>\n",
       "      <td>0.0720</td>\n",
       "      <td>0.0470</td>\n",
       "      <td>7429.2183</td>\n",
       "      <td>7041.1570</td>\n",
       "      <td>1.1817</td>\n",
       "      <td>6818.1680</td>\n",
       "      <td>0</td>\n",
       "    </tr>\n",
       "    <tr>\n",
       "      <th>4</th>\n",
       "      <td>83.0</td>\n",
       "      <td>5.78</td>\n",
       "      <td>22.40</td>\n",
       "      <td>38.78</td>\n",
       "      <td>45.00</td>\n",
       "      <td>0.2440</td>\n",
       "      <td>0.0008</td>\n",
       "      <td>0.0000</td>\n",
       "      <td>71.4086</td>\n",
       "      <td>128.8602</td>\n",
       "      <td>0.4138</td>\n",
       "      <td>605.7551</td>\n",
       "      <td>1</td>\n",
       "    </tr>\n",
       "  </tbody>\n",
       "</table>\n",
       "</div>"
      ],
      "text/plain": [
       "   Heart Beat 0.8~2.5hz from Avg  Peak Hz in 2.6~10hz  Peak Hz in 21~30hz  \\\n",
       "0                           69.0                 5.50               23.33   \n",
       "1                           78.0                 3.12               30.00   \n",
       "2                           78.0                 3.00               24.71   \n",
       "3                           76.0                 4.00               25.00   \n",
       "4                           83.0                 5.78               22.40   \n",
       "\n",
       "   Peak Hz in 31~40hz  Peak Hz in 41~50hz  RMS avg  Zero crossing rate avg  \\\n",
       "0               31.00               43.67   0.2528                  0.0280   \n",
       "1               40.00               43.25   0.1949                  0.0372   \n",
       "2               39.50               41.50   0.2060                  0.0275   \n",
       "3               40.00               50.00   0.2054                  0.0720   \n",
       "4               38.78               45.00   0.2440                  0.0008   \n",
       "\n",
       "   Spectral flatness avg  Spectral rolloff avg  Spectral centroid avg  \\\n",
       "0                 0.0202             3931.6415              3655.5029   \n",
       "1                 0.0211             5369.9529              4887.3982   \n",
       "2                 0.0148             5252.5443              4598.1605   \n",
       "3                 0.0470             7429.2183              7041.1570   \n",
       "4                 0.0000               71.4086               128.8602   \n",
       "\n",
       "   Poly features avg  Spectral bandwidth avg  Not Normal  \n",
       "0             0.8441               5149.4551           1  \n",
       "1             0.6950               6042.2007           0  \n",
       "2             0.6630               6013.8062           1  \n",
       "3             1.1817               6818.1680           0  \n",
       "4             0.4138                605.7551           1  "
      ]
     },
     "execution_count": 13,
     "metadata": {},
     "output_type": "execute_result"
    }
   ],
   "source": [
    "df = pd.read_csv(\"../../datasets/clean-ds.csv\")\n",
    "print(df.shape)\n",
    "df.head()"
   ]
  },
  {
   "cell_type": "code",
   "execution_count": 14,
   "metadata": {},
   "outputs": [],
   "source": [
    "X, y = df.drop(['Not Normal'],axis=1), df['Not Normal']"
   ]
  },
  {
   "cell_type": "code",
   "execution_count": 15,
   "metadata": {},
   "outputs": [],
   "source": [
    "standard_scaler = StandardScaler()\n",
    "X = standard_scaler.fit_transform(X)\n",
    "X_train, X_test, y_train, y_test = train_test_split(X, y, test_size=0.30, random_state=SEED)"
   ]
  },
  {
   "cell_type": "code",
   "execution_count": 16,
   "metadata": {},
   "outputs": [],
   "source": [
    "# Instantiate a classification-tree 'dt'\n",
    "dt = DecisionTreeClassifier(max_depth=5, random_state=SEED)\n",
    "# Instantiate an AdaBoost classifier 'adab_clf'\n",
    "adb_clf = AdaBoostClassifier(base_estimator=dt, n_estimators=100)\n",
    "# Fit 'adb_clf' to the training set\n",
    "adb_clf.fit(X_train, y_train)\n",
    "y_pred = adb_clf.predict(X_test)"
   ]
  },
  {
   "cell_type": "code",
   "execution_count": 17,
   "metadata": {},
   "outputs": [
    {
     "name": "stdout",
     "output_type": "stream",
     "text": [
      "Voting Classifier: 0.67\n"
     ]
    }
   ],
   "source": [
    "score = accuracy_score(y_test, y_pred)\n",
    "print('Voting Classifier: {:.2f}'.format(score))"
   ]
  },
  {
   "cell_type": "code",
   "execution_count": 18,
   "metadata": {
    "scrolled": true
   },
   "outputs": [
    {
     "name": "stdout",
     "output_type": "stream",
     "text": [
      "    Classification report for AdaBoostClassifier\n",
      "-----------------------------------------------------------\n",
      "              precision    recall  f1-score   support\n",
      "\n",
      "      Normal      0.667     1.000     0.800         4\n",
      "  Not Normal      0.000     0.000     0.000         2\n",
      "\n",
      "    accuracy                          0.667         6\n",
      "   macro avg      0.333     0.500     0.400         6\n",
      "weighted avg      0.444     0.667     0.533         6\n",
      "\n"
     ]
    },
    {
     "name": "stderr",
     "output_type": "stream",
     "text": [
      "/Users/ayub/anaconda3/lib/python3.6/site-packages/sklearn/metrics/_classification.py:1272: UndefinedMetricWarning: Precision and F-score are ill-defined and being set to 0.0 in labels with no predicted samples. Use `zero_division` parameter to control this behavior.\n",
      "  _warn_prf(average, modifier, msg_start, len(result))\n"
     ]
    }
   ],
   "source": [
    "print('    Classification report for AdaBoostClassifier')\n",
    "print('-----------------------------------------------------------')\n",
    "target_names = ['Normal', 'Not Normal']\n",
    "print(metrics.classification_report(y_test, y_pred, digits=3, target_names=target_names))"
   ]
  },
  {
   "cell_type": "code",
   "execution_count": 19,
   "metadata": {},
   "outputs": [
    {
     "name": "stdout",
     "output_type": "stream",
     "text": [
      "Best score: 0.4333333333333333\n",
      "Best parameters: {'n_estimators': 150}\n"
     ]
    }
   ],
   "source": [
    "from sklearn.model_selection import StratifiedKFold\n",
    "from sklearn.model_selection import GridSearchCV\n",
    "dt_classifier = DecisionTreeClassifier(criterion='entropy', max_depth= 2, max_features= 5, splitter='best', random_state=SEED)\n",
    "\n",
    "parameters = {\n",
    "    'n_estimators'      : [100,150,200],\n",
    "}\n",
    "\n",
    "adb_clf = AdaBoostClassifier(base_estimator=dt_classifier)\n",
    "\n",
    "cross_validation = StratifiedKFold(n_splits=5)\n",
    "\n",
    "grid_search = GridSearchCV(adb_clf, param_grid=parameters, cv=cross_validation)\n",
    "\n",
    "grid_search.fit(X_train, y_train)\n",
    "print('Best score: {}'.format(grid_search.best_score_))\n",
    "print('Best parameters: {}'.format(grid_search.best_params_))\n",
    "\n",
    "best_dt_classifier = grid_search.best_estimator_\n"
   ]
  },
  {
   "cell_type": "code",
   "execution_count": 20,
   "metadata": {},
   "outputs": [
    {
     "name": "stdout",
     "output_type": "stream",
     "text": [
      "Voting Classifier: 0.50\n"
     ]
    }
   ],
   "source": [
    "best_dt_classifier.fit(X_train, y_train)\n",
    "y_pred = best_dt_classifier.predict(X_test)\n",
    "score = accuracy_score(y_test, y_pred)\n",
    "print('Voting Classifier: {:.2f}'.format(score))"
   ]
  },
  {
   "cell_type": "code",
   "execution_count": 21,
   "metadata": {},
   "outputs": [],
   "source": [
    "df_importance = df[['Zero crossing rate avg', 'Heart Beat 0.8~2.5hz from Avg', 'Peak Hz in 31~40hz', 'Spectral rolloff avg', 'Spectral centroid avg', 'Spectral bandwidth avg','Peak Hz in 21~30hz', 'Peak Hz in 41~50hz','Not Normal']]\n",
    "X, y = df_importance.drop(['Not Normal'],axis=1), df_importance['Not Normal']\n",
    "standard_scaler = StandardScaler()\n",
    "X = standard_scaler.fit_transform(X)\n",
    "X_train, X_test, y_train, y_test = train_test_split(X, y, test_size=0.30, random_state=SEED)"
   ]
  },
  {
   "cell_type": "code",
   "execution_count": 11,
   "metadata": {},
   "outputs": [
    {
     "name": "stdout",
     "output_type": "stream",
     "text": [
      "Voting Classifier: 0.67\n"
     ]
    }
   ],
   "source": [
    "# Instantiate a classification-tree 'dt'\n",
    "dt = DecisionTreeClassifier(max_depth=5, random_state=SEED)\n",
    "# Instantiate an AdaBoost classifier 'adab_clf'\n",
    "adb_clf = AdaBoostClassifier(base_estimator=dt, n_estimators=100)\n",
    "# Fit 'adb_clf' to the training set\n",
    "adb_clf.fit(X_train, y_train)\n",
    "y_pred = adb_clf.predict(X_test)\n",
    "score = accuracy_score(y_test, y_pred)\n",
    "print('Voting Classifier: {:.2f}'.format(score))"
   ]
  },
  {
   "cell_type": "code",
   "execution_count": 22,
   "metadata": {},
   "outputs": [
    {
     "name": "stdout",
     "output_type": "stream",
     "text": [
      "    Classification report for AdaBoostClassifier\n",
      "-----------------------------------------------------------\n",
      "              precision    recall  f1-score   support\n",
      "\n",
      "      Normal      0.600     0.750     0.667         4\n",
      "  Not Normal      0.000     0.000     0.000         2\n",
      "\n",
      "    accuracy                          0.500         6\n",
      "   macro avg      0.300     0.375     0.333         6\n",
      "weighted avg      0.400     0.500     0.444         6\n",
      "\n"
     ]
    }
   ],
   "source": [
    "print('    Classification report for AdaBoostClassifier')\n",
    "print('-----------------------------------------------------------')\n",
    "target_names = ['Normal', 'Not Normal']\n",
    "print(metrics.classification_report(y_test, y_pred, digits=3, target_names=target_names))"
   ]
  },
  {
   "cell_type": "code",
   "execution_count": null,
   "metadata": {},
   "outputs": [],
   "source": []
  }
 ],
 "metadata": {
  "kernelspec": {
   "display_name": "Python 3",
   "language": "python",
   "name": "python3"
  },
  "language_info": {
   "codemirror_mode": {
    "name": "ipython",
    "version": 3
   },
   "file_extension": ".py",
   "mimetype": "text/x-python",
   "name": "python",
   "nbconvert_exporter": "python",
   "pygments_lexer": "ipython3",
   "version": "3.6.5"
  }
 },
 "nbformat": 4,
 "nbformat_minor": 2
}
