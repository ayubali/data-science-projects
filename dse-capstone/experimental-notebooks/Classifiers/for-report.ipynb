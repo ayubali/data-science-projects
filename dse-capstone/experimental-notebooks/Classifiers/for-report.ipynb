{
 "cells": [
  {
   "cell_type": "code",
   "execution_count": 4,
   "metadata": {},
   "outputs": [
    {
     "data": {
      "text/html": [
       "<div>\n",
       "<style scoped>\n",
       "    .dataframe tbody tr th:only-of-type {\n",
       "        vertical-align: middle;\n",
       "    }\n",
       "\n",
       "    .dataframe tbody tr th {\n",
       "        vertical-align: top;\n",
       "    }\n",
       "\n",
       "    .dataframe thead th {\n",
       "        text-align: right;\n",
       "    }\n",
       "</style>\n",
       "<table border=\"1\" class=\"dataframe\">\n",
       "  <thead>\n",
       "    <tr style=\"text-align: right;\">\n",
       "      <th></th>\n",
       "      <th>Age Group</th>\n",
       "      <th>Sex</th>\n",
       "      <th>Side</th>\n",
       "      <th>Sub</th>\n",
       "      <th>File</th>\n",
       "    </tr>\n",
       "  </thead>\n",
       "  <tbody>\n",
       "    <tr>\n",
       "      <th>0</th>\n",
       "      <td>Age_A</td>\n",
       "      <td>Male</td>\n",
       "      <td>Neck_R</td>\n",
       "      <td>Sub 36</td>\n",
       "      <td>../datasets/Age_A/Age_A_Male/Sub 36/36Neck_R_A...</td>\n",
       "    </tr>\n",
       "    <tr>\n",
       "      <th>1</th>\n",
       "      <td>Age_A</td>\n",
       "      <td>Male</td>\n",
       "      <td>Neck_R</td>\n",
       "      <td>Sub 36</td>\n",
       "      <td>../datasets/Age_A/Age_A_Male/Sub 36/36Neck_R_A...</td>\n",
       "    </tr>\n",
       "    <tr>\n",
       "      <th>2</th>\n",
       "      <td>Age_A</td>\n",
       "      <td>Male</td>\n",
       "      <td>Neck_R</td>\n",
       "      <td>Sub 36</td>\n",
       "      <td>../datasets/Age_A/Age_A_Male/Sub 36/36Neck_R_A...</td>\n",
       "    </tr>\n",
       "    <tr>\n",
       "      <th>3</th>\n",
       "      <td>Age_A</td>\n",
       "      <td>Male</td>\n",
       "      <td>Neck_L</td>\n",
       "      <td>Sub 36</td>\n",
       "      <td>../datasets/Age_A/Age_A_Male/Sub 36/36Neck_L_A...</td>\n",
       "    </tr>\n",
       "    <tr>\n",
       "      <th>4</th>\n",
       "      <td>Age_A</td>\n",
       "      <td>Male</td>\n",
       "      <td>Neck_L</td>\n",
       "      <td>Sub 36</td>\n",
       "      <td>../datasets/Age_A/Age_A_Male/Sub 36/36Neck_L_A...</td>\n",
       "    </tr>\n",
       "  </tbody>\n",
       "</table>\n",
       "</div>"
      ],
      "text/plain": [
       "  Age Group   Sex    Side     Sub  \\\n",
       "0     Age_A  Male  Neck_R  Sub 36   \n",
       "1     Age_A  Male  Neck_R  Sub 36   \n",
       "2     Age_A  Male  Neck_R  Sub 36   \n",
       "3     Age_A  Male  Neck_L  Sub 36   \n",
       "4     Age_A  Male  Neck_L  Sub 36   \n",
       "\n",
       "                                                File  \n",
       "0  ../datasets/Age_A/Age_A_Male/Sub 36/36Neck_R_A...  \n",
       "1  ../datasets/Age_A/Age_A_Male/Sub 36/36Neck_R_A...  \n",
       "2  ../datasets/Age_A/Age_A_Male/Sub 36/36Neck_R_A...  \n",
       "3  ../datasets/Age_A/Age_A_Male/Sub 36/36Neck_L_A...  \n",
       "4  ../datasets/Age_A/Age_A_Male/Sub 36/36Neck_L_A...  "
      ]
     },
     "execution_count": 4,
     "metadata": {},
     "output_type": "execute_result"
    }
   ],
   "source": [
    "import pandas as pd\n",
    "df = pd.read_csv('../../datasets/laser_ds.csv')\n",
    "df.head()"
   ]
  },
  {
   "cell_type": "code",
   "execution_count": 5,
   "metadata": {},
   "outputs": [
    {
     "data": {
      "text/plain": [
       "(235, 5)"
      ]
     },
     "execution_count": 5,
     "metadata": {},
     "output_type": "execute_result"
    }
   ],
   "source": [
    "df.shape"
   ]
  },
  {
   "cell_type": "code",
   "execution_count": null,
   "metadata": {},
   "outputs": [],
   "source": []
  }
 ],
 "metadata": {
  "kernelspec": {
   "display_name": "Python 3",
   "language": "python",
   "name": "python3"
  },
  "language_info": {
   "codemirror_mode": {
    "name": "ipython",
    "version": 3
   },
   "file_extension": ".py",
   "mimetype": "text/x-python",
   "name": "python",
   "nbconvert_exporter": "python",
   "pygments_lexer": "ipython3",
   "version": "3.6.5"
  }
 },
 "nbformat": 4,
 "nbformat_minor": 2
}
