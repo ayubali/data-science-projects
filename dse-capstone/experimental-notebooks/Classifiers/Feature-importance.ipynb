{
 "cells": [
  {
   "cell_type": "code",
   "execution_count": 45,
   "metadata": {},
   "outputs": [],
   "source": [
    "import pandas as pd\n",
    "import numpy as np\n",
    "import matplotlib.pyplot as plt\n",
    "from sklearn.datasets import make_classification\n",
    "from sklearn.ensemble import RandomForestClassifier\n",
    "from sklearn.model_selection import train_test_split\n",
    "from sklearn.metrics import accuracy_score, precision_score, recall_score\n",
    "from sklearn.preprocessing import StandardScaler\n",
    "%matplotlib inline\n",
    "SEED=42"
   ]
  },
  {
   "cell_type": "code",
   "execution_count": 46,
   "metadata": {},
   "outputs": [
    {
     "data": {
      "text/html": [
       "<div>\n",
       "<style scoped>\n",
       "    .dataframe tbody tr th:only-of-type {\n",
       "        vertical-align: middle;\n",
       "    }\n",
       "\n",
       "    .dataframe tbody tr th {\n",
       "        vertical-align: top;\n",
       "    }\n",
       "\n",
       "    .dataframe thead th {\n",
       "        text-align: right;\n",
       "    }\n",
       "</style>\n",
       "<table border=\"1\" class=\"dataframe\">\n",
       "  <thead>\n",
       "    <tr style=\"text-align: right;\">\n",
       "      <th></th>\n",
       "      <th>Heart Beat 0.8~2.5hz from Avg</th>\n",
       "      <th>Peak Hz in 2.6~10hz</th>\n",
       "      <th>Peak Hz in 21~30hz</th>\n",
       "      <th>Peak Hz in 31~40hz</th>\n",
       "      <th>Peak Hz in 41~50hz</th>\n",
       "      <th>RMS avg</th>\n",
       "      <th>Zero crossing rate avg</th>\n",
       "      <th>Spectral flatness avg</th>\n",
       "      <th>Spectral rolloff avg</th>\n",
       "      <th>Spectral centroid avg</th>\n",
       "      <th>Poly features avg</th>\n",
       "      <th>Spectral bandwidth avg</th>\n",
       "      <th>Not Normal</th>\n",
       "    </tr>\n",
       "  </thead>\n",
       "  <tbody>\n",
       "    <tr>\n",
       "      <th>0</th>\n",
       "      <td>69.0</td>\n",
       "      <td>5.50</td>\n",
       "      <td>23.33</td>\n",
       "      <td>31.00</td>\n",
       "      <td>43.67</td>\n",
       "      <td>0.2528</td>\n",
       "      <td>0.0280</td>\n",
       "      <td>0.0202</td>\n",
       "      <td>3931.6415</td>\n",
       "      <td>3655.5029</td>\n",
       "      <td>0.8441</td>\n",
       "      <td>5149.4551</td>\n",
       "      <td>1</td>\n",
       "    </tr>\n",
       "    <tr>\n",
       "      <th>1</th>\n",
       "      <td>78.0</td>\n",
       "      <td>3.12</td>\n",
       "      <td>30.00</td>\n",
       "      <td>40.00</td>\n",
       "      <td>43.25</td>\n",
       "      <td>0.1949</td>\n",
       "      <td>0.0372</td>\n",
       "      <td>0.0211</td>\n",
       "      <td>5369.9529</td>\n",
       "      <td>4887.3982</td>\n",
       "      <td>0.6950</td>\n",
       "      <td>6042.2007</td>\n",
       "      <td>0</td>\n",
       "    </tr>\n",
       "    <tr>\n",
       "      <th>2</th>\n",
       "      <td>78.0</td>\n",
       "      <td>3.00</td>\n",
       "      <td>24.71</td>\n",
       "      <td>39.50</td>\n",
       "      <td>41.50</td>\n",
       "      <td>0.2060</td>\n",
       "      <td>0.0275</td>\n",
       "      <td>0.0148</td>\n",
       "      <td>5252.5443</td>\n",
       "      <td>4598.1605</td>\n",
       "      <td>0.6630</td>\n",
       "      <td>6013.8062</td>\n",
       "      <td>1</td>\n",
       "    </tr>\n",
       "    <tr>\n",
       "      <th>3</th>\n",
       "      <td>76.0</td>\n",
       "      <td>4.00</td>\n",
       "      <td>25.00</td>\n",
       "      <td>40.00</td>\n",
       "      <td>50.00</td>\n",
       "      <td>0.2054</td>\n",
       "      <td>0.0720</td>\n",
       "      <td>0.0470</td>\n",
       "      <td>7429.2183</td>\n",
       "      <td>7041.1570</td>\n",
       "      <td>1.1817</td>\n",
       "      <td>6818.1680</td>\n",
       "      <td>0</td>\n",
       "    </tr>\n",
       "    <tr>\n",
       "      <th>4</th>\n",
       "      <td>83.0</td>\n",
       "      <td>5.78</td>\n",
       "      <td>22.40</td>\n",
       "      <td>38.78</td>\n",
       "      <td>45.00</td>\n",
       "      <td>0.2440</td>\n",
       "      <td>0.0008</td>\n",
       "      <td>0.0000</td>\n",
       "      <td>71.4086</td>\n",
       "      <td>128.8602</td>\n",
       "      <td>0.4138</td>\n",
       "      <td>605.7551</td>\n",
       "      <td>1</td>\n",
       "    </tr>\n",
       "  </tbody>\n",
       "</table>\n",
       "</div>"
      ],
      "text/plain": [
       "   Heart Beat 0.8~2.5hz from Avg  Peak Hz in 2.6~10hz  Peak Hz in 21~30hz  \\\n",
       "0                           69.0                 5.50               23.33   \n",
       "1                           78.0                 3.12               30.00   \n",
       "2                           78.0                 3.00               24.71   \n",
       "3                           76.0                 4.00               25.00   \n",
       "4                           83.0                 5.78               22.40   \n",
       "\n",
       "   Peak Hz in 31~40hz  Peak Hz in 41~50hz  RMS avg  Zero crossing rate avg  \\\n",
       "0               31.00               43.67   0.2528                  0.0280   \n",
       "1               40.00               43.25   0.1949                  0.0372   \n",
       "2               39.50               41.50   0.2060                  0.0275   \n",
       "3               40.00               50.00   0.2054                  0.0720   \n",
       "4               38.78               45.00   0.2440                  0.0008   \n",
       "\n",
       "   Spectral flatness avg  Spectral rolloff avg  Spectral centroid avg  \\\n",
       "0                 0.0202             3931.6415              3655.5029   \n",
       "1                 0.0211             5369.9529              4887.3982   \n",
       "2                 0.0148             5252.5443              4598.1605   \n",
       "3                 0.0470             7429.2183              7041.1570   \n",
       "4                 0.0000               71.4086               128.8602   \n",
       "\n",
       "   Poly features avg  Spectral bandwidth avg  Not Normal  \n",
       "0             0.8441               5149.4551           1  \n",
       "1             0.6950               6042.2007           0  \n",
       "2             0.6630               6013.8062           1  \n",
       "3             1.1817               6818.1680           0  \n",
       "4             0.4138                605.7551           1  "
      ]
     },
     "execution_count": 46,
     "metadata": {},
     "output_type": "execute_result"
    }
   ],
   "source": [
    "df = pd.read_csv(\"../../datasets/ds_original_synthetic.csv\")\n",
    "df.head()"
   ]
  },
  {
   "cell_type": "code",
   "execution_count": 47,
   "metadata": {},
   "outputs": [],
   "source": [
    "X, y = df.drop(['Not Normal'],axis=1), df['Not Normal']"
   ]
  },
  {
   "cell_type": "code",
   "execution_count": 48,
   "metadata": {
    "scrolled": true
   },
   "outputs": [
    {
     "name": "stdout",
     "output_type": "stream",
     "text": [
      "Feature ranking:\n",
      "1. feature Zero crossing rate avg (0.403545)\n",
      "2. feature Heart Beat 0.8~2.5hz from Avg (0.197096)\n",
      "3. feature Peak Hz in 31~40hz (0.100103)\n",
      "4. feature Spectral rolloff avg (0.092726)\n",
      "5. feature Spectral centroid avg (0.091023)\n",
      "6. feature Spectral bandwidth avg (0.073165)\n",
      "7. feature Peak Hz in 21~30hz (0.015644)\n",
      "8. feature Peak Hz in 41~50hz (0.010959)\n",
      "9. feature Peak Hz in 2.6~10hz (0.009927)\n",
      "10. feature Poly features avg (0.002286)\n",
      "11. feature RMS avg (0.001936)\n",
      "12. feature Spectral flatness avg (0.001590)\n"
     ]
    }
   ],
   "source": [
    "# Build a forest and compute the feature importances\n",
    "forest = RandomForestClassifier(n_estimators=300, max_depth=3, random_state=42, n_jobs=-1)\n",
    "\n",
    "forest.fit(X, y)\n",
    "importances = forest.feature_importances_\n",
    "std = np.std([tree.feature_importances_ for tree in forest.estimators_],\n",
    "             axis=0)\n",
    "indices = np.argsort(importances)[::-1]\n",
    "\n",
    "# Print the feature ranking\n",
    "print(\"Feature ranking:\")\n",
    "\n",
    "for f in range(X.shape[1]):\n",
    "    print(\"%d. feature %s (%f)\" % (f + 1, X.columns[indices[f]], importances[indices[f]]))"
   ]
  },
  {
   "cell_type": "code",
   "execution_count": 49,
   "metadata": {},
   "outputs": [
    {
     "data": {
      "image/png": "[encoded data removed]",
      "text/plain": [
       "<Figure size 1008x432 with 1 Axes>"
      ]
     },
     "metadata": {},
     "output_type": "display_data"
    }
   ],
   "source": [
    "# Plot the feature importances of the forest\n",
    "columns_sorted_by_importance = [X.columns[f] for f in indices]\n",
    "plt.figure(figsize=(14,6))\n",
    "plt.title(\"Feature importances\")\n",
    "plt.bar(range(X.shape[1]), importances[indices],\n",
    "       color=\"r\", yerr=std[indices], align=\"center\")\n",
    "plt.xticks(range(X.shape[1]), columns_sorted_by_importance, rotation=90)\n",
    "plt.xlabel('Features')\n",
    "plt.ylabel('Importance')\n",
    "plt.xlim([-1, X.shape[1]])\n",
    "plt.show()"
   ]
  },
  {
   "cell_type": "code",
   "execution_count": 50,
   "metadata": {},
   "outputs": [],
   "source": [
    "feature_count = [6, 8, 9, 10]\n",
    "accuracy_scores = []\n",
    "precision_scores = []\n",
    "recall_scores = []\n",
    "\n",
    "columns_sorted_by_importance = [X.columns[f] for f in indices]\n",
    "for c in feature_count:\n",
    "    X_train_important =   X_train[columns_sorted_by_importance[:c]]\n",
    "    X_test_important =   X_test[columns_sorted_by_importance[:c]]\n",
    "    forest_important = RandomForestClassifier(n_estimators=500, max_depth=5, random_state=42, n_jobs=-1)\n",
    "    forest_important.fit(X_train_important, y_train)\n",
    "    y_pred = forest_important.predict(X_test_important)\n",
    "    accuracy_sc = round(accuracy_score(y_test, y_pred), 2)\n",
    "    precision_sc = round(precision_score(y_test, y_pred), 2)\n",
    "    recall_sc = round(recall_score(y_test, y_pred), 2)\n",
    "    accuracy_scores.append(accuracy_sc)\n",
    "    precision_scores.append(precision_sc)\n",
    "    recall_scores.append(recall_sc)"
   ]
  },
  {
   "cell_type": "code",
   "execution_count": 51,
   "metadata": {},
   "outputs": [
    {
     "data": {
      "image/png": "[encoded data removed]",
      "text/plain": [
       "<Figure size 432x288 with 1 Axes>"
      ]
     },
     "metadata": {},
     "output_type": "display_data"
    }
   ],
   "source": [
    "import matplotlib.pyplot as plt\n",
    "%matplotlib inline\n",
    "\n",
    "plt.plot(feature_count, accuracy_scores)\n",
    "plt.plot(feature_count, precision_scores)\n",
    "plt.plot(feature_count, recall_scores)\n",
    "plt.margins(0.3)\n",
    "plt.subplots_adjust(bottom=0.15)\n",
    "\n",
    "plt.title('Accuracy, Precision, Recall Vs Feature count')\n",
    "plt.ylabel('Accuracy')\n",
    "plt.xlabel('Number of features')\n",
    "plt.legend(['accuracy', 'precision', 'recall'], loc='upper left')\n",
    "plt.show()"
   ]
  },
  {
   "cell_type": "code",
   "execution_count": 58,
   "metadata": {},
   "outputs": [],
   "source": [
    "df_importance = df[['Zero crossing rate avg', 'Heart Beat 0.8~2.5hz from Avg', 'Peak Hz in 31~40hz', 'Spectral rolloff avg', 'Spectral centroid avg', 'Spectral bandwidth avg','Peak Hz in 21~30hz', 'Peak Hz in 41~50hz', 'Not Normal']]"
   ]
  },
  {
   "cell_type": "code",
   "execution_count": 59,
   "metadata": {},
   "outputs": [],
   "source": [
    "df_importance.to_csv('../../datasets/ds_original_synthetic_importance.csv', index=False)"
   ]
  },
  {
   "cell_type": "code",
   "execution_count": null,
   "metadata": {},
   "outputs": [],
   "source": []
  }
 ],
 "metadata": {
  "kernelspec": {
   "display_name": "Python 3",
   "language": "python",
   "name": "python3"
  },
  "language_info": {
   "codemirror_mode": {
    "name": "ipython",
    "version": 3
   },
   "file_extension": ".py",
   "mimetype": "text/x-python",
   "name": "python",
   "nbconvert_exporter": "python",
   "pygments_lexer": "ipython3",
   "version": "3.6.5"
  }
 },
 "nbformat": 4,
 "nbformat_minor": 2
}
