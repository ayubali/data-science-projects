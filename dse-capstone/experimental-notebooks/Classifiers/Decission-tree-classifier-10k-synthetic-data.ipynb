{
 "cells": [
  {
   "cell_type": "code",
   "execution_count": 12,
   "metadata": {},
   "outputs": [],
   "source": [
    "import pandas as pd\n",
    "import numpy as np\n",
    "from sklearn.model_selection  import train_test_split\n",
    "from sklearn.preprocessing import StandardScaler\n",
    "from sklearn.tree import DecisionTreeClassifier\n",
    "from sklearn import metrics\n",
    "from sklearn.model_selection import cross_val_score\n",
    "from sklearn.model_selection import GridSearchCV\n",
    "from sklearn.metrics import accuracy_score\n",
    "SEED=42"
   ]
  },
  {
   "cell_type": "code",
   "execution_count": 13,
   "metadata": {},
   "outputs": [
    {
     "data": {
      "text/html": [
       "<div>\n",
       "<style scoped>\n",
       "    .dataframe tbody tr th:only-of-type {\n",
       "        vertical-align: middle;\n",
       "    }\n",
       "\n",
       "    .dataframe tbody tr th {\n",
       "        vertical-align: top;\n",
       "    }\n",
       "\n",
       "    .dataframe thead th {\n",
       "        text-align: right;\n",
       "    }\n",
       "</style>\n",
       "<table border=\"1\" class=\"dataframe\">\n",
       "  <thead>\n",
       "    <tr style=\"text-align: right;\">\n",
       "      <th></th>\n",
       "      <th>Zero crossing rate avg</th>\n",
       "      <th>Heart Beat 0.8~2.5hz from Avg</th>\n",
       "      <th>Peak Hz in 31~40hz</th>\n",
       "      <th>Spectral rolloff avg</th>\n",
       "      <th>Spectral centroid avg</th>\n",
       "      <th>Spectral bandwidth avg</th>\n",
       "      <th>Peak Hz in 21~30hz</th>\n",
       "      <th>Peak Hz in 41~50hz</th>\n",
       "      <th>Not Normal</th>\n",
       "    </tr>\n",
       "  </thead>\n",
       "  <tbody>\n",
       "    <tr>\n",
       "      <th>0</th>\n",
       "      <td>0.0280</td>\n",
       "      <td>69.0</td>\n",
       "      <td>31.00</td>\n",
       "      <td>3931.6415</td>\n",
       "      <td>3655.5029</td>\n",
       "      <td>5149.4551</td>\n",
       "      <td>23.33</td>\n",
       "      <td>43.67</td>\n",
       "      <td>1</td>\n",
       "    </tr>\n",
       "    <tr>\n",
       "      <th>1</th>\n",
       "      <td>0.0372</td>\n",
       "      <td>78.0</td>\n",
       "      <td>40.00</td>\n",
       "      <td>5369.9529</td>\n",
       "      <td>4887.3982</td>\n",
       "      <td>6042.2007</td>\n",
       "      <td>30.00</td>\n",
       "      <td>43.25</td>\n",
       "      <td>0</td>\n",
       "    </tr>\n",
       "    <tr>\n",
       "      <th>2</th>\n",
       "      <td>0.0275</td>\n",
       "      <td>78.0</td>\n",
       "      <td>39.50</td>\n",
       "      <td>5252.5443</td>\n",
       "      <td>4598.1605</td>\n",
       "      <td>6013.8062</td>\n",
       "      <td>24.71</td>\n",
       "      <td>41.50</td>\n",
       "      <td>1</td>\n",
       "    </tr>\n",
       "    <tr>\n",
       "      <th>3</th>\n",
       "      <td>0.0720</td>\n",
       "      <td>76.0</td>\n",
       "      <td>40.00</td>\n",
       "      <td>7429.2183</td>\n",
       "      <td>7041.1570</td>\n",
       "      <td>6818.1680</td>\n",
       "      <td>25.00</td>\n",
       "      <td>50.00</td>\n",
       "      <td>0</td>\n",
       "    </tr>\n",
       "    <tr>\n",
       "      <th>4</th>\n",
       "      <td>0.0008</td>\n",
       "      <td>83.0</td>\n",
       "      <td>38.78</td>\n",
       "      <td>71.4086</td>\n",
       "      <td>128.8602</td>\n",
       "      <td>605.7551</td>\n",
       "      <td>22.40</td>\n",
       "      <td>45.00</td>\n",
       "      <td>1</td>\n",
       "    </tr>\n",
       "  </tbody>\n",
       "</table>\n",
       "</div>"
      ],
      "text/plain": [
       "   Zero crossing rate avg  Heart Beat 0.8~2.5hz from Avg  Peak Hz in 31~40hz  \\\n",
       "0                  0.0280                           69.0               31.00   \n",
       "1                  0.0372                           78.0               40.00   \n",
       "2                  0.0275                           78.0               39.50   \n",
       "3                  0.0720                           76.0               40.00   \n",
       "4                  0.0008                           83.0               38.78   \n",
       "\n",
       "   Spectral rolloff avg  Spectral centroid avg  Spectral bandwidth avg  \\\n",
       "0             3931.6415              3655.5029               5149.4551   \n",
       "1             5369.9529              4887.3982               6042.2007   \n",
       "2             5252.5443              4598.1605               6013.8062   \n",
       "3             7429.2183              7041.1570               6818.1680   \n",
       "4               71.4086               128.8602                605.7551   \n",
       "\n",
       "   Peak Hz in 21~30hz  Peak Hz in 41~50hz  Not Normal  \n",
       "0               23.33               43.67           1  \n",
       "1               30.00               43.25           0  \n",
       "2               24.71               41.50           1  \n",
       "3               25.00               50.00           0  \n",
       "4               22.40               45.00           1  "
      ]
     },
     "execution_count": 13,
     "metadata": {},
     "output_type": "execute_result"
    }
   ],
   "source": [
    "df = pd.read_csv(\"../../datasets/ds_original_synthetic_importance.csv\")\n",
    "df.head()"
   ]
  },
  {
   "cell_type": "code",
   "execution_count": 14,
   "metadata": {},
   "outputs": [],
   "source": [
    "X, y = df.drop(['Not Normal'],axis=1), df['Not Normal']"
   ]
  },
  {
   "cell_type": "code",
   "execution_count": 15,
   "metadata": {},
   "outputs": [],
   "source": [
    "standard_scaler = StandardScaler()\n",
    "X = standard_scaler.fit_transform(X)\n",
    "X_train, X_test, y_train, y_test = train_test_split(X, y, test_size=0.30, random_state=SEED)"
   ]
  },
  {
   "cell_type": "code",
   "execution_count": 16,
   "metadata": {},
   "outputs": [],
   "source": [
    "dt_classifier = DecisionTreeClassifier(max_depth=5, random_state=SEED)\n",
    "dt_classifier.fit(X_train, y_train)\n",
    "y_pred = dt_classifier.predict(X_test)"
   ]
  },
  {
   "cell_type": "code",
   "execution_count": 17,
   "metadata": {},
   "outputs": [
    {
     "name": "stdout",
     "output_type": "stream",
     "text": [
      "Voting Classifier: 0.68\n"
     ]
    }
   ],
   "source": [
    "score = accuracy_score(y_test, y_pred)\n",
    "print('Voting Classifier: {:.2f}'.format(score))"
   ]
  },
  {
   "cell_type": "code",
   "execution_count": 18,
   "metadata": {},
   "outputs": [],
   "source": [
    "target_names = ['Normal', 'Not Normal']"
   ]
  },
  {
   "cell_type": "code",
   "execution_count": 20,
   "metadata": {},
   "outputs": [
    {
     "name": "stdout",
     "output_type": "stream",
     "text": [
      "    Classification report for DecisionTreeClassifier\n",
      "-----------------------------------------------------------\n",
      "              precision    recall  f1-score   support\n",
      "\n",
      "      Normal      0.699     0.788     0.741      1742\n",
      "  Not Normal      0.646     0.532     0.584      1264\n",
      "\n",
      "    accuracy                          0.681      3006\n",
      "   macro avg      0.672     0.660     0.662      3006\n",
      "weighted avg      0.677     0.681     0.675      3006\n",
      "\n"
     ]
    }
   ],
   "source": [
    "print('    Classification report for DecisionTreeClassifier')\n",
    "print('-----------------------------------------------------------')\n",
    "\n",
    "print(metrics.classification_report(y_test, y_pred, digits=3, target_names=target_names))"
   ]
  },
  {
   "cell_type": "code",
   "execution_count": null,
   "metadata": {},
   "outputs": [],
   "source": []
  }
 ],
 "metadata": {
  "kernelspec": {
   "display_name": "Python 3",
   "language": "python",
   "name": "python3"
  },
  "language_info": {
   "codemirror_mode": {
    "name": "ipython",
    "version": 3
   },
   "file_extension": ".py",
   "mimetype": "text/x-python",
   "name": "python",
   "nbconvert_exporter": "python",
   "pygments_lexer": "ipython3",
   "version": "3.6.5"
  }
 },
 "nbformat": 4,
 "nbformat_minor": 2
}
