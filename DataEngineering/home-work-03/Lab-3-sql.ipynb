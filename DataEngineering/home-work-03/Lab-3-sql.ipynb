{
 "cells": [
  {
   "cell_type": "markdown",
   "metadata": {},
   "source": [
    "# Introduction to SQL\n",
    "*Due 5 PM, Tuesday, March 3rd, 2019*\n",
    "\n",
    "Our goal today is to begin learning SQL (for Structured Query Language). We'll make our web services API from last week persistent. To do this, we'll use Sqlite for the relational database.\n",
    "\n",
    "I chose Sqlite for this exercise because it's ubiquitous--it is the world's [\"Most Widely Deployed and Used Database Engine\"](https://sqlite.org/mostdeployed.html). It's already on your development machine even if you use Windows 10. So we can avoid installation complications and get going immediately.\n",
    "\n",
    "Sqlite is really a *library* that allows any application to be extended with database functionality. Although Sqlite is extremely powerful it isn't appropriate for all applications, specifically those with massive datasets and many concurrent writers. For such applications *client-server* databases such as PostGres or MySQL are a better fit.\n",
    "\n",
    "This lab is organized into two sections. The first part is a tutorial. It shows with examples how to install sqlite, connect to a database, create tables, run queries, and update the database. In the second part, the problem set, you will use the concepts from the tutorial to add a database layer to the web services API.\n",
    "\n",
    "## Setup and Installation\n",
    "\n",
    "To check whether sqlite3 is already installed on your system, run the magic shell command below:\n",
    "\n"
   ]
  },
  {
   "cell_type": "code",
   "execution_count": null,
   "metadata": {
    "inputHidden": false,
    "outputHidden": false
   },
   "outputs": [
    {
     "name": "stdout",
     "output_type": "stream",
     "text": [
      "/Users/ayub/anaconda3/bin/sqlite3\r\n"
     ]
    }
   ],
   "source": [
    "# determine if sqlite3 is installed\n",
    "! which sqlite3"
   ]
  },
  {
   "cell_type": "markdown",
   "metadata": {
    "inputHidden": false,
    "outputHidden": false
   },
   "source": [
    "The above command will print the location of the `sqlite3` executable. If you see some output, you're good to go. If not, follow the instructions [here](https://www.sqlite.org/download.html).\n",
    "\n",
    "We'll use the [SQLAlchemy](https://www.sqlalchemy.org) library to access Sqlite (and other databases) from Python. SQLAlchemy is an abstraction and adaptation layer that runs above most relational databases. (A Sqlite-specific library for Python also exists but it does not support any other database; SQLAlchemy works with most popular SQL databases.)\n",
    "\n",
    "SQLAlchemy provides two main ways to access databases: **core** and **ORM** (for Object Relational Mapping). We'll use the Core interface in this lab. With the Core interface, you write queries in *raw* SQL. The ORM interface is a higher-level abstraction. We'll explore the ORM interface next week.\n",
    "\n",
    "You can install SQLAlchemy with the following commands:"
   ]
  },
  {
   "cell_type": "code",
   "execution_count": 2,
   "metadata": {
    "inputHidden": false,
    "outputHidden": false
   },
   "outputs": [
    {
     "name": "stdout",
     "output_type": "stream",
     "text": [
      "Collecting package metadata: done\n",
      "Solving environment: done\n",
      "\n",
      "# All requested packages already installed.\n",
      "\n"
     ]
    }
   ],
   "source": [
    "# install sqlalchemy with conda\n",
    "import sys\n",
    "\n",
    "!conda install --yes --prefix {sys.prefix} sqlalchemy"
   ]
  },
  {
   "cell_type": "markdown",
   "metadata": {
    "inputHidden": false,
    "outputHidden": false
   },
   "source": [
    "## Connect to a Sqlite Database\n",
    "\n",
    "With SQLAlchemy installed, you can connect to a database with the `create_engine` function. An `engine` is the central entry point for communicating with a specific database.\n",
    "\n",
    "The first argument to `create_engine` specifies the kind of database to open. Here we'll open an *in-memory* sqlite database. The database won't be stored to disk. Instead it will disappear everytime the calling process (i.e., this Jupyter notebook) exits. A non-persistent database can be useful while learning: you get a blank database everytime you run the application.\n",
    "\n",
    "The second argument `echo=True` tells SQLAlchemy to verbosely print to the console all the SQL statements it generates.\n",
    "\n",
    "For more about the `create_engine` function see [here](https://docs.sqlalchemy.org/en/latest/core/engines.html#sqlite)."
   ]
  },
  {
   "cell_type": "code",
   "execution_count": 3,
   "metadata": {},
   "outputs": [],
   "source": [
    "import sqlalchemy\n",
    "from sqlalchemy import create_engine\n",
    "from sqlalchemy import inspect\n",
    "\n"
   ]
  },
  {
   "cell_type": "code",
   "execution_count": null,
   "metadata": {
    "inputHidden": false,
    "outputHidden": false
   },
   "outputs": [
    {
     "name": "stdout",
     "output_type": "stream",
     "text": [
      "1.2.7\n",
      "Engine(sqlite:///:memory:)\n"
     ]
    }
   ],
   "source": [
    "# Type of database to connect to. The following specifies an in-memory sqlite.\n",
    "db_name = 'sqlite:///:memory:'\n",
    "\n",
    "# use a URL like the following to open (and create if necessary)\n",
    "# a file-backed sqlite database:\n",
    "\n",
    "# db_name = 'sqlite:///my_sqlite_db.sqlite3'\n",
    "# the above will create a database relative to current working directory. See\n",
    "# the documentation for how to create a database in a different location.\n",
    "\n",
    "\n",
    "# create an engine\n",
    "engine = create_engine(db_name, echo=True)\n",
    "print(sqlalchemy.__version__)\n",
    "print(engine)"
   ]
  },
  {
   "cell_type": "code",
   "execution_count": null,
   "metadata": {},
   "outputs": [],
   "source": []
  },
  {
   "cell_type": "markdown",
   "metadata": {
    "inputHidden": false,
    "outputHidden": false
   },
   "source": [
    "## Create Your First Table\n",
    "\n",
    "At this point you'll have an empty database created in memory (not persistent storage). To do anything useful with a relational database, you have to first create a table (or tables) and insert some rows into those tables.\n",
    "\n",
    "Creating a table defines the names and types of the attributes (columns) of the database.\n",
    "\n",
    "We'll create a simple table called `cities`. It will have the following columns:\n",
    "\n",
    "```json\n",
    "{\n",
    "    \"id\": 'the primary key for the table',\n",
    "    \"name\": 'the city name, a text string',\n",
    "    \"lat\": 'latitude, a floating point number',\n",
    "    \"lng\": 'longitude, a floating point number',\n",
    "    \"country\": 'country, a text string',\n",
    "    \"population\": 'city population, an integer'\n",
    "}\n",
    "```\n",
    "\n",
    "To create the `cities` table, use the `create table` SQL statement as shown below. The `engine.execute()` method is used to send the raw SQL to the connected database.\n",
    "\n",
    "\n"
   ]
  },
  {
   "cell_type": "code",
   "execution_count": 6,
   "metadata": {
    "inputHidden": false,
    "outputHidden": false
   },
   "outputs": [
    {
     "name": "stdout",
     "output_type": "stream",
     "text": [
      "2019-03-02 10:37:28,346 INFO sqlalchemy.engine.base.Engine create table cities(\n",
      "  id integer primary key,\n",
      "  name text not null,\n",
      "  lat float not null,\n",
      "  lng float not null,\n",
      "  state text not null,\n",
      "  country text not null,\n",
      "  population integer not null\n",
      ");\n",
      "\n",
      "2019-03-02 10:37:28,348 INFO sqlalchemy.engine.base.Engine ()\n",
      "2019-03-02 10:37:28,350 INFO sqlalchemy.engine.base.Engine COMMIT\n"
     ]
    },
    {
     "data": {
      "text/plain": [
       "<sqlalchemy.engine.result.ResultProxy at 0x108e54780>"
      ]
     },
     "execution_count": 6,
     "metadata": {},
     "output_type": "execute_result"
    }
   ],
   "source": [
    "# drop a table cities in case it existed already\n",
    "drop_table_statement = \"\"\"drop table cities\"\"\"\n",
    "#engine.execute(drop_table_statement)\n",
    "\n",
    "# sql statement\n",
    "create_table_stmt = \"\"\"create table cities(\n",
    "  id integer primary key,\n",
    "  name text not null,\n",
    "  lat float not null,\n",
    "  lng float not null,\n",
    "  state text not null,\n",
    "  country text not null,\n",
    "  population integer not null\n",
    ");\n",
    "\"\"\"\n",
    "engine.execute(create_table_stmt)"
   ]
  },
  {
   "cell_type": "markdown",
   "metadata": {
    "inputHidden": false,
    "outputHidden": false
   },
   "source": [
    "You now have an empty database created in memory (not persistent storage). The following code block shows how to retrieve information about the `users` table you just created:"
   ]
  },
  {
   "cell_type": "code",
   "execution_count": 7,
   "metadata": {},
   "outputs": [
    {
     "name": "stdout",
     "output_type": "stream",
     "text": [
      "2019-03-02 10:37:34,688 INFO sqlalchemy.engine.base.Engine SELECT name FROM sqlite_master WHERE type='table' ORDER BY name\n",
      "2019-03-02 10:37:34,690 INFO sqlalchemy.engine.base.Engine ()\n"
     ]
    },
    {
     "data": {
      "text/plain": [
       "['cities']"
      ]
     },
     "execution_count": 7,
     "metadata": {},
     "output_type": "execute_result"
    }
   ],
   "source": [
    "engine.table_names()"
   ]
  },
  {
   "cell_type": "code",
   "execution_count": 8,
   "metadata": {
    "inputHidden": false,
    "outputHidden": false
   },
   "outputs": [
    {
     "name": "stdout",
     "output_type": "stream",
     "text": [
      "2019-03-02 10:37:39,433 INFO sqlalchemy.engine.base.Engine SELECT name FROM sqlite_master WHERE type='table' ORDER BY name\n",
      "2019-03-02 10:37:39,435 INFO sqlalchemy.engine.base.Engine ()\n",
      "['cities']\n",
      "2019-03-02 10:37:39,437 INFO sqlalchemy.engine.base.Engine PRAGMA table_info(\"cities\")\n",
      "2019-03-02 10:37:39,438 INFO sqlalchemy.engine.base.Engine ()\n",
      "{'name': 'id', 'type': INTEGER(), 'nullable': True, 'default': None, 'autoincrement': 'auto', 'primary_key': 1}\n",
      "{'name': 'name', 'type': TEXT(), 'nullable': False, 'default': None, 'autoincrement': 'auto', 'primary_key': 0}\n",
      "{'name': 'lat', 'type': FLOAT(), 'nullable': False, 'default': None, 'autoincrement': 'auto', 'primary_key': 0}\n",
      "{'name': 'lng', 'type': FLOAT(), 'nullable': False, 'default': None, 'autoincrement': 'auto', 'primary_key': 0}\n",
      "{'name': 'state', 'type': TEXT(), 'nullable': False, 'default': None, 'autoincrement': 'auto', 'primary_key': 0}\n",
      "{'name': 'country', 'type': TEXT(), 'nullable': False, 'default': None, 'autoincrement': 'auto', 'primary_key': 0}\n",
      "{'name': 'population', 'type': INTEGER(), 'nullable': False, 'default': None, 'autoincrement': 'auto', 'primary_key': 0}\n"
     ]
    }
   ],
   "source": [
    "# inspect the database\n",
    "inspector = inspect(engine)\n",
    "\n",
    "# Get table information\n",
    "print(inspector.get_table_names())\n",
    "\n",
    "# Get column information\n",
    "for col in inspector.get_columns('cities'):\n",
    "    print(col)\n"
   ]
  },
  {
   "cell_type": "markdown",
   "metadata": {
    "inputHidden": false,
    "outputHidden": false
   },
   "source": [
    "## Insert City Data Into the Database\n",
    "\n",
    "Next, we will use a SQL `insert` statement to add some cities to the database. (The data for this example came from [SimpleMaps](https://simplemaps.com/data/us-cities).)\n",
    "\n",
    "Note the use of `?` placeholders in the `insert` statement. These are positional parameters that are filled in with actual values at runtime."
   ]
  },
  {
   "cell_type": "code",
   "execution_count": 9,
   "metadata": {
    "inputHidden": false,
    "outputHidden": false
   },
   "outputs": [
    {
     "name": "stdout",
     "output_type": "stream",
     "text": [
      "inserting Ammon\n",
      "2019-03-02 10:37:42,966 INFO sqlalchemy.engine.base.Engine \n",
      "insert into cities (name, lat, lng, state, country, population)\n",
      "  values(?, ?, ?, ?, ?, ?)\n",
      "\n",
      "2019-03-02 10:37:42,968 INFO sqlalchemy.engine.base.Engine ('Ammon', 43.4748, -111.9559, 'Idaho', 'USA', 15252)\n",
      "2019-03-02 10:37:42,970 INFO sqlalchemy.engine.base.Engine COMMIT\n",
      "inserting Idaho Falls\n",
      "2019-03-02 10:37:42,972 INFO sqlalchemy.engine.base.Engine \n",
      "insert into cities (name, lat, lng, state, country, population)\n",
      "  values(?, ?, ?, ?, ?, ?)\n",
      "\n",
      "2019-03-02 10:37:42,974 INFO sqlalchemy.engine.base.Engine ('Idaho Falls', 43.4878, -112.0359, 'Idaho', 'USA', 96166)\n",
      "2019-03-02 10:37:42,976 INFO sqlalchemy.engine.base.Engine COMMIT\n",
      "inserting Iona\n",
      "2019-03-02 10:37:42,977 INFO sqlalchemy.engine.base.Engine \n",
      "insert into cities (name, lat, lng, state, country, population)\n",
      "  values(?, ?, ?, ?, ?, ?)\n",
      "\n",
      "2019-03-02 10:37:42,979 INFO sqlalchemy.engine.base.Engine ('Iona', 43.5252, -111.931, 'Idaho', 'USA', 2213)\n",
      "2019-03-02 10:37:42,981 INFO sqlalchemy.engine.base.Engine COMMIT\n",
      "inserting Island Park\n",
      "2019-03-02 10:37:42,982 INFO sqlalchemy.engine.base.Engine \n",
      "insert into cities (name, lat, lng, state, country, population)\n",
      "  values(?, ?, ?, ?, ?, ?)\n",
      "\n",
      "2019-03-02 10:37:42,983 INFO sqlalchemy.engine.base.Engine ('Island Park', 44.5251, -111.3581, 'Idaho', 'USA', 272)\n",
      "2019-03-02 10:37:42,984 INFO sqlalchemy.engine.base.Engine COMMIT\n",
      "inserting Ririe\n",
      "2019-03-02 10:37:42,985 INFO sqlalchemy.engine.base.Engine \n",
      "insert into cities (name, lat, lng, state, country, population)\n",
      "  values(?, ?, ?, ?, ?, ?)\n",
      "\n",
      "2019-03-02 10:37:42,986 INFO sqlalchemy.engine.base.Engine ('Ririe', 43.6326, -111.7716, 'Idaho', 'USA', 643)\n",
      "2019-03-02 10:37:42,987 INFO sqlalchemy.engine.base.Engine COMMIT\n",
      "inserting Sugar City\n",
      "2019-03-02 10:37:42,989 INFO sqlalchemy.engine.base.Engine \n",
      "insert into cities (name, lat, lng, state, country, population)\n",
      "  values(?, ?, ?, ?, ?, ?)\n",
      "\n",
      "2019-03-02 10:37:42,989 INFO sqlalchemy.engine.base.Engine ('Sugar City', 43.8757, -111.7518, 'Idaho', 'USA', 1361)\n",
      "2019-03-02 10:37:42,990 INFO sqlalchemy.engine.base.Engine COMMIT\n",
      "inserting Teton\n",
      "2019-03-02 10:37:42,991 INFO sqlalchemy.engine.base.Engine \n",
      "insert into cities (name, lat, lng, state, country, population)\n",
      "  values(?, ?, ?, ?, ?, ?)\n",
      "\n",
      "2019-03-02 10:37:42,992 INFO sqlalchemy.engine.base.Engine ('Teton', 43.8872, -111.6726, 'Idaho', 'USA', 714)\n",
      "2019-03-02 10:37:42,993 INFO sqlalchemy.engine.base.Engine COMMIT\n"
     ]
    }
   ],
   "source": [
    "cities = [\n",
    "    (\"Ammon\", 43.4748, -111.9559, \"Idaho\", \"USA\", 15252),\n",
    "    (\"Idaho Falls\", 43.4878, -112.0359, \"Idaho\", \"USA\", 96166),\n",
    "    (\"Iona\", 43.5252, -111.931, \"Idaho\", \"USA\",\t2213),\n",
    "    (\"Island Park\",\t44.5251, -111.3581, \"Idaho\", \"USA\", 272),\n",
    "    (\"Ririe\", 43.6326, -111.7716,\"Idaho\", \"USA\",643),\n",
    "    (\"Sugar City\", 43.8757,\t-111.7518, \"Idaho\" ,\"USA\", 1361),\n",
    "    (\"Teton\", 43.8872, -111.6726, \"Idaho\", \"USA\", 714),\n",
    "]\n",
    "\n",
    "insert_statement = \"\"\"\n",
    "insert into cities (name, lat, lng, state, country, population)\n",
    "  values(?, ?, ?, ?, ?, ?)\n",
    "\"\"\"\n",
    "\n",
    "for c in cities:\n",
    "    print(f\"inserting {c[0]}\")\n",
    "    # insert into db; note unpacking of tuple (*c)\n",
    "    engine.execute(insert_statement, *c)\n",
    "    "
   ]
  },
  {
   "cell_type": "markdown",
   "metadata": {
    "inputHidden": false,
    "outputHidden": false
   },
   "source": [
    "## Retrieve Selected Rows\n",
    "\n",
    "We can now retrieve a subset of the cities with the SQL `select` statement. Here we use a `where` retrieve cities with a `population` less than `1000`.\n",
    "\n",
    "In the second `select` We also use a `count` function to compute the number cities with a population greater than `1000`."
   ]
  },
  {
   "cell_type": "code",
   "execution_count": 10,
   "metadata": {},
   "outputs": [
    {
     "name": "stdout",
     "output_type": "stream",
     "text": [
      "2019-03-02 10:37:50,329 INFO sqlalchemy.engine.base.Engine SELECT name FROM sqlite_master WHERE type='table' ORDER BY name\n",
      "2019-03-02 10:37:50,330 INFO sqlalchemy.engine.base.Engine ()\n",
      "['cities']\n",
      "2019-03-02 10:37:50,332 INFO sqlalchemy.engine.base.Engine select * from cities where population < 1000\n",
      "2019-03-02 10:37:50,333 INFO sqlalchemy.engine.base.Engine ()\n",
      "{'id': 4, 'name': 'Island Park', 'lat': 44.5251, 'lng': -111.3581, 'state': 'Idaho', 'country': 'USA', 'population': 272}\n",
      "{'id': 5, 'name': 'Ririe', 'lat': 43.6326, 'lng': -111.7716, 'state': 'Idaho', 'country': 'USA', 'population': 643}\n",
      "{'id': 7, 'name': 'Teton', 'lat': 43.8872, 'lng': -111.6726, 'state': 'Idaho', 'country': 'USA', 'population': 714}\n",
      "2019-03-02 10:37:50,335 INFO sqlalchemy.engine.base.Engine select count(name) from cities where population > 10000\n",
      "2019-03-02 10:37:50,336 INFO sqlalchemy.engine.base.Engine ()\n",
      "{'count(name)': 2}\n"
     ]
    }
   ],
   "source": [
    "print(engine.table_names())\n",
    "\n",
    "c = engine.execute('select * from cities where population < 1000')\n",
    "\n",
    "for row in c:\n",
    "    print(dict(row))\n",
    "    \n",
    "cnt = engine.execute('select count(name) from cities where population > 10000')\n",
    "for row in cnt:\n",
    "    print(dict(row))"
   ]
  },
  {
   "cell_type": "markdown",
   "metadata": {
    "inputHidden": false,
    "outputHidden": false
   },
   "source": [
    "## Update Selected Rows\n",
    "\n",
    "In this example we shall change the 'State' from 'Idaho' to 'ID' for all cities with a `population` greater than `10000`. To do this we will utilize a SQL `update` command:\n"
   ]
  },
  {
   "cell_type": "code",
   "execution_count": 11,
   "metadata": {
    "inputHidden": false,
    "outputHidden": false
   },
   "outputs": [
    {
     "name": "stdout",
     "output_type": "stream",
     "text": [
      "2019-03-02 10:37:54,128 INFO sqlalchemy.engine.base.Engine \n",
      "update cities\n",
      "set state = ?\n",
      "where population > ?\n",
      "\n",
      "2019-03-02 10:37:54,130 INFO sqlalchemy.engine.base.Engine ('ID', 10000)\n",
      "2019-03-02 10:37:54,132 INFO sqlalchemy.engine.base.Engine COMMIT\n",
      "2019-03-02 10:37:54,133 INFO sqlalchemy.engine.base.Engine select id, population, state from cities where population > 10000\n",
      "2019-03-02 10:37:54,134 INFO sqlalchemy.engine.base.Engine ()\n",
      "(1, 15252, 'ID')\n",
      "(2, 96166, 'ID')\n"
     ]
    }
   ],
   "source": [
    "update_statement = \"\"\"\n",
    "update cities\n",
    "set state = ?\n",
    "where population > ?\n",
    "\"\"\"\n",
    "\n",
    "engine.execute(update_statement, 'ID', 10000)\n",
    "\n",
    "# read updated rows to see that the state attribute was changed\n",
    "cs = engine.execute('select id, population, state from cities where population > 10000')\n",
    "\n",
    "# print out each row\n",
    "for row in cs:\n",
    "    print(row)"
   ]
  },
  {
   "cell_type": "markdown",
   "metadata": {},
   "source": [
    "# Problem Set\n",
    "*50 Points*\n",
    "\n",
    "The above tutorial should have provided you with enough background to get started with the homework, which is to migrate your web app `users` resource to sqlite. The problems below are identical to those from last week except you will be retrieving, creating, and updating a database table instead of using an in-memory list of users.\n",
    "\n",
    "\n",
    "## Setup: Migrate Web Service Users to Sqlite\n",
    "\n",
    "\n",
    "Before proceeding to the problem set, update `api.py` to initialize and connect to the database. Please follow these steps:\n",
    "\n",
    "1. Install [Flask-SQLAlchemy](http://flask-sqlalchemy.pocoo.org/2.3/#), a library that simplifies access to SQLAlchemy from within Flask:\n",
    "    >```bash\n",
    "    conda install Flask-SQLAlchemy\n",
    "    ```\n",
    "1. Import `flask_sqlalchemy` into `api.py`.\n",
    "    >```python\n",
    "    from flask_sqlalchemy import SQLAlchemy  \n",
    "    ```\n",
    "1. Update `flask` startup code by replacing it with this:\n",
    "```python\n",
    "    if __name__ == '__main__':\n",
    "    \n",
    "        # save database handle in module-level global\n",
    "        global __db__\n",
    "\n",
    "        # use in-memory database for debugging\n",
    "        app.config['SQLALCHEMY_DATABASE_URI'] = 'sqlite:///:memory:'\n",
    "    \n",
    "        # app.config['SQLALCHEMY_DATABASE_URI'] = 'sqlite:///db.sqlite'\n",
    "\n",
    "        __db__ = SQLAlchemy(app)\n",
    "        engine = __db__.engine\n",
    "\n",
    "        # put your database initialization statements here\n",
    "        # create the users table\n",
    "\n",
    "        # insert each item from USERS list into the users table\n",
    "        app.run(debug=True)\n",
    " ```\n",
    "\n",
    "\n"
   ]
  },
  {
   "cell_type": "markdown",
   "metadata": {},
   "source": [
    "## Problem 1: List Users\n",
    "*10 Points*\n",
    "\n",
    "Modify `api.py` to retrieve the collection of users. Essentially, you will convert your existing handler that returns data from the variable `USERS` to read from the database.\n",
    "\n",
    "Run the test below to show that your code is correct.\n",
    "\n"
   ]
  },
  {
   "cell_type": "code",
   "execution_count": null,
   "metadata": {},
   "outputs": [],
   "source": [
    "import unittest\n",
    "import requests\n",
    "import json\n",
    "\n",
    "# The base URL for all HTTP requests\n",
    "BASE = 'http://localhost:5000/users'\n",
    "\n",
    "# set Content-Type to application/json for all HTTP requests\n",
    "headers={'Content-Type': 'application/json'}\n",
    "\n",
    "class Problem1Test(unittest.TestCase):\n",
    "    \n",
    "    # test\n",
    "    def test_users_get_collection(self):\n",
    "        r = requests.get(BASE, headers = headers)\n",
    "        self.assertEqual(r.status_code, 200)\n",
    "        \n",
    "        j = r.json()\n",
    "        self.assertEqual(type(j), list)\n",
    "        self.assertGreater(len(j), 0)\n",
    "        \n",
    "        # extract the first element of the list\n",
    "        first = j[0]\n",
    "\n",
    "        # check all attributes exist\n",
    "        self.assertIn('id', first)\n",
    "        self.assertIn('first', first)\n",
    "        self.assertIn('last', first)\n",
    "        self.assertIn('email', first)\n",
    "        self.assertIn('role', first)\n",
    "        self.assertIn('active', first)\n",
    "\n",
    "    \n",
    "\n",
    "# Run the unit tests          \n",
    "unittest.main(defaultTest=\"Problem1Test\", argv=['ignored', '-v'], exit=False)"
   ]
  },
  {
   "cell_type": "markdown",
   "metadata": {},
   "source": [
    "## Problem 2: Retrieve a Single User\n",
    "*10 Points*\n",
    "\n",
    "Modify the method `GET /users/{id}` to retrieve a specific user by ID to use the database instead of the `USERS` list.\n",
    "\n",
    "This method shall return an HTTP status code of `200` on success and `404` (not found) if the user with the specified ID does not exist. See the unit tests below."
   ]
  },
  {
   "cell_type": "code",
   "execution_count": null,
   "metadata": {},
   "outputs": [],
   "source": [
    "class Problem2Test(unittest.TestCase):\n",
    "    \n",
    "    def test_users_get_member(self):\n",
    "        \n",
    "        r = requests.get(BASE + '/0')\n",
    "        self.assertEqual(r.status_code, 200)\n",
    "        print(r.headers)\n",
    "        j = r.json()\n",
    "        \n",
    "        self.assertIs(type(j), dict)\n",
    "        self.assertEqual(j['id'], 0)\n",
    "        self.assertIn('first', j)\n",
    "        self.assertIn('last', j)\n",
    "        self.assertIn('email', j)\n",
    "        self.assertIn('role', j)\n",
    "        \n",
    "    def test_users_wont_get_nonexistent_member(self):\n",
    "        \n",
    "        r = requests.get(BASE + '/1000')\n",
    "        self.assertEqual(r.status_code, 404)\n",
    "    \n",
    "# Run the unit tests          \n",
    "unittest.main(defaultTest=\"Problem2Test\", argv=['ignored', '-v'], exit=False)"
   ]
  },
  {
   "cell_type": "markdown",
   "metadata": {},
   "source": [
    "## Problem 3: Create a User\n",
    "*10 Points*\n",
    "\n",
    "Modify the `POST /users` method to save the user to the database.\n",
    "\n",
    "All of these parameters are required and your code should enforce this. If validation succeeds, add the new user to the `USERS` list and give it a unique ID. \n",
    "\n",
    "Return HTTP status code `201` (created) if the operation succeeds and `422` (Unprocessable Entity) if validation fails.\n",
    "\n",
    "The created user will be returned as JSON if the operation succeeds.\n",
    "\n"
   ]
  },
  {
   "cell_type": "code",
   "execution_count": null,
   "metadata": {},
   "outputs": [],
   "source": [
    "class Problem3Test(unittest.TestCase):\n",
    "    \n",
    "    \n",
    "    def test_users_create(self):\n",
    "        data = json.dumps({'first': 'Sammy', 'last': 'Davis', 'email': 'sammy@cuny.edu'})\n",
    "\n",
    "        r = requests.post(BASE, headers = headers, data = data)\n",
    "        self.assertEqual(r.status_code, 201)\n",
    "        \n",
    "    def test_wont_create_user_without_first_name(self):\n",
    "        # simple validation (missing parameters)\n",
    "        data = json.dumps({'last': 'Davis', 'email': 'sammy@cuny.edu'})\n",
    "\n",
    "        r = requests.post(BASE, headers = self.headers, data = data)\n",
    "        self.assertEqual(r.status_code, 422)\n",
    "        \n",
    "        \n",
    "# Run the unit tests          \n",
    "unittest.main(defaultTest=\"Problem3Test\", argv=['ignored', '-v'], exit=False)"
   ]
  },
  {
   "cell_type": "markdown",
   "metadata": {},
   "source": [
    "## Problem 4: Update a User\n",
    "*10 Points*\n",
    "\n",
    "Change the method that handles user updates (`PATCH/PUT /users/<id>`) so that it writes the update to the database.\n",
    "\n",
    "    "
   ]
  },
  {
   "cell_type": "code",
   "execution_count": null,
   "metadata": {},
   "outputs": [],
   "source": [
    "\n",
    "class Problem4Test(unittest.TestCase):\n",
    "        \n",
    "    def test_users_update_member(self):\n",
    "        data = json.dumps({'first': 'testing'})\n",
    "        r = requests.patch(BASE + '/0', headers = headers, data = data)\n",
    "        self.assertEqual(r.status_code, 200)\n",
    "        \n",
    "        j = r.json()\n",
    "        self.assertIs(type(j), dict)\n",
    "        self.assertEqual(j['id'], 0)\n",
    "        self.assertEqual(j['first'], 'testing')\n",
    "        \n",
    "        # now retrieve the same object to ensure that it was really updated\n",
    "        r = requests.get(BASE + '/0', headers = headers, data = data)\n",
    "        self.assertEqual(r.status_code, 200)\n",
    "        \n",
    "        j = r.json()\n",
    "        self.assertEqual(j['first'], 'testing')\n",
    "        \n",
    "        \n",
    "    def test_users_update_member_not_found(self):\n",
    "        data = json.dumps({'first': 'testing'})\n",
    "        r = requests.patch(BASE + '/1000', headers = headers, data = data)\n",
    "        self.assertEqual(r.status_code, 404)\n",
    "        \n",
    "        \n",
    "\n",
    "# Run the unit tests          \n",
    "unittest.main(defaultTest=\"Problem4Test\", argv=['ignored', '-v'], exit=False)\n",
    "                         "
   ]
  },
  {
   "cell_type": "markdown",
   "metadata": {},
   "source": [
    "## Problem 5: Deactivate a User\n",
    "\n",
    "Modify the handler for \n",
    "`POST /users/<id>/deactivate` so that it persists the deactivation to the database.\n",
    "\n"
   ]
  },
  {
   "cell_type": "code",
   "execution_count": null,
   "metadata": {},
   "outputs": [],
   "source": [
    "class Problem5Test(unittest.TestCase):\n",
    "        \n",
    "    def test_users_deactivate_member(self):\n",
    "\n",
    "        r = requests.post(BASE + '/0/deactivate', headers = headers)\n",
    "        self.assertEqual(r.status_code, 200)\n",
    "        \n",
    "        j = r.json()\n",
    "        self.assertIs(type(j), dict)\n",
    "        self.assertEqual(j['active'], False)\n",
    "        \n",
    "\n",
    "# Run the unit tests          \n",
    "unittest.main(defaultTest=\"Problem5Test\", argv=['ignored', '-v'], exit=False)\n"
   ]
  }
 ],
 "metadata": {
  "kernel_info": {
   "name": "python3"
  },
  "kernelspec": {
   "display_name": "Python 3",
   "language": "python",
   "name": "python3"
  },
  "language_info": {
   "codemirror_mode": {
    "name": "ipython",
    "version": 3
   },
   "file_extension": ".py",
   "mimetype": "text/x-python",
   "name": "python",
   "nbconvert_exporter": "python",
   "pygments_lexer": "ipython3",
   "version": "3.6.5"
  },
  "nteract": {
   "version": "0.12.3"
  }
 },
 "nbformat": 4,
 "nbformat_minor": 2
}
